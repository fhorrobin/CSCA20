{
 "cells": [
  {
   "cell_type": "markdown",
   "metadata": {},
   "source": [
    "# CSCA20: Lab 9, Week 10\n",
    "## Databases"
   ]
  },
  {
   "cell_type": "markdown",
   "metadata": {},
   "source": [
    "We will work with databases of type SQLite. Python has builtin methods to work with them as you saw in class. I will review the basic commands you will need to complete lab 9.\n",
    "\n",
    "The first thing we want to do is connect to the database. If it doesn't exist this will create it."
   ]
  },
  {
   "cell_type": "code",
   "execution_count": 11,
   "metadata": {},
   "outputs": [],
   "source": [
    "import sqlite3\n",
    "\n",
    "con = sqlite3.connect('planets.db')\n",
    "\n",
    "# Now we make a cursor to connect with the data\n",
    "cur = con.cursor()\n",
    "\n",
    "# For now we will commit the changes (none)\n",
    "con.commit()\n",
    "\n",
    "# And close the cursor and the connection\n",
    "cur.close()\n",
    "con.close()"
   ]
  },
  {
   "cell_type": "markdown",
   "metadata": {},
   "source": [
    "That is the basic syntax of how we will use the databse. Now we need to actually write or read data with it.\n",
    "\n",
    "Let's look at some of the commands we can use:\n",
    "\n",
    "To run a SQL command we use:\n",
    "\n",
    "```Python\n",
    "cur.execute('sql command')\n",
    "```\n",
    "\n",
    "If we want to create a new table we use:\n",
    "\n",
    "```Python\n",
    "cur.execute('''CREATE TABLE Precipitation(City TEXT, Snow REAL, Total INTEGER, Days INTEGER)''')\n",
    "```\n",
    "\n",
    "Here we create a table named Precipitation\n",
    "The table has colums: City, Snow, Total, Days\n",
    "\n",
    "And the types correspond to Python types as:\n",
    " - REAL -> float\n",
    " - TEXT -> str\n",
    " - INTEGER -> int\n"
   ]
  },
  {
   "cell_type": "markdown",
   "metadata": {},
   "source": [
    "Some other useful commands are:\n",
    "\n",
    "1. To delete (drop) a table:\n",
    "```Python\n",
    "cur.execute('DROP TABLE Precipitation')\n",
    "```\n",
    "\n",
    "2. Insert a row into the table:\n",
    "```Python\n",
    "cur.execute('''INSERT INTO Precipitation VALUES (\"St. John\\'s\", 322.1, 1400, 200)''')\n",
    "```\n",
    "Alternatively:\n",
    "```Python\n",
    "cur.execute('''INSERT INTO Precipitation VALUES (?,?,?,?)''', (\"St. John\\'s\", 322.1, 1400, 200))\n",
    "```\n",
    "Or:\n",
    "```Python\n",
    "city_name = \"St. John\\'s\"\n",
    "snow = 322.1\n",
    "total = 1400\n",
    "days = 200\n",
    "cur.execute('''INSERT INTO Precipitation VALUES (?,?,?,?)''', (city_name, snow, total, days))\n",
    "```\n",
    "\n",
    "3. Fetch data from a table\n",
    "```Python\n",
    "# Select all (*) columns\n",
    "cur.execute('SELECT * FROM Precipitation')\n",
    "```\n",
    "And then to use the data:\n",
    "```Python\n",
    "# Retrieve one line\n",
    "line = cur.fetchone()\n",
    "```\n",
    "```Python\n",
    "# Retrieve all lines\n",
    "data = cur.fetchall()\n",
    "```\n",
    "\n",
    "```fetchone()``` and ```fetchall()``` return tuples containing the selected data."
   ]
  },
  {
   "cell_type": "markdown",
   "metadata": {},
   "source": [
    "Now let's try an example of using databases to store data and then read it back."
   ]
  },
  {
   "cell_type": "code",
   "execution_count": 12,
   "metadata": {},
   "outputs": [],
   "source": [
    "import sqlite3\n",
    "\n",
    "def populate_planets(db, reader):\n",
    "    \"\"\"(str, reader) -> None\n",
    "    Given the name of a database as a string and an\n",
    "    open file, cereate the table planets and populate\n",
    "    it with data.\n",
    "    \"\"\"\n",
    "    # Open a connection with db\n",
    "    con = sqlite3.connect(db)\n",
    "    \n",
    "    # Cursor to interact with the databse\n",
    "    cur = con.cursor()\n",
    "    \n",
    "    # create table\n",
    "    cur.execute('CREATE TABLE Planets(Name TEXT, Mass FLOAT, X FLOAT, Y FLOAT, Z FLOAT)')\n",
    "    \n",
    "    # Read the data and insert into the table line by line\n",
    "    for line in reader:\n",
    "        # My data is just divided by spaces so I just use split\n",
    "        line = line.split()\n",
    "       \n",
    "        # Store the data\n",
    "        name = line[0].strip()\n",
    "        mass = float(line[1])\n",
    "        x = float(line[2])\n",
    "        y = float(line[3])\n",
    "        z = float(line[4])\n",
    "        \n",
    "        # Insert into db\n",
    "        cur.execute('''INSERT INTO Planets VALUES (?,?,?,?,?)''', (name, mass, x, y, z))\n",
    "        \n",
    "    # Commit the changes\n",
    "    con.commit()\n",
    "    \n",
    "    # Close connection\n",
    "    cur.close()\n",
    "    con.close()\n",
    "    "
   ]
  },
  {
   "cell_type": "code",
   "execution_count": 13,
   "metadata": {},
   "outputs": [],
   "source": [
    "# Program to try the function\n",
    "FILENAME = \"solar_sys.txt\"\n",
    "DB_NAME = \"Planets.db\"\n",
    "\n",
    "file = open(FILENAME, 'r')\n",
    "\n",
    "populate_planets(DB_NAME, file)\n",
    "\n",
    "file.close()"
   ]
  },
  {
   "cell_type": "markdown",
   "metadata": {},
   "source": [
    "Now the databse should contain the data. Note that a db is not a text file so you cannot just \"open\" it in a text editr and see the data. We will read it back in in Python to see it. \n",
    "\n",
    "Let's try reading back just the mass and name"
   ]
  },
  {
   "cell_type": "code",
   "execution_count": 14,
   "metadata": {},
   "outputs": [
    {
     "name": "stdout",
     "output_type": "stream",
     "text": [
      "('sun', 1.988544e+30)\n",
      "('mercury', 3.302e+23)\n",
      "('venus', 4.8685e+24)\n",
      "('earth', 5.97219e+24)\n",
      "('mars', 6.4185e+23)\n",
      "('jupiter', 1.89813e+27)\n",
      "('saturn', 5.68319e+26)\n",
      "('uranus', 8.68103e+25)\n",
      "('neptune', 1.0241e+26)\n"
     ]
    }
   ],
   "source": [
    "import sqlite3\n",
    "\n",
    "con = sqlite3.connect(\"Planets.db\")\n",
    "\n",
    "cur = con.cursor()\n",
    "\n",
    "cur.execute('''SELECT Name, Mass FROM Planets''')\n",
    "\n",
    "for line in cur:\n",
    "    print(line)\n",
    "    \n",
    "cur.close()\n",
    "con.close()"
   ]
  },
  {
   "cell_type": "markdown",
   "metadata": {},
   "source": [
    "We can also select only a subset of items by defining a condition. These conditions are similar to python conditions:"
   ]
  },
  {
   "cell_type": "code",
   "execution_count": 15,
   "metadata": {},
   "outputs": [
    {
     "name": "stdout",
     "output_type": "stream",
     "text": [
      "('sun', 1.988544e+30)\n"
     ]
    }
   ],
   "source": [
    "import sqlite3\n",
    "\n",
    "con = sqlite3.connect(\"Planets.db\")\n",
    "\n",
    "cur = con.cursor()\n",
    "\n",
    "cur.execute('''SELECT Name, Mass FROM Planets WHERE Name=\"sun\"''')\n",
    "\n",
    "for line in cur:\n",
    "    print(line)\n",
    "    \n",
    "cur.close()\n",
    "con.close()"
   ]
  },
  {
   "cell_type": "code",
   "execution_count": 16,
   "metadata": {},
   "outputs": [
    {
     "name": "stdout",
     "output_type": "stream",
     "text": [
      "('mercury', 3.302e+23)\n",
      "('venus', 4.8685e+24)\n",
      "('earth', 5.97219e+24)\n",
      "('mars', 6.4185e+23)\n"
     ]
    }
   ],
   "source": [
    "import sqlite3\n",
    "\n",
    "con = sqlite3.connect(\"Planets.db\")\n",
    "\n",
    "cur = con.cursor()\n",
    "\n",
    "cur.execute('''SELECT Name, Mass FROM Planets WHERE mass<\"1e25\"''')\n",
    "\n",
    "for line in cur:\n",
    "    print(line)\n",
    "    \n",
    "cur.close()\n",
    "con.close()"
   ]
  },
  {
   "cell_type": "markdown",
   "metadata": {},
   "source": [
    "We can also delete items in a similar way:"
   ]
  },
  {
   "cell_type": "code",
   "execution_count": 17,
   "metadata": {},
   "outputs": [],
   "source": [
    "import sqlite3\n",
    "\n",
    "con = sqlite3.connect(\"Planets.db\")\n",
    "\n",
    "cur = con.cursor()\n",
    "\n",
    "cur.execute('''DELETE FROM Planets WHERE mass<\"1e25\"''')\n",
    "\n",
    "con.commit()\n",
    "    \n",
    "cur.close()\n",
    "con.close()"
   ]
  },
  {
   "cell_type": "markdown",
   "metadata": {},
   "source": [
    "Now look at the db:"
   ]
  },
  {
   "cell_type": "code",
   "execution_count": 27,
   "metadata": {},
   "outputs": [
    {
     "name": "stdout",
     "output_type": "stream",
     "text": [
      "[('sun', 1.988544e+30, 49140.3347836458, -363271.5592552171, -10491.48558556447), ('jupiter', 1.89813e+27, -777841420.2838075, 224451869.927134, 16474417.32604697), ('saturn', 5.68319e+26, -281880540.0917871, 1321479657.136385, -11774698.69993168), ('uranus', 8.68103e+25, 2668275057.715974, -1368207197.729832, -39654566.07834578), ('neptune', 1.0241e+26, 3068964883.54269, -3290508769.241064, -2965492.893564129)]\n",
      "\n",
      "('sun', 1.988544e+30, 49140.3347836458, -363271.5592552171, -10491.48558556447)\n",
      "('jupiter', 1.89813e+27, -777841420.2838075, 224451869.927134, 16474417.32604697)\n",
      "('saturn', 5.68319e+26, -281880540.0917871, 1321479657.136385, -11774698.69993168)\n",
      "('uranus', 8.68103e+25, 2668275057.715974, -1368207197.729832, -39654566.07834578)\n",
      "('neptune', 1.0241e+26, 3068964883.54269, -3290508769.241064, -2965492.893564129)\n"
     ]
    }
   ],
   "source": [
    "import sqlite3\n",
    "\n",
    "con = sqlite3.connect(\"Planets.db\")\n",
    "\n",
    "cur = con.cursor()\n",
    "\n",
    "cur.execute('''SELECT * FROM Planets''')\n",
    "\n",
    "data = cur.fetchall()\n",
    "\n",
    "print(data)\n",
    "\n",
    "print(\"\")\n",
    "\n",
    "for item in data:\n",
    "    print(item)\n",
    "\n",
    "\n",
    "cur.close()\n",
    "con.close()"
   ]
  },
  {
   "cell_type": "code",
   "execution_count": null,
   "metadata": {},
   "outputs": [],
   "source": []
  }
 ],
 "metadata": {
  "kernelspec": {
   "display_name": "Python 3",
   "language": "python",
   "name": "python3"
  },
  "language_info": {
   "codemirror_mode": {
    "name": "ipython",
    "version": 3
   },
   "file_extension": ".py",
   "mimetype": "text/x-python",
   "name": "python",
   "nbconvert_exporter": "python",
   "pygments_lexer": "ipython3",
   "version": "3.6.2"
  }
 },
 "nbformat": 4,
 "nbformat_minor": 2
}
