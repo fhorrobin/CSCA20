{
 "cells": [
  {
   "cell_type": "markdown",
   "metadata": {},
   "source": [
    "# CSCA20: Lab 7, Week 8\n",
    "## Review of material covered so far"
   ]
  },
  {
   "cell_type": "markdown",
   "metadata": {},
   "source": [
    "## Topics:\n",
    "1. Writing/designing functions, testing\n",
    "2. Booleans and flow control\n",
    "3. Lists, tuples\n",
    "4. For and while loops\n",
    "5. File IO"
   ]
  },
  {
   "cell_type": "markdown",
   "metadata": {},
   "source": [
    "We will do examples that encompass one or more of the above topics. The goal is to become more familiar and also to show you what I think some of the more important or difficult concepts are."
   ]
  },
  {
   "cell_type": "markdown",
   "metadata": {},
   "source": [
    "## Example:\n",
    "Let's start with something simple. We will design a function that calculates the average grade of a student and tells us if they passed the course."
   ]
  },
  {
   "cell_type": "code",
   "execution_count": 21,
   "metadata": {},
   "outputs": [],
   "source": [
    "# First we will define our function header and docstring\n",
    "def passed_course(grades, min_pass):\n",
    "    \"\"\"\n",
    "    (list of numbers, float) -> Boolean\n",
    "    Given a list of grades, calculate the average and return\n",
    "    whether or not the student passed the course. min_pass is the \n",
    "    minimum percentage needed to pass the course.\n",
    "    REQ: Grades all >= 0\n",
    "    >>> passed_course([50, 25, 100], 50.0)\n",
    "    True\n",
    "    >>> passed_course([60], 60)\n",
    "    True\n",
    "    >>> passed_course([70, 10], 55)\n",
    "    False\n",
    "    \"\"\""
   ]
  },
  {
   "cell_type": "markdown",
   "metadata": {},
   "source": [
    "This is what we want to do first. We write a description of the function and some test cases. Notice that I have covered every case and also an edge case."
   ]
  },
  {
   "cell_type": "code",
   "execution_count": 22,
   "metadata": {},
   "outputs": [
    {
     "name": "stdout",
     "output_type": "stream",
     "text": [
      "Trying:\n",
      "    passed_course([50, 25, 100], 50.0)\n",
      "Expecting:\n",
      "    True\n",
      "ok\n",
      "Trying:\n",
      "    passed_course([60], 60)\n",
      "Expecting:\n",
      "    True\n",
      "ok\n",
      "Trying:\n",
      "    passed_course([70, 10], 55)\n",
      "Expecting:\n",
      "    False\n",
      "ok\n",
      "1 items had no tests:\n",
      "    __main__\n",
      "1 items passed all tests:\n",
      "   3 tests in __main__.passed_course\n",
      "3 tests in 2 items.\n",
      "3 passed and 0 failed.\n",
      "Test passed.\n"
     ]
    }
   ],
   "source": [
    "# Now implement the function\n",
    "import doctest\n",
    "\n",
    "def passed_course(grades, min_pass):\n",
    "    \"\"\"\n",
    "    (list of numbers, float) -> Boolean\n",
    "    Given a list of grades, calculate the average and return\n",
    "    whether or not the student passed the course. min_pass is the \n",
    "    minimum percentage needed to pass the course.\n",
    "    >>> passed_course([50, 25, 100], 50.0)\n",
    "    True\n",
    "    >>> passed_course([60], 60)\n",
    "    True\n",
    "    >>> passed_course([70, 10], 55)\n",
    "    False\n",
    "    \"\"\"\n",
    "    tot = 0\n",
    "    \n",
    "    # Calculate the total\n",
    "    for i in range(len(grades)):\n",
    "        tot += grades[i]\n",
    "        \n",
    "    # Calculate the average\n",
    "    avg = tot/len(grades)\n",
    "    \n",
    "    # Return true iff avg >= min_pass\n",
    "    return avg >= min_pass\n",
    "\n",
    "\n",
    "# Now we run the tests\n",
    "if __name__ == \"__main__\":\n",
    "    doctest.testmod(verbose=True)"
   ]
  },
  {
   "cell_type": "markdown",
   "metadata": {},
   "source": [
    "A realatively simple function but that is the design process. Note that there are many ways you can implement it but I will present only this one and move on to another example now."
   ]
  },
  {
   "cell_type": "markdown",
   "metadata": {},
   "source": [
    "## Example:"
   ]
  },
  {
   "cell_type": "markdown",
   "metadata": {},
   "source": [
    "Let's make an example of a function that mutates a list."
   ]
  },
  {
   "cell_type": "code",
   "execution_count": 24,
   "metadata": {},
   "outputs": [],
   "source": [
    "def vector_add(a, b):\n",
    "    \"\"\"\n",
    "    ((list of float), (list of float)) -> None\n",
    "    Given two lists, this function performs the component wise\n",
    "    vector addition. The new vector replaces vector a. \n",
    "    >>> a = [1.0, 2.0, 3.0]\n",
    "    >>> vector_add(a, [4.0, 5.0, 6.0])\n",
    "    >>> a\n",
    "    [5.0, 7.0, 9.0]\n",
    "    \"\"\""
   ]
  },
  {
   "cell_type": "markdown",
   "metadata": {},
   "source": [
    "Take a mment to understand what it does and think about how we could implement it. "
   ]
  },
  {
   "cell_type": "code",
   "execution_count": 25,
   "metadata": {},
   "outputs": [],
   "source": [
    "import doctest\n",
    "# Implementing the function\n",
    "\n",
    "def vector_add(a, b):\n",
    "    \"\"\"\n",
    "    ((list of float), (list of float)) -> None\n",
    "    Given two lists, this function performs the component wise\n",
    "    vector addition. The new vector replaces vector a. \n",
    "    >>> a = [1.0, 2.0, 3.0]\n",
    "    >>> vector_add(a, [4.0, 5.0, 6.0])\n",
    "    >>> a\n",
    "    [5.0, 7.0, 9.0]\n",
    "    \"\"\"\n",
    "    for i in range(len(a)):\n",
    "        a[i] = a[i] + b[i]\n",
    "        \n",
    "if __name__ == \"__main__\":\n",
    "    doctest.testmod()"
   ]
  },
  {
   "cell_type": "markdown",
   "metadata": {},
   "source": [
    "Notice that since we mutate the list, there is no need for a return statement."
   ]
  },
  {
   "cell_type": "markdown",
   "metadata": {},
   "source": [
    "## Example:\n",
    "Let's write a function that validates input and then use it to write a program"
   ]
  },
  {
   "cell_type": "code",
   "execution_count": 26,
   "metadata": {
    "collapsed": true
   },
   "outputs": [],
   "source": [
    "def validate(username, name, password):\n",
    "    \"\"\"\n",
    "    (str, str, str) -> Bool\n",
    "    Given a username, name and password from user\n",
    "    input. Return true if the input is all valid.\n",
    "    \n",
    "    The name must contain all letters, the username \n",
    "    must begin with a letter and contain no spaces \n",
    "    and the password must contain a number and be at least\n",
    "    8 characters long.\n",
    "    >>> validate('horrobi2', 'Fergus Horrobin', 'password1')\n",
    "    True\n",
    "    >>> validate('bob jo', 'Bob Johnston', 'password2')\n",
    "    False\n",
    "    >>> validate('anne', 'Anne', 'pass')\n",
    "    False\n",
    "    \"\"\""
   ]
  },
  {
   "cell_type": "markdown",
   "metadata": {},
   "source": [
    "So first let's write and test the fucntion. Once we are satisfied we will use it in a program."
   ]
  },
  {
   "cell_type": "code",
   "execution_count": 27,
   "metadata": {},
   "outputs": [],
   "source": [
    "import doctest\n",
    "\n",
    "def validate(username, name, password):\n",
    "    \"\"\"\n",
    "    (str, str, str) -> Bool\n",
    "    Given a username, name and password from user\n",
    "    input. Return true if the input is all valid.\n",
    "    \n",
    "    The name must contain all letters, the username \n",
    "    must begin with a letter and contain no spaces \n",
    "    and the password must contain a number and be at least\n",
    "    8 characters long.\n",
    "    >>> validate('horrobi2', 'Fergus Horrobin', 'password1')\n",
    "    True\n",
    "    >>> validate('bob jo', 'Bob Johnston', 'password2')\n",
    "    False\n",
    "    >>> validate('anne', 'Anne', 'pass')\n",
    "    False\n",
    "    \"\"\"\n",
    "    valid = True\n",
    "    \n",
    "    # Check password length\n",
    "    if len(password) < 8:\n",
    "        valid = False\n",
    "        \n",
    "    # Check passwrd contains number\n",
    "    count = 0\n",
    "    numeric = 0\n",
    "    while valid and count < len(password):\n",
    "        if password[count].isnumeric():\n",
    "            numeric += 1\n",
    "        count += 1\n",
    "        \n",
    "    valid = True if numeric > 0 else False\n",
    "    \n",
    "    # Check name contains all letters\n",
    "    count = 0\n",
    "    while valid and count < len(name):\n",
    "        if not name[count].isalpha() and not name[count].isspace():\n",
    "            valid = False\n",
    "        count += 1        \n",
    "    \n",
    "    # Check username begins with letter\n",
    "    if not username[0].isalpha():\n",
    "        valid = False\n",
    "        \n",
    "    # Check no spaces in username\n",
    "    count = 0\n",
    "    while valid and count < len(username):\n",
    "        if username[count].isspace():\n",
    "            valid = False\n",
    "        count += 1\n",
    "        \n",
    "    return valid\n",
    "\n",
    "if __name__ == \"__main__\":\n",
    "    doctest.testmod()"
   ]
  },
  {
   "cell_type": "markdown",
   "metadata": {},
   "source": [
    "Now we have the function working but let's think about the design for a moment. If we wanted to reuse parts of it for slightly different tasks, that would be difficult. I will propose an alternative form that is longer to write but more practical in terms of code reuse. "
   ]
  },
  {
   "cell_type": "code",
   "execution_count": 28,
   "metadata": {},
   "outputs": [],
   "source": [
    "import doctest\n",
    "\n",
    "def validate_pass(password, length):\n",
    "    \"\"\"\n",
    "    (str, int) -> Bool\n",
    "    Check that password is at least length characters long and that\n",
    "    it contains at least one numeric character.\n",
    "    >>> validate_pass('password1', 8)\n",
    "    True\n",
    "    >>> validate_pass('longbutnonum', 8)\n",
    "    False\n",
    "    \"\"\"\n",
    "    valid = True\n",
    "    \n",
    "    # Check password length\n",
    "    if len(password) < 8:\n",
    "        valid = False\n",
    "        \n",
    "    # Check passwrd contains number\n",
    "    count = 0\n",
    "    numeric = 0\n",
    "    while valid and count < len(password):\n",
    "        if password[count].isnumeric():\n",
    "            numeric += 1\n",
    "        count += 1\n",
    "        \n",
    "    valid = True if numeric > 0 else False\n",
    "    \n",
    "    return valid\n",
    "\n",
    "\n",
    "def validate_name(name):\n",
    "    \"\"\"\n",
    "    (str) -> Bool\n",
    "    Check that the name contains all letters or spaces.\n",
    "    >>> validate_name('Fergus')\n",
    "    True\n",
    "    >>> validate_name('Fergus Horrobin')\n",
    "    True\n",
    "    >>> validate_name('Bob_')\n",
    "    False\n",
    "    \"\"\"\n",
    "    valid = True\n",
    "    \n",
    "    # Check name contains all letters\n",
    "    count = 0\n",
    "    while valid and count < len(name):\n",
    "        if not name[count].isalpha() and not name[count].isspace():\n",
    "            valid = False\n",
    "        count += 1     \n",
    "        \n",
    "    return valid\n",
    "\n",
    "\n",
    "def validate_username(username):\n",
    "    \"\"\"\n",
    "    (str) -> Bool\n",
    "    Check that the username begins with a letter and\n",
    "    does not contain any spaces.\n",
    "    >>> validate_username('123user')\n",
    "    False\n",
    "    >>> validate_username('user 123')\n",
    "    False\n",
    "    >>> validate_username('user123%')\n",
    "    True\n",
    "    \"\"\"\n",
    "    valid = True\n",
    "    \n",
    "    # Check username begins with letter\n",
    "    if not username[0].isalpha():\n",
    "        valid = False\n",
    "        \n",
    "    # Check no spaces in username\n",
    "    count = 0\n",
    "    while valid and count < len(username):\n",
    "        if username[count].isspace():\n",
    "            valid = False\n",
    "        count += 1\n",
    "        \n",
    "    return valid\n",
    "\n",
    "if __name__ == \"__main__\":\n",
    "    doctest.testmod()"
   ]
  },
  {
   "cell_type": "code",
   "execution_count": 29,
   "metadata": {},
   "outputs": [],
   "source": [
    "import doctest\n",
    "\n",
    "def validate(username, name, password, length):\n",
    "    \"\"\"\n",
    "    (str, str, str) -> Bool\n",
    "    Given a username, name and password from user\n",
    "    input. Return true if the input is all valid.\n",
    "    \n",
    "    The name must contain all letters, the username \n",
    "    must begin with a letter and contain no spaces \n",
    "    and the password must contain a number and be at least\n",
    "    8 characters long.\n",
    "    >>> validate('horrobi2', 'Fergus Horrobin', 'password1', 8)\n",
    "    True\n",
    "    >>> validate('bob jo', 'Bob Johnston', 'password2', 8)\n",
    "    False\n",
    "    >>> validate('anne', 'Anne', 'pass', 8)\n",
    "    False\n",
    "    \"\"\"\n",
    "    valid = True\n",
    "    \n",
    "    valid = validate_pass(password, length)\n",
    "    \n",
    "    if valid:\n",
    "        valid = validate_name(name)\n",
    "        \n",
    "    if valid:\n",
    "        valid = validate_username(username)\n",
    "        \n",
    "    return valid\n",
    "\n",
    "if __name__ == \"__main__\":\n",
    "    doctest.testmod()"
   ]
  },
  {
   "cell_type": "markdown",
   "metadata": {},
   "source": [
    "Our new version of validate might be longer but it is more versatile and easier to test. Let's use it to write a program."
   ]
  },
  {
   "cell_type": "code",
   "execution_count": 31,
   "metadata": {},
   "outputs": [
    {
     "name": "stdout",
     "output_type": "stream",
     "text": [
      "Please enter your name: Fergus\n",
      "Enter a username: horrobi 2\n",
      "Enter a password: pass\n",
      "You did not enter valid input. Try again\n",
      "Please enter your name: Fergus\n",
      "Enter a username: horrobi2\n",
      "Enter a password: password1\n",
      "Welcome Fergus your username is: horrobi2 and your password is: pas******\n"
     ]
    }
   ],
   "source": [
    "valid = False\n",
    "LENGTH = 8\n",
    "\n",
    "while not valid:\n",
    "    name = input(\"Please enter your name: \")\n",
    "    username = input(\"Enter a username: \")\n",
    "    password = input(\"Enter a password: \")\n",
    "    \n",
    "    valid = validate(username, name, password, LENGTH)\n",
    "    \n",
    "    if not valid:\n",
    "        print(\"You did not enter valid input. Try again\")\n",
    "    \n",
    "print(\"Welcome %s your username is: %s and your password is: %s\" % (name, username, password[:3] + \"*\" * len(password[3:])))"
   ]
  },
  {
   "cell_type": "markdown",
   "metadata": {},
   "source": [
    "There are obviously some things we can improve about the above code. The important things to note are the uses of while loops and booleans as well as the design of the function."
   ]
  },
  {
   "cell_type": "markdown",
   "metadata": {},
   "source": [
    "## Function Design Recipe:\n",
    "\n",
    "Before you move on, let's review the steps to designing a function:\n",
    "\n",
    "1. Write the header, think about the input\n",
    "2. Write a docstring, consider the input and output and what requirements you might have\n",
    "3. Write good test cases that over any important edge cases\n",
    "4. Implement the code. Break larger tasks into many smaller functions.\n",
    "5. Test as you go. Do not wait until everything is done to test. Test each function using your doctest examples as you go."
   ]
  },
  {
   "cell_type": "markdown",
   "metadata": {},
   "source": [
    "## Example:\n",
    "Remember that lists and tuples work exactly the same other than the fact that tuples are **immutable**. Let's see an example of this."
   ]
  },
  {
   "cell_type": "code",
   "execution_count": 32,
   "metadata": {
    "collapsed": true
   },
   "outputs": [],
   "source": [
    "# This is a list\n",
    "lst1 = [10, 20, 30, 40]\n",
    "\n",
    "# This is a tuple\n",
    "tuple1 = (10, 20, 30, 40)\n",
    "\n",
    "lst2 = lst1\n",
    "tuple2 = tuple1"
   ]
  },
  {
   "cell_type": "code",
   "execution_count": 33,
   "metadata": {},
   "outputs": [
    {
     "data": {
      "text/plain": [
       "([100, 20, 30, 40], [100, 20, 30, 40])"
      ]
     },
     "execution_count": 33,
     "metadata": {},
     "output_type": "execute_result"
    }
   ],
   "source": [
    "lst2[0] = 100\n",
    "lst2, lst1"
   ]
  },
  {
   "cell_type": "code",
   "execution_count": 34,
   "metadata": {},
   "outputs": [
    {
     "ename": "TypeError",
     "evalue": "'tuple' object does not support item assignment",
     "output_type": "error",
     "traceback": [
      "\u001b[0;31m---------------------------------------------------------------------------\u001b[0m",
      "\u001b[0;31mTypeError\u001b[0m                                 Traceback (most recent call last)",
      "\u001b[0;32m<ipython-input-34-1ab6b0cd8e07>\u001b[0m in \u001b[0;36m<module>\u001b[0;34m()\u001b[0m\n\u001b[0;32m----> 1\u001b[0;31m \u001b[0mtuple2\u001b[0m\u001b[0;34m[\u001b[0m\u001b[0;36m0\u001b[0m\u001b[0;34m]\u001b[0m \u001b[0;34m=\u001b[0m \u001b[0;36m100\u001b[0m\u001b[0;34m\u001b[0m\u001b[0m\n\u001b[0m",
      "\u001b[0;31mTypeError\u001b[0m: 'tuple' object does not support item assignment"
     ]
    }
   ],
   "source": [
    "tuple2[0] = 100"
   ]
  },
  {
   "cell_type": "markdown",
   "metadata": {},
   "source": [
    "So you can't assign objects to a tuple once it has been created. We will also notice there are many less mthods. In particular, methods such as .append are missing. This is becuause we are not allowed to append to an immutable data type."
   ]
  },
  {
   "cell_type": "code",
   "execution_count": 35,
   "metadata": {},
   "outputs": [
    {
     "data": {
      "text/plain": [
       "['__add__',\n",
       " '__class__',\n",
       " '__contains__',\n",
       " '__delattr__',\n",
       " '__dir__',\n",
       " '__doc__',\n",
       " '__eq__',\n",
       " '__format__',\n",
       " '__ge__',\n",
       " '__getattribute__',\n",
       " '__getitem__',\n",
       " '__getnewargs__',\n",
       " '__gt__',\n",
       " '__hash__',\n",
       " '__init__',\n",
       " '__iter__',\n",
       " '__le__',\n",
       " '__len__',\n",
       " '__lt__',\n",
       " '__mul__',\n",
       " '__ne__',\n",
       " '__new__',\n",
       " '__reduce__',\n",
       " '__reduce_ex__',\n",
       " '__repr__',\n",
       " '__rmul__',\n",
       " '__setattr__',\n",
       " '__sizeof__',\n",
       " '__str__',\n",
       " '__subclasshook__',\n",
       " 'count',\n",
       " 'index']"
      ]
     },
     "execution_count": 35,
     "metadata": {},
     "output_type": "execute_result"
    }
   ],
   "source": [
    "dir(tuple)"
   ]
  },
  {
   "cell_type": "markdown",
   "metadata": {},
   "source": [
    "## Example:\n",
    "File IO using a csv file.\n",
    "\n",
    "I made a file with some CSV data in it in a file called csv_sample.csv. We will read past the first line header and then read the data into a list of lists."
   ]
  },
  {
   "cell_type": "code",
   "execution_count": 36,
   "metadata": {},
   "outputs": [],
   "source": [
    "import csv\n",
    "\n",
    "file = open('csv_sample.csv', 'r')\n",
    "\n",
    "# Read past the first line\n",
    "file.readline()\n",
    "\n",
    "# Now make csv reader\n",
    "reader = csv.reader(file)\n",
    "\n",
    "# Read the lines\n",
    "lines = []\n",
    "for line in reader:\n",
    "    lines.append(line)\n",
    "\n",
    "file.close()"
   ]
  },
  {
   "cell_type": "code",
   "execution_count": 37,
   "metadata": {},
   "outputs": [
    {
     "name": "stdout",
     "output_type": "stream",
     "text": [
      "[['1980', ' 10', ' 0.5'], ['1990', ' 12', ' 0.8'], ['2000', ' 14', ' 1.2'], ['2005', ' 19', ' 1.3'], ['2010', ' 22', ' 2.0'], ['2015', ' 20', ' 1.9']]\n"
     ]
    }
   ],
   "source": [
    "print(lines)"
   ]
  },
  {
   "cell_type": "markdown",
   "metadata": {},
   "source": [
    "Now let's go through and strip the whitespaces and convert to form [int, int, float]"
   ]
  },
  {
   "cell_type": "code",
   "execution_count": 38,
   "metadata": {
    "collapsed": true
   },
   "outputs": [],
   "source": [
    "for i in range(len(lines)):\n",
    "    for j in range(len(lines[i])):\n",
    "        lines[i][j] = lines[i][j].strip()\n",
    "        \n",
    "    lines[i][0] = int(lines[i][0])\n",
    "    lines[i][1] = int(lines[i][1])\n",
    "    lines[i][2] = float(lines[i][2])"
   ]
  },
  {
   "cell_type": "code",
   "execution_count": 39,
   "metadata": {},
   "outputs": [
    {
     "name": "stdout",
     "output_type": "stream",
     "text": [
      "[[1980, 10, 0.5], [1990, 12, 0.8], [2000, 14, 1.2], [2005, 19, 1.3], [2010, 22, 2.0], [2015, 20, 1.9]]\n"
     ]
    }
   ],
   "source": [
    "print(lines)"
   ]
  },
  {
   "cell_type": "markdown",
   "metadata": {},
   "source": [
    "Now we have the csv data in a format that is nicely readable by python. Since we know how to use lists, we could now work with the data in python however we want."
   ]
  }
 ],
 "metadata": {
  "kernelspec": {
   "display_name": "Python 3",
   "language": "python",
   "name": "python3"
  },
  "language_info": {
   "codemirror_mode": {
    "name": "ipython",
    "version": 3
   },
   "file_extension": ".py",
   "mimetype": "text/x-python",
   "name": "python",
   "nbconvert_exporter": "python",
   "pygments_lexer": "ipython3",
   "version": "3.5.2"
  }
 },
 "nbformat": 4,
 "nbformat_minor": 2
}
