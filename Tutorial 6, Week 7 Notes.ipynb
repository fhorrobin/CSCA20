{
 "cells": [
  {
   "cell_type": "markdown",
   "metadata": {},
   "source": [
    "# CSCA20: Lab 6, Week 7\n",
    "## More while loop examples, File IO, Tuples, Dictionaries"
   ]
  },
  {
   "cell_type": "markdown",
   "metadata": {
    "collapsed": true
   },
   "source": [
    "## 1. While Loops\n",
    "\n",
    "Recall the general format of a while loop:\n",
    "\n",
    "```Python\n",
    "while condition:\n",
    "    code\n",
    "```\n",
    "\n",
    "While loops are useful for when we don't know how many iterations ahead of time. We can also write things we would usually do with for loop with a while loop. We will see some examples."
   ]
  },
  {
   "cell_type": "code",
   "execution_count": 87,
   "metadata": {},
   "outputs": [
    {
     "name": "stdout",
     "output_type": "stream",
     "text": [
      "Enter a value: 10\n",
      "Enter a value: 12\n",
      "Enter a value: 4\n",
      "Enter a value: 6\n",
      "Enter a value: 0\n",
      "['10', '12', '4', '6']\n"
     ]
    }
   ],
   "source": [
    "# Example where we don't know how many iterations with input\n",
    "# Type 0 to end\n",
    "\n",
    "values = []\n",
    "value = \"\"\n",
    "\n",
    "while value != \"0\":\n",
    "    value = input(\"Enter a value: \")\n",
    "    \n",
    "    if value != \"0\":\n",
    "        values.append(value)\n",
    "    \n",
    "print(values)"
   ]
  },
  {
   "cell_type": "code",
   "execution_count": 88,
   "metadata": {},
   "outputs": [
    {
     "name": "stdout",
     "output_type": "stream",
     "text": [
      "[11, 13, 5, 7]\n"
     ]
    }
   ],
   "source": [
    "# Example of using a while loop in place of a for loop for going though a list\n",
    "# Add 1 to each value in the list we just created\n",
    "\n",
    "counter = 0\n",
    "while counter < len(values):\n",
    "    values[counter] = int(values[counter]) + 1\n",
    "    counter += 1\n",
    "    \n",
    "print(values)"
   ]
  },
  {
   "cell_type": "code",
   "execution_count": 89,
   "metadata": {},
   "outputs": [
    {
     "name": "stdout",
     "output_type": "stream",
     "text": [
      "[12, 14, 6, 8]\n"
     ]
    }
   ],
   "source": [
    "# This is equivalent to the for loop:\n",
    "for counter in range(len(values)):\n",
    "    values[counter] = int(values[counter]) + 1\n",
    "    \n",
    "print(values)"
   ]
  },
  {
   "cell_type": "markdown",
   "metadata": {},
   "source": [
    "Let's do an example that combines the 2 above in a useful way:"
   ]
  },
  {
   "cell_type": "code",
   "execution_count": 90,
   "metadata": {},
   "outputs": [
    {
     "name": "stdout",
     "output_type": "stream",
     "text": [
      "Trying:\n",
      "    average({'1671': ['Joe', 'Johnson', '3.0'], '1275': ['Rob', 'Jordan', '3.5']})\n",
      "Expecting:\n",
      "    3.25\n",
      "ok\n",
      "Trying:\n",
      "    search([1,2,3], 2)\n",
      "Expecting:\n",
      "    1\n",
      "ok\n",
      "Trying:\n",
      "    search([1,3,4,5], 7)\n",
      "Expecting:\n",
      "    -1\n",
      "ok\n",
      "1 items had no tests:\n",
      "    __main__\n",
      "2 items passed all tests:\n",
      "   1 tests in __main__.average\n",
      "   2 tests in __main__.search\n",
      "3 tests in 3 items.\n",
      "3 passed and 0 failed.\n",
      "Test passed.\n"
     ]
    }
   ],
   "source": [
    "import doctest\n",
    "# Search for an item in list and return index\n",
    "# Stop searching as soon as the item is found\n",
    "\n",
    "def search(lst, item):\n",
    "    \"\"\"(lst of objects, object) -> Int\n",
    "    Given a list of objects and an object, find the object in\n",
    "    the list and return the index. Stop as soon as object found\n",
    "    and return -1 if not in list.\n",
    "    >>> search([1,2,3], 2)\n",
    "    1\n",
    "    >>> search([1,3,4,5], 7)\n",
    "    -1\n",
    "    \"\"\"\n",
    "    counter = 0\n",
    "    found = False\n",
    "    \n",
    "    while counter < len(lst) and not found:\n",
    "        if lst[counter] == item:\n",
    "            found = True\n",
    "        else:\n",
    "            counter += 1\n",
    "            \n",
    "    return counter if found else -1\n",
    "\n",
    "\n",
    "if __name__ == \"__main__\":\n",
    "    doctest.testmod(verbose=True)"
   ]
  },
  {
   "cell_type": "markdown",
   "metadata": {},
   "source": [
    "### In general remember:\n",
    "- If you know the number of iterations use for loop\n",
    "- If you don't know the number of iterations but know a condition use while\n",
    "- If you know the number but want to end early for a condition, use while"
   ]
  },
  {
   "cell_type": "markdown",
   "metadata": {},
   "source": [
    "## 2. File IO"
   ]
  },
  {
   "cell_type": "markdown",
   "metadata": {},
   "source": [
    "Often we want to read data from a file or save data as a file. We will take up some basic examples of this. \n",
    "\n",
    "The general form we will follow is:\n",
    "\n",
    "```Python\n",
    "my_file = open('filename.txt', 'r')\n",
    "\n",
    "# Do something with data\n",
    "\n",
    "my_file.close()\n",
    "```\n",
    "\n",
    "- ```my_file``` is a variable, called the *stream* or *reader*.\n",
    "- ```'filename.txt'``` is the name of the file (as a string)\n",
    "- ```'r'``` is a modifier to say what to do with file (as string; r = read, w = write, a = append)\n",
    "\n",
    "Always rememeber to close your files! Otherwise you may have problems with them later!"
   ]
  },
  {
   "cell_type": "markdown",
   "metadata": {},
   "source": [
    "## Reading from file\n",
    "\n",
    "Once we have opened the file we will read from it. We will try several ways:\n",
    "\n",
    "1. Using for loop:\n",
    "```Python\n",
    "for line in my_file:\n",
    "    # Do something with line (it is string)\n",
    "```\n",
    "\n",
    "2. Read the file to list of strings (1 item per line)\n",
    "```Python\n",
    "list_of_lines = my_file.readlines()\n",
    "```\n",
    "\n",
    "3. Read entire fie into single string\n",
    "```Python \n",
    "file = my_file.read()\n",
    "# Optionally read(n) to read n characters only\n",
    "```\n",
    "\n",
    "4. Read one line at a time\n",
    "```Python\n",
    "line = my_file.readline() # Reads 1st line\n",
    "line1 = my_file.readline() # Now reads 2nd line\n",
    "```"
   ]
  },
  {
   "cell_type": "markdown",
   "metadata": {},
   "source": [
    "## Writing to file\n",
    "\n",
    "Instead of reading from an existing file we can write to a new or existing one (using w: write or a: append respectively). Writing to a file is quite simple:\n",
    "\n",
    "```Python\n",
    "my_file.write('Write this to file')\n",
    "```\n",
    "\n",
    "Note that we must write the data to file as string."
   ]
  },
  {
   "cell_type": "markdown",
   "metadata": {},
   "source": [
    "## Example:\n",
    "\n",
    "Let's write some data to a file, then open the file for reading and use the data. To keep this example simple, we will just write a single number to each line."
   ]
  },
  {
   "cell_type": "code",
   "execution_count": 91,
   "metadata": {},
   "outputs": [],
   "source": [
    "# First open a file and write to it. We give it a name here.\n",
    "my_file = open('number_file.txt', 'w')\n",
    "\n",
    "# Use a for loop to write the numbers 0 through 9 to the first 10 lines\n",
    "for i in range(10):\n",
    "    my_file.write(str(i) + '\\n') # Use '\\n' to denote end of line\n",
    "\n",
    "# Rememeber to close it at the end\n",
    "my_file.close()"
   ]
  },
  {
   "cell_type": "code",
   "execution_count": 92,
   "metadata": {},
   "outputs": [
    {
     "name": "stdout",
     "output_type": "stream",
     "text": [
      "0\n",
      "1\n",
      "2\n",
      "3\n",
      "4\n",
      "5\n",
      "6\n",
      "7\n",
      "8\n",
      "9\n"
     ]
    }
   ],
   "source": [
    "# Now let's read the data back in a couple differnt ways:\n",
    "\n",
    "# 1. Using for loop\n",
    "my_file = open('number_file.txt', 'r')\n",
    "\n",
    "for line in my_file:\n",
    "    print(line.strip('\\n'))\n",
    "\n",
    "my_file.close()"
   ]
  },
  {
   "cell_type": "code",
   "execution_count": 93,
   "metadata": {},
   "outputs": [
    {
     "name": "stdout",
     "output_type": "stream",
     "text": [
      "['0\\n', '1\\n', '2\\n', '3\\n', '4\\n', '5\\n', '6\\n', '7\\n', '8\\n', '9\\n']\n"
     ]
    }
   ],
   "source": [
    "# 2. To a list\n",
    "my_file = open('number_file.txt', 'r')\n",
    "\n",
    "file_list = my_file.readlines()\n",
    "\n",
    "my_file.close()\n",
    "\n",
    "print(file_list)"
   ]
  },
  {
   "cell_type": "code",
   "execution_count": 94,
   "metadata": {},
   "outputs": [
    {
     "name": "stdout",
     "output_type": "stream",
     "text": [
      "['0', '1', '2', '3', '4', '5', '6', '7', '8', '9']\n"
     ]
    }
   ],
   "source": [
    "# We can then strip the '\\n'\n",
    "for i in range(len(file_list)):\n",
    "    file_list[i] = file_list[i].strip('\\n')\n",
    "    \n",
    "print(file_list)"
   ]
  },
  {
   "cell_type": "code",
   "execution_count": 95,
   "metadata": {},
   "outputs": [
    {
     "name": "stdout",
     "output_type": "stream",
     "text": [
      "['0', '1', '2', '3', '4', '5', '6', '7', '8', '9']\n"
     ]
    }
   ],
   "source": [
    "# 3. Reading Each line with a while loop\n",
    "# The end of file is denoted by line with \"\" (empty string)\n",
    "\n",
    "my_file = open('number_file.txt', 'r')\n",
    "\n",
    "lines = []\n",
    "\n",
    "# Read the first line\n",
    "line = my_file.readline()\n",
    "\n",
    "while line != \"\":\n",
    "    lines.append(line.strip('\\n'))\n",
    "    \n",
    "    # Read next line\n",
    "    line = my_file.readline()\n",
    "    \n",
    "print(lines)\n",
    "\n",
    "my_file.close()"
   ]
  },
  {
   "cell_type": "markdown",
   "metadata": {},
   "source": [
    "## CSV (Comma Separated Value) Files\n",
    "Useful because:\n",
    "- Many programs such as excel can read and write this file type\n",
    "- Easy to generate\n",
    "- Nice built in python module for reading it\n",
    "\n",
    "What these files look like:\n",
    "\n",
    "```\n",
    "Id, FirstName, LastName, GPA\n",
    "1121, Bob, Anderson, 3.92\n",
    "1671, Joe, Johnson, 2.97\n",
    "1275, Rob, Jordan, 3.34\n",
    "```\n",
    "\n",
    "General idea:\n",
    "\n",
    "```Python\n",
    "import io\n",
    "import csv\n",
    "\n",
    "my_file = open('filename.csv', 'r')\n",
    "reader = csv.reader(my_file)\n",
    "\n",
    "for line in reader:\n",
    "    # Just like before except now line is a list\n",
    "```\n",
    "\n",
    "Let's see an example of this in action"
   ]
  },
  {
   "cell_type": "code",
   "execution_count": 97,
   "metadata": {},
   "outputs": [],
   "source": [
    "# First I will make the above file using write the same way we did before\n",
    "student_file = open('students.csv', 'w')\n",
    "\n",
    "# Write 3 lines to file using '\\n' to denote end of line\n",
    "student_file.write('Id,FirstName,LastName,GPA\\n1121,Bob,Anderson,3.92\\n1671,Joe,Johnson,2.97\\n1275,Rob,Jordan,3.34')\n",
    "\n",
    "student_file.close()"
   ]
  },
  {
   "cell_type": "code",
   "execution_count": 98,
   "metadata": {},
   "outputs": [
    {
     "name": "stdout",
     "output_type": "stream",
     "text": [
      "['Id', 'FirstName', 'LastName', 'GPA']\n",
      "['1121', 'Bob', 'Anderson', '3.92']\n",
      "['1671', 'Joe', 'Johnson', '2.97']\n",
      "['1275', 'Rob', 'Jordan', '3.34']\n"
     ]
    }
   ],
   "source": [
    "# Now read using module csv\n",
    "import io\n",
    "import csv\n",
    "\n",
    "student_file = open('students.csv', 'r')\n",
    "reader = csv.reader(student_file)\n",
    "\n",
    "for line in reader:\n",
    "    print(line)\n",
    "\n",
    "student_file.close()"
   ]
  },
  {
   "cell_type": "markdown",
   "metadata": {},
   "source": [
    "## 3. Tuples"
   ]
  },
  {
   "cell_type": "markdown",
   "metadata": {},
   "source": [
    "They are like lists except they are *immutable*. You cannot change the values. You use parenthesis instead of square brackets:"
   ]
  },
  {
   "cell_type": "code",
   "execution_count": 99,
   "metadata": {
    "collapsed": true
   },
   "outputs": [],
   "source": [
    "# Like lists, they can store any type of data\n",
    "my_tuple = (1, 2, 3)\n",
    "tuple1 = ('a', True, 3.9)"
   ]
  },
  {
   "cell_type": "code",
   "execution_count": 100,
   "metadata": {},
   "outputs": [
    {
     "name": "stdout",
     "output_type": "stream",
     "text": [
      "1\n"
     ]
    }
   ],
   "source": [
    "# We can access the data like in a list\n",
    "print(my_tuple[0])"
   ]
  },
  {
   "cell_type": "code",
   "execution_count": 101,
   "metadata": {},
   "outputs": [
    {
     "name": "stdout",
     "output_type": "stream",
     "text": [
      "True\n"
     ]
    }
   ],
   "source": [
    "print(tuple1[1])"
   ]
  },
  {
   "cell_type": "markdown",
   "metadata": {},
   "source": [
    "Let's try modyfying them to see they are immutable:"
   ]
  },
  {
   "cell_type": "code",
   "execution_count": 102,
   "metadata": {},
   "outputs": [
    {
     "ename": "TypeError",
     "evalue": "'tuple' object does not support item assignment",
     "output_type": "error",
     "traceback": [
      "\u001b[0;31m---------------------------------------------------------------------------\u001b[0m",
      "\u001b[0;31mTypeError\u001b[0m                                 Traceback (most recent call last)",
      "\u001b[0;32m<ipython-input-102-c645acb76164>\u001b[0m in \u001b[0;36m<module>\u001b[0;34m()\u001b[0m\n\u001b[1;32m      1\u001b[0m \u001b[0;31m# If it were a list this would work:\u001b[0m\u001b[0;34m\u001b[0m\u001b[0;34m\u001b[0m\u001b[0m\n\u001b[0;32m----> 2\u001b[0;31m \u001b[0mtuple1\u001b[0m\u001b[0;34m[\u001b[0m\u001b[0;36m0\u001b[0m\u001b[0;34m]\u001b[0m \u001b[0;34m=\u001b[0m \u001b[0;34m'b'\u001b[0m\u001b[0;34m\u001b[0m\u001b[0m\n\u001b[0m",
      "\u001b[0;31mTypeError\u001b[0m: 'tuple' object does not support item assignment"
     ]
    }
   ],
   "source": [
    "# If it were a list this would work:\n",
    "tuple1[0] = 'b'"
   ]
  },
  {
   "cell_type": "markdown",
   "metadata": {},
   "source": [
    "As you can see, since tuples are immutable, we are not allowed to change the values.\n",
    "\n",
    "Since this is the case they have many less methods than lists do. However, most of the functionality is the same as lists so I will not repeat the details."
   ]
  },
  {
   "cell_type": "markdown",
   "metadata": {},
   "source": [
    "## 4. Dictionaries\n",
    "A way to store data in the form of a pair: ```key:value```.\n",
    "\n",
    "- Use the key to locate the data\n",
    "- We say the key *indexes* into the dictionary\n",
    "- The keys must be unique!\n",
    "\n",
    "Dictionaries can store any type of data. Let's see some simple examples:"
   ]
  },
  {
   "cell_type": "code",
   "execution_count": 103,
   "metadata": {},
   "outputs": [
    {
     "name": "stdout",
     "output_type": "stream",
     "text": [
      "8\n"
     ]
    }
   ],
   "source": [
    "# Simple dictionaries\n",
    "a = {1:2, 5:6, 7:8}\n",
    "\n",
    "print(a[7])"
   ]
  },
  {
   "cell_type": "code",
   "execution_count": 104,
   "metadata": {},
   "outputs": [
    {
     "name": "stdout",
     "output_type": "stream",
     "text": [
      "3\n"
     ]
    }
   ],
   "source": [
    "b = {'a':1, 'b':2, 'c':3}\n",
    "\n",
    "print(b['c'])"
   ]
  },
  {
   "cell_type": "code",
   "execution_count": 107,
   "metadata": {},
   "outputs": [
    {
     "name": "stdout",
     "output_type": "stream",
     "text": [
      "{'d': 4, 'a': 1, 'b': 2, 'c': 3}\n",
      "{'d': 4, 'b': 2, 'c': 3}\n",
      "{'d': 4, 'b': 2, 'c': 5}\n",
      "True\n"
     ]
    }
   ],
   "source": [
    "b = {'a':1, 'b':2, 'c':3}\n",
    "\n",
    "# We can add an entry\n",
    "b['d'] = 4\n",
    "\n",
    "print(b)\n",
    "\n",
    "# Delete an entry\n",
    "del b['a']\n",
    "\n",
    "print(b)\n",
    "\n",
    "# Change an entry\n",
    "b['c'] = 5\n",
    "\n",
    "print(b)\n",
    "\n",
    "# Or check if a key is in the dictionary\n",
    "print('d' in b)"
   ]
  },
  {
   "cell_type": "markdown",
   "metadata": {},
   "source": [
    "Notice: Dictionaries are not ordered. The order they print is not the same as the order I entered them (in fact the order can change as well).\n",
    "\n",
    "We can loop over the items in a dictionary"
   ]
  },
  {
   "cell_type": "code",
   "execution_count": 108,
   "metadata": {},
   "outputs": [
    {
     "name": "stdout",
     "output_type": "stream",
     "text": [
      "d : 4\n",
      "b : 2\n",
      "c : 5\n"
     ]
    }
   ],
   "source": [
    "for key in b:\n",
    "    print(key, ':', b[key])"
   ]
  },
  {
   "cell_type": "code",
   "execution_count": 109,
   "metadata": {},
   "outputs": [
    {
     "name": "stdout",
     "output_type": "stream",
     "text": [
      "['d', 'b', 'c']\n",
      "[4, 2, 5]\n",
      "[('d', 4), ('b', 2), ('c', 5)]\n"
     ]
    }
   ],
   "source": [
    "# We can get the list of keys\n",
    "print(list(b.keys()))\n",
    "\n",
    "# We can also get the values\n",
    "print(list(b.values()))\n",
    "\n",
    "# And we can get a list of tuples to represent the dictionary\n",
    "print(list(b.items()))"
   ]
  },
  {
   "cell_type": "code",
   "execution_count": 110,
   "metadata": {},
   "outputs": [
    {
     "name": "stdout",
     "output_type": "stream",
     "text": [
      "{1: 2, 'd': 4, 5: 6, 'c': 5, 7: 8, 'b': 2}\n"
     ]
    }
   ],
   "source": [
    "# If we want to add 2 dictionaries together we can use update\n",
    "b.update(a)\n",
    "\n",
    "print(b)"
   ]
  },
  {
   "cell_type": "code",
   "execution_count": 111,
   "metadata": {},
   "outputs": [
    {
     "name": "stdout",
     "output_type": "stream",
     "text": [
      "{}\n"
     ]
    }
   ],
   "source": [
    "# And if we want to clear a dictionary\n",
    "b.clear()\n",
    "\n",
    "print(b)"
   ]
  },
  {
   "cell_type": "markdown",
   "metadata": {},
   "source": [
    "Lets now do an example of using a dictionary to store student information.\n",
    "\n",
    "We will store it as:\n",
    " - Key is a student number (int)\n",
    " - Value is a list of [str, str, float]\n",
    " \n",
    "Let's use that ```students.csv``` file we created earlier and make a dictionary out of the data:"
   ]
  },
  {
   "cell_type": "code",
   "execution_count": 112,
   "metadata": {},
   "outputs": [
    {
     "name": "stdout",
     "output_type": "stream",
     "text": [
      "{'1671': ['Joe', 'Johnson', '2.97'], '1275': ['Rob', 'Jordan', '3.34'], '1121': ['Bob', 'Anderson', '3.92']}\n"
     ]
    }
   ],
   "source": [
    "import io\n",
    "import csv\n",
    "\n",
    "students = {}\n",
    "\n",
    "stu_file = open('students.csv', 'r')\n",
    "reader = csv.reader(stu_file)\n",
    "\n",
    "for line in reader:\n",
    "    students[line[0]] = line[1:]\n",
    "\n",
    "stu_file.close()\n",
    "\n",
    "del students['Id']\n",
    "\n",
    "print(students)"
   ]
  },
  {
   "cell_type": "markdown",
   "metadata": {},
   "source": [
    "Now let's write a program that calculates the average of all students."
   ]
  },
  {
   "cell_type": "code",
   "execution_count": 113,
   "metadata": {},
   "outputs": [
    {
     "name": "stdout",
     "output_type": "stream",
     "text": [
      "Trying:\n",
      "    average({'1671': ['Joe', 'Johnson', '3.0'], '1275': ['Rob', 'Jordan', '3.5']})\n",
      "Expecting:\n",
      "    3.25\n",
      "ok\n",
      "Trying:\n",
      "    search([1,2,3], 2)\n",
      "Expecting:\n",
      "    1\n",
      "ok\n",
      "Trying:\n",
      "    search([1,3,4,5], 7)\n",
      "Expecting:\n",
      "    -1\n",
      "ok\n",
      "1 items had no tests:\n",
      "    __main__\n",
      "2 items passed all tests:\n",
      "   1 tests in __main__.average\n",
      "   2 tests in __main__.search\n",
      "3 tests in 3 items.\n",
      "3 passed and 0 failed.\n",
      "Test passed.\n"
     ]
    }
   ],
   "source": [
    "import doctest\n",
    "\n",
    "def average(students):\n",
    "    \"\"\"(dict{str:lst}) -> Float\n",
    "    Given a dictionary of student data, return\n",
    "    the average GPA of the students.\n",
    "    >>> average({'1671': ['Joe', 'Johnson', '3.0'], '1275': ['Rob', 'Jordan', '3.5']})\n",
    "    3.25\n",
    "    \"\"\"\n",
    "    tot = 0\n",
    "    \n",
    "    for key in students:\n",
    "        tot += float(students[key][2])\n",
    "        \n",
    "    return tot/len(students)\n",
    "\n",
    "\n",
    "if __name__ == \"__main__\":\n",
    "    doctest.testmod(verbose=True)"
   ]
  },
  {
   "cell_type": "markdown",
   "metadata": {},
   "source": [
    "One of the nice things about dictionaries is that they are very fast for searching for keys. Much faster than lists because they are *hashed*. I'll do one last example where we lookup a student by number to show the advantage of this."
   ]
  },
  {
   "cell_type": "code",
   "execution_count": 114,
   "metadata": {},
   "outputs": [
    {
     "name": "stdout",
     "output_type": "stream",
     "text": [
      "Enter your student number: 10\n",
      "Incorrect student number, try again.\n",
      "Enter your student number: 1671\n",
      "Welcome Joe Johnson, your GPA is 2.97\n"
     ]
    }
   ],
   "source": [
    "# Start with the dictionary we read from the file\n",
    "students = {'1671': ['Joe', 'Johnson', '2.97'], '1275': ['Rob', 'Jordan', '3.34'], '1121': ['Bob', 'Anderson', '3.92']}\n",
    "\n",
    "# Get stu number\n",
    "number = None\n",
    "while not number:\n",
    "    number = input(\"Enter your student number: \")\n",
    "    \n",
    "    if number not in students:\n",
    "        number = None\n",
    "        print(\"Incorrect student number, try again.\")\n",
    "        \n",
    "print(\"Welcome %s, your GPA is %.2f\" % \\\n",
    "     (students[number][0] + \" \" + students[number][1], float(students[number][2])))\n",
    "\n",
    "    "
   ]
  },
  {
   "cell_type": "markdown",
   "metadata": {},
   "source": [
    "Dictionaries are very useful for when you want to lookup something such as above. We won't go into details in this course but becaused they are hashed, python doesn't need to go through every item to find something. Particularily useful are you are searching through a large number of items."
   ]
  },
  {
   "cell_type": "code",
   "execution_count": null,
   "metadata": {
    "collapsed": true
   },
   "outputs": [],
   "source": []
  }
 ],
 "metadata": {
  "kernelspec": {
   "display_name": "Python 3",
   "language": "python",
   "name": "python3"
  },
  "language_info": {
   "codemirror_mode": {
    "name": "ipython",
    "version": 3
   },
   "file_extension": ".py",
   "mimetype": "text/x-python",
   "name": "python",
   "nbconvert_exporter": "python",
   "pygments_lexer": "ipython3",
   "version": "3.5.2"
  }
 },
 "nbformat": 4,
 "nbformat_minor": 2
}
