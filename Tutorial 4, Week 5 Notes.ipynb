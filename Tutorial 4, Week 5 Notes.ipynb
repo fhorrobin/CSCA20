{
 "cells": [
  {
   "cell_type": "markdown",
   "metadata": {},
   "source": [
    "# CSCA20: Lab 4 Week 5\n",
    "## More Strings, Lists, Loops, Conversion Specifiers"
   ]
  },
  {
   "cell_type": "markdown",
   "metadata": {},
   "source": [
    "## 1. Review of Strings"
   ]
  },
  {
   "cell_type": "markdown",
   "metadata": {},
   "source": [
    "Last week we worked with strings. This was our first data type that is stored as an assortment of items. As we saw, a string is just an assortment of characters. Because of this we could do many interesting things with these characters."
   ]
  },
  {
   "cell_type": "markdown",
   "metadata": {},
   "source": [
    "Recall some of the important operations we tried:"
   ]
  },
  {
   "cell_type": "code",
   "execution_count": null,
   "metadata": {},
   "outputs": [],
   "source": [
    "my_str = \"Hello World!\"\n",
    "\n",
    "# Indexing a string\n",
    "my_str[1]"
   ]
  },
  {
   "cell_type": "code",
   "execution_count": null,
   "metadata": {},
   "outputs": [],
   "source": [
    "# Slicing a string\n",
    "my_str[1:4]"
   ]
  },
  {
   "cell_type": "code",
   "execution_count": null,
   "metadata": {},
   "outputs": [],
   "source": [
    "# Slicing from start or end\n",
    "my_str[:2], my_str[1:]"
   ]
  },
  {
   "cell_type": "code",
   "execution_count": null,
   "metadata": {},
   "outputs": [],
   "source": [
    "# Slicing an entire string (We will see where this is useful today)\n",
    "my_str[:]"
   ]
  },
  {
   "cell_type": "markdown",
   "metadata": {},
   "source": [
    "We also saw that we can perform other operations on strings. For example, some of the operators have been **overloaded** to work with strings:"
   ]
  },
  {
   "cell_type": "code",
   "execution_count": null,
   "metadata": {},
   "outputs": [],
   "source": [
    "str2 = \"CSCA20\"\n",
    "\n",
    "# Try the overloaded + operator\n",
    "my_str + \" \" + str2"
   ]
  },
  {
   "cell_type": "code",
   "execution_count": null,
   "metadata": {},
   "outputs": [],
   "source": [
    "# Overlaoded *\n",
    "str2 * 5"
   ]
  },
  {
   "cell_type": "markdown",
   "metadata": {},
   "source": [
    "There are also many string methods we can use. We saw some of them last week such as:\n",
    "    - isalpha()\n",
    "    - replace()\n",
    "    - find()\n",
    "    - index()\n",
    "    - upper()\n",
    "    \n",
    "We also saw some builtin functions we can use with strings:\n",
    "    - len()\n",
    "    - str()\n",
    "    \n",
    "**Question:** What is the difference between a method and a function?\n",
    "\n",
    "If we want to list all the builtin methods, we can use the following:"
   ]
  },
  {
   "cell_type": "code",
   "execution_count": null,
   "metadata": {},
   "outputs": [],
   "source": [
    "dir(str)"
   ]
  },
  {
   "cell_type": "markdown",
   "metadata": {},
   "source": [
    "Sometimes the task is too complicated to look at the whole string. We may then wish to visit each character individually and perform an operation on it. We do this with loops. Let's review an example of this:"
   ]
  },
  {
   "cell_type": "code",
   "execution_count": null,
   "metadata": {
    "collapsed": true
   },
   "outputs": [],
   "source": [
    "def remove_punc(str1):\n",
    "    \"\"\"Remove all non alphanumeric, non space characters.\"\"\"\n",
    "    \n",
    "    str2 = \"\"\n",
    "    for char in str1:\n",
    "        if char.isalnum() or char.isspace():\n",
    "            str2 = str2 + char\n",
    "            \n",
    "    return str2"
   ]
  },
  {
   "cell_type": "code",
   "execution_count": null,
   "metadata": {},
   "outputs": [],
   "source": [
    "my_str = \"CSCA20 Tutorial: 4, week: 5!!!\"\n",
    "remove_punc(my_str)"
   ]
  },
  {
   "cell_type": "markdown",
   "metadata": {},
   "source": [
    "There are different ways to do the above example. Notice that I return a new string with the punctuation stripped rather than editing the contents of the original one.\n",
    "\n",
    "This is because strings are **immutable**. What does it mean to be (im)mutable? We can see it in an example:"
   ]
  },
  {
   "cell_type": "code",
   "execution_count": null,
   "metadata": {},
   "outputs": [],
   "source": [
    "my_str = \"Hello!\"\n",
    "my_str[2] = \"a\""
   ]
  },
  {
   "cell_type": "markdown",
   "metadata": {},
   "source": [
    "So even though we can access the individual characters in memory, we cannot change them. We can only re-assign the string to a new value: "
   ]
  },
  {
   "cell_type": "code",
   "execution_count": null,
   "metadata": {},
   "outputs": [],
   "source": [
    "my_str = \"Hello!\"\n",
    "str1 = my_str\n",
    "my_str = \"New Value\"\n",
    "\n",
    "print(\"str1 now stores: '%s' and my_str: '%s'\" % (str1, my_str))"
   ]
  },
  {
   "cell_type": "markdown",
   "metadata": {},
   "source": [
    "So we can reassign the value of a string, but this doesn't modify the initial string in memory. This only creates a new memory location with a different value. \n",
    "\n",
    "Most data types in Python exibit this behaviour, but not all do. We will now see that **lists** are an example of a **mutable** data type."
   ]
  },
  {
   "cell_type": "markdown",
   "metadata": {},
   "source": [
    "## 2. Lists"
   ]
  },
  {
   "cell_type": "markdown",
   "metadata": {},
   "source": [
    "Sometimes we wish to store a collection of objects (of any type). Let's say we were recording values of length for an experiment. We could store each measure in variables but we would eventually have many different variables."
   ]
  },
  {
   "cell_type": "code",
   "execution_count": null,
   "metadata": {
    "collapsed": true
   },
   "outputs": [],
   "source": [
    "len0 = 10.0\n",
    "len1 = 20.2\n",
    "len2 = 25.4\n",
    "len3 = 26.7"
   ]
  },
  {
   "cell_type": "markdown",
   "metadata": {},
   "source": [
    "What if we had 100 or 1000 or 1 Billion values...that is too many variables. Let's try using lists:"
   ]
  },
  {
   "cell_type": "code",
   "execution_count": null,
   "metadata": {
    "collapsed": true
   },
   "outputs": [],
   "source": [
    "length = [10.0, 20.2, 25.4, 26.7]"
   ]
  },
  {
   "cell_type": "markdown",
   "metadata": {},
   "source": [
    "Now we have stored the same values in a list. We can access these in the same way we access the values in a string. Remember the first index is 0."
   ]
  },
  {
   "cell_type": "code",
   "execution_count": null,
   "metadata": {},
   "outputs": [],
   "source": [
    "length[1]"
   ]
  },
  {
   "cell_type": "markdown",
   "metadata": {},
   "source": [
    "In Python lists can contain any type of data. They can even contain mixed types of data:"
   ]
  },
  {
   "cell_type": "code",
   "execution_count": null,
   "metadata": {
    "collapsed": true
   },
   "outputs": [],
   "source": [
    "student = [\"Bob\", 1000000000, 18, \"UTSC\"]"
   ]
  },
  {
   "cell_type": "code",
   "execution_count": null,
   "metadata": {},
   "outputs": [],
   "source": [
    "type(student[0]), type(student[1])"
   ]
  },
  {
   "cell_type": "markdown",
   "metadata": {},
   "source": [
    "You can see that each value in the list is stored just as a varible would be. It is just a more convenient notation for large sets of data."
   ]
  },
  {
   "cell_type": "markdown",
   "metadata": {},
   "source": [
    "We can also store the values of variables in a list. The list length could also have been constructed as:"
   ]
  },
  {
   "cell_type": "code",
   "execution_count": null,
   "metadata": {
    "collapsed": true
   },
   "outputs": [],
   "source": [
    "len0 = 10.0\n",
    "len1 = 20.2\n",
    "len2 = 25.4\n",
    "len3 = 26.7\n",
    "\n",
    "length = [len0, len1, len2, len3]"
   ]
  },
  {
   "cell_type": "code",
   "execution_count": null,
   "metadata": {},
   "outputs": [],
   "source": [
    "length[2]"
   ]
  },
  {
   "cell_type": "markdown",
   "metadata": {},
   "source": [
    "### Mutability"
   ]
  },
  {
   "cell_type": "markdown",
   "metadata": {},
   "source": [
    "We earlier discussed how strings are immutable. Now let's see an example of what I meant when I said lists are mutable. We will use the student list I created above as an example:"
   ]
  },
  {
   "cell_type": "code",
   "execution_count": null,
   "metadata": {},
   "outputs": [],
   "source": [
    "student = [\"Bob\", 1000000000, 18, \"UTSC\"]\n",
    "\n",
    "# First print the first value (the name in this case)\n",
    "print(student[0])\n",
    "\n",
    "# Now change the name to \"Joe\"\n",
    "student[0] = \"Joe\"\n",
    "\n",
    "# Print the name again\n",
    "print(student[0])\n",
    "\n",
    "# Now append the student's GPA (4.0)\n",
    "student.append(4.0)\n",
    "\n",
    "# Print all the values of student\n",
    "print(student)"
   ]
  },
  {
   "cell_type": "markdown",
   "metadata": {},
   "source": [
    "As you can see here, we can modify the value of part of the list. We can also append new values to the end of the list. This is different than strings. Let's see an important conseqence of this and why it is important to remember that lists are mutable:"
   ]
  },
  {
   "cell_type": "code",
   "execution_count": null,
   "metadata": {},
   "outputs": [],
   "source": [
    "# Make a new variable called student 1 and set equal to student\n",
    "student1 = student\n",
    "\n",
    "# Print the 2 variables\n",
    "print(student, student1)"
   ]
  },
  {
   "cell_type": "code",
   "execution_count": null,
   "metadata": {},
   "outputs": [],
   "source": [
    "# Change the values of stuent 1\n",
    "student1[0] = \"Alice\"\n",
    "student1[1] = 1000000001\n",
    "student1[2] = 19\n",
    "\n",
    "# Print the 2 variables again\n",
    "print(student, student1)"
   ]
  },
  {
   "cell_type": "markdown",
   "metadata": {},
   "source": [
    "Interestingly, changing the value of student1 changes the value of student as well. Just to remind you, let's try this with a different (immutable) type:"
   ]
  },
  {
   "cell_type": "code",
   "execution_count": null,
   "metadata": {},
   "outputs": [],
   "source": [
    "a = 1\n",
    "b = a\n",
    "\n",
    "print(\"A =\", a, \"| B =\", b)"
   ]
  },
  {
   "cell_type": "code",
   "execution_count": null,
   "metadata": {},
   "outputs": [],
   "source": [
    "b = 2\n",
    "\n",
    "print(\"A =\", a, \"| B =\", b)"
   ]
  },
  {
   "cell_type": "markdown",
   "metadata": {},
   "source": [
    "As you see here, an immutrable type like integer does not have this behaviour. It would seem that b is really a **copy** of a but not referring to a itself. If we looked at how the memory was working we would see this is indeed the case but we will not discuss this much detail in this course. Feel free to ask me if you want to get the general idea though."
   ]
  },
  {
   "cell_type": "markdown",
   "metadata": {},
   "source": [
    "So sometimes we may want to make a copy of a list so we can keep the original and edit the new one. Lets try to do this. Recall that I mentioned the [ : ] slicing operator for the entire list would become useful? Well, this is what it is useful for. We can use [ : ] to create a new copy of the entire list."
   ]
  },
  {
   "cell_type": "code",
   "execution_count": null,
   "metadata": {},
   "outputs": [],
   "source": [
    "student2 = student1[:]\n",
    "\n",
    "print(student1, student2)"
   ]
  },
  {
   "cell_type": "code",
   "execution_count": null,
   "metadata": {},
   "outputs": [],
   "source": [
    "# Change the values of student 1\n",
    "student2[0] = \"Bob\"\n",
    "student2[1] = 1000000002\n",
    "student2[2] = 18\n",
    "\n",
    "# Print the 2 variables again\n",
    "print(student1, student2)"
   ]
  },
  {
   "cell_type": "markdown",
   "metadata": {},
   "source": [
    "Now when we update the values in the list the original lists remains unchanged. This may come in handy sometimes. In general making a copy is less efficient though so for large lists, it may be wise to avoid copying them. "
   ]
  },
  {
   "cell_type": "markdown",
   "metadata": {},
   "source": [
    "As with strings there are many useful methods and functions we can use with lists. To list the methods we once again use dir()"
   ]
  },
  {
   "cell_type": "code",
   "execution_count": null,
   "metadata": {},
   "outputs": [],
   "source": [
    "dir(list)"
   ]
  },
  {
   "cell_type": "markdown",
   "metadata": {},
   "source": [
    "Let's try some examples of this. We already saw .append(). Lets try others:"
   ]
  },
  {
   "cell_type": "code",
   "execution_count": null,
   "metadata": {},
   "outputs": [],
   "source": [
    "my_list = [1, 2, 3, 4]\n",
    "my_list.index(2)"
   ]
  },
  {
   "cell_type": "code",
   "execution_count": null,
   "metadata": {},
   "outputs": [],
   "source": [
    "my_list.pop()"
   ]
  },
  {
   "cell_type": "code",
   "execution_count": null,
   "metadata": {},
   "outputs": [],
   "source": [
    "my_list"
   ]
  },
  {
   "cell_type": "markdown",
   "metadata": {},
   "source": [
    "So index() finds the index of an object and pop() returns the last value and removes it from the list. \n",
    "\n",
    "**Challenge:** Implement some of these methods yourself. This will help you practice with lists."
   ]
  },
  {
   "cell_type": "markdown",
   "metadata": {},
   "source": [
    "Some functions you may find handy: \n",
    "    - min()\n",
    "    - max()\n",
    "    - len()\n",
    "\n",
    "Of course there are others as well. You can have a look at the documentation to see a more complete list."
   ]
  },
  {
   "cell_type": "code",
   "execution_count": null,
   "metadata": {},
   "outputs": [],
   "source": [
    "my_list =  [10, 20, 10, 50, 5]\n",
    "len(my_list)"
   ]
  },
  {
   "cell_type": "code",
   "execution_count": null,
   "metadata": {},
   "outputs": [],
   "source": [
    "max(my_list)"
   ]
  },
  {
   "cell_type": "markdown",
   "metadata": {},
   "source": [
    "### Slicing"
   ]
  },
  {
   "cell_type": "markdown",
   "metadata": {},
   "source": [
    "As with strings, you can take slices of lists. We saw this with [ : ] already, let's see some more examples:"
   ]
  },
  {
   "cell_type": "code",
   "execution_count": null,
   "metadata": {
    "collapsed": true
   },
   "outputs": [],
   "source": [
    "my_list = [1, 2, 3, 4]"
   ]
  },
  {
   "cell_type": "code",
   "execution_count": null,
   "metadata": {},
   "outputs": [],
   "source": [
    "print(my_list[1:2])\n",
    "print(my_list[:2])\n",
    "print(my_list[2:])"
   ]
  },
  {
   "cell_type": "markdown",
   "metadata": {},
   "source": [
    "We can also add lists or slices of lists together if we wish:"
   ]
  },
  {
   "cell_type": "code",
   "execution_count": null,
   "metadata": {},
   "outputs": [],
   "source": [
    "lst1 = [1, 2, 3]\n",
    "lst2 = [4, 5, 6]\n",
    "\n",
    "lst1 + lst2"
   ]
  },
  {
   "cell_type": "code",
   "execution_count": null,
   "metadata": {},
   "outputs": [],
   "source": [
    "my_list = [2, 3, 4, 5, 6]\n",
    "\n",
    "print(my_list[:3] + my_list[3:])\n",
    "print(my_list[0:3] + my_list[3:len(my_list)])"
   ]
  },
  {
   "cell_type": "markdown",
   "metadata": {},
   "source": [
    "We can also use negative values:"
   ]
  },
  {
   "cell_type": "code",
   "execution_count": null,
   "metadata": {},
   "outputs": [],
   "source": [
    "my_list[2:-1]"
   ]
  },
  {
   "cell_type": "markdown",
   "metadata": {},
   "source": [
    "Play around with the various operations you can perform on lists. You will find lists are very useful but a bit more complicated than other data types so be sure to practice to get the hang of using them. \n",
    "\n",
    "As usual, help() and dir() as well as online resources and documentation are your friend for getting to know what you can do with lists."
   ]
  },
  {
   "cell_type": "markdown",
   "metadata": {},
   "source": [
    "## 3. Loops"
   ]
  },
  {
   "cell_type": "markdown",
   "metadata": {},
   "source": [
    "Like we did with strings, we will often want to write a loop to go through a list. Let's try this. We will first do it the same way we did with strings and then look at how we can do it with indexes."
   ]
  },
  {
   "cell_type": "code",
   "execution_count": null,
   "metadata": {},
   "outputs": [],
   "source": [
    "my_list = [1, 10, 9, 8, 23, 12, 3]\n",
    "\n",
    "for item in my_list:\n",
    "    print(item)"
   ]
  },
  {
   "cell_type": "markdown",
   "metadata": {},
   "source": [
    "The same simple example we used for strings also works with lists. Let's try something more complicated. I'll write my own version of the max() function using loops."
   ]
  },
  {
   "cell_type": "code",
   "execution_count": null,
   "metadata": {
    "collapsed": true
   },
   "outputs": [],
   "source": [
    "def lmax(lst):\n",
    "    \"\"\"Return the maximum value in a list of numbers\"\"\"\n",
    "    # Store the max, initialize to the first value of the list\n",
    "    max_num = lst[0]\n",
    "    \n",
    "    # Iterate through the list\n",
    "    for item in lst:\n",
    "        # See if the number is bigger\n",
    "        if item > max_num:\n",
    "            max_num = item\n",
    "        \n",
    "    return max_num"
   ]
  },
  {
   "cell_type": "code",
   "execution_count": null,
   "metadata": {},
   "outputs": [],
   "source": [
    "# Call the function\n",
    "lmax([1, 2, 3, 5, 8, 2, 4])"
   ]
  },
  {
   "cell_type": "markdown",
   "metadata": {},
   "source": [
    "Take a moment to see how this works and make sure you understand. The mechanics of how I wrote this function follows the same general stucture you will use for many of the problems this week. "
   ]
  },
  {
   "cell_type": "markdown",
   "metadata": {},
   "source": [
    "Since lists are mutable, let's try to modify each value of the list using a loop. We should be able to do this right?"
   ]
  },
  {
   "cell_type": "code",
   "execution_count": null,
   "metadata": {},
   "outputs": [],
   "source": [
    "my_list = [1, 2, 3, 4]\n",
    "\n",
    "for item in my_list:\n",
    "    item = item + 1\n",
    "\n",
    "print(my_list)"
   ]
  },
  {
   "cell_type": "markdown",
   "metadata": {},
   "source": [
    "Hmm, this doesn't work...it would seem **item** is storing a copy of each value rather than pointing to the value itself. We will have to use a different way. Let's recall how we modified it before and construct a loop method to do it:"
   ]
  },
  {
   "cell_type": "markdown",
   "metadata": {},
   "source": [
    "We want to call:\n",
    "    - my_list[0] = my_list[0] + 1\n",
    "    - my_list[1] = my_list[1] + 1\n",
    "    - ...\n",
    "    \n",
    "Let's make a loop that does exatly that:"
   ]
  },
  {
   "cell_type": "code",
   "execution_count": null,
   "metadata": {},
   "outputs": [],
   "source": [
    "my_list = [1, 2, 3, 4]\n",
    "indexes = [0, 1, 2, 3]\n",
    "\n",
    "for i in indexes:\n",
    "    my_list[i] = my_list[i] + 1\n",
    "    \n",
    "print(my_list)"
   ]
  },
  {
   "cell_type": "markdown",
   "metadata": {},
   "source": [
    "Now we have it working. But making a list of indexes seems so tedious, especially if we have many items. Let's see a better way. We will use a function called **range()**"
   ]
  },
  {
   "cell_type": "code",
   "execution_count": null,
   "metadata": {},
   "outputs": [],
   "source": [
    "print(list(range(10)))"
   ]
  },
  {
   "cell_type": "markdown",
   "metadata": {},
   "source": [
    "The range function just makes a list of consecutive integers up to n-1. We can also give it other parameters. Let's see examples: "
   ]
  },
  {
   "cell_type": "code",
   "execution_count": null,
   "metadata": {},
   "outputs": [],
   "source": [
    "print(list(range(1, 10)))"
   ]
  },
  {
   "cell_type": "code",
   "execution_count": null,
   "metadata": {},
   "outputs": [],
   "source": [
    "print(list(range(1, 20, 2)))"
   ]
  },
  {
   "cell_type": "code",
   "execution_count": null,
   "metadata": {},
   "outputs": [],
   "source": [
    "print(list(range(0, 20, 2)))"
   ]
  },
  {
   "cell_type": "code",
   "execution_count": null,
   "metadata": {},
   "outputs": [],
   "source": [
    "print(list(range(10, 0, -1)))"
   ]
  },
  {
   "cell_type": "markdown",
   "metadata": {},
   "source": [
    "We can add a first parameter that specifies the starting value and we can also specify the increment to count by a number other than 1. Let's try using this in the loop example now:"
   ]
  },
  {
   "cell_type": "code",
   "execution_count": null,
   "metadata": {},
   "outputs": [],
   "source": [
    "my_list = [1, 2, 3, 4]\n",
    "\n",
    "# Loop through to the length of the list\n",
    "# Since the range function of form:\n",
    "#    range(N)\n",
    "# Does not include N in the list this\n",
    "# Works even though the indexes are from\n",
    "# 0 to N-1 where N = len(my_list)\n",
    "\n",
    "for i in range(len(my_list)):\n",
    "    # Now i is storing the index. Update the value.\n",
    "    my_list[i] = my_list[i] + 1\n",
    "    \n",
    "print(my_list)"
   ]
  },
  {
   "cell_type": "markdown",
   "metadata": {},
   "source": [
    "Now it works. And we can generalize this for any length of list now. We don't have to change the index list if we change the length. Much more useful for writing functions. "
   ]
  },
  {
   "cell_type": "markdown",
   "metadata": {},
   "source": [
    "Now we have seen 2 types of loops. Experiment with both of them and see when each one is useful. You will find that some problems suit one more than the other, though you can usually solve a problem with either. "
   ]
  },
  {
   "cell_type": "markdown",
   "metadata": {},
   "source": [
    "### Nested Lists"
   ]
  },
  {
   "cell_type": "markdown",
   "metadata": {},
   "source": [
    "Sometimes we want to have a list within another one. In python it is easy to do this."
   ]
  },
  {
   "cell_type": "code",
   "execution_count": null,
   "metadata": {
    "collapsed": true
   },
   "outputs": [],
   "source": [
    "my_lst = [[1,10], [20, 3], [23, 9]]"
   ]
  },
  {
   "cell_type": "markdown",
   "metadata": {},
   "source": [
    "We can also use multiple loops to go through this. Let's try printing out each value with nested loops:"
   ]
  },
  {
   "cell_type": "code",
   "execution_count": null,
   "metadata": {},
   "outputs": [],
   "source": [
    "for lst in my_lst:\n",
    "    for item in lst:\n",
    "        print(item)"
   ]
  },
  {
   "cell_type": "markdown",
   "metadata": {},
   "source": [
    "You will no come accross nested lists as much but you should be familiar with them. Those of you in sciences may see them more. In Physics we use them a lot. \n",
    "\n",
    "**Challenge:** Re-write the above loop using the other type of loop (with rnage())"
   ]
  },
  {
   "cell_type": "markdown",
   "metadata": {},
   "source": [
    "## Conversion Specifiers"
   ]
  },
  {
   "cell_type": "markdown",
   "metadata": {},
   "source": [
    "Sometiems you want to specify how something is printed. You can do that using the format modifiers. The typical ones you will use are:\n",
    "    - %d display as an integer\n",
    "    - %f display as float with 6 decimal places\n",
    "    - %.2f display as float with 2 decimal places\n",
    "    - %s display as string\n",
    "    \n",
    "Let's do a quick example:"
   ]
  },
  {
   "cell_type": "code",
   "execution_count": null,
   "metadata": {},
   "outputs": [],
   "source": [
    "print(\"The value of 5/3 is:\", 5/3)"
   ]
  },
  {
   "cell_type": "markdown",
   "metadata": {},
   "source": [
    "This is a lot of decimals. Let's make it 3 decimals:"
   ]
  },
  {
   "cell_type": "code",
   "execution_count": null,
   "metadata": {},
   "outputs": [],
   "source": [
    "print(\"The value of 5/3 is: %.3f\" % (5/3))"
   ]
  },
  {
   "cell_type": "markdown",
   "metadata": {},
   "source": [
    "That's a bit nicer. Now let's see how it makes many items in a single print statement a bit nicer:"
   ]
  },
  {
   "cell_type": "code",
   "execution_count": null,
   "metadata": {},
   "outputs": [],
   "source": [
    "# Print the average of 3 numbers:\n",
    "A1 = 4\n",
    "A2 = 10\n",
    "A3 = 11\n",
    "\n",
    "print(\"The average of:\", A1, \"and\", A2, \"and\", A3, \"is\", (A1+A2+A3)/3)"
   ]
  },
  {
   "cell_type": "markdown",
   "metadata": {},
   "source": [
    "Let's write this more elegantly using conversion specifiers:"
   ]
  },
  {
   "cell_type": "code",
   "execution_count": null,
   "metadata": {},
   "outputs": [],
   "source": [
    "# Print the average of 3 numbers:\n",
    "A1 = 4\n",
    "A2 = 10\n",
    "A3 = 11\n",
    "\n",
    "print(\"The average of %d and %d and %d is %.2f\" % (A1, A2, A3, (A1+A2+A3)/3))"
   ]
  },
  {
   "cell_type": "markdown",
   "metadata": {},
   "source": [
    "Again this is a much nicer way to write it."
   ]
  }
 ],
 "metadata": {
  "kernelspec": {
   "display_name": "Python 3",
   "language": "python",
   "name": "python3"
  },
  "language_info": {
   "codemirror_mode": {
    "name": "ipython",
    "version": 3
   },
   "file_extension": ".py",
   "mimetype": "text/x-python",
   "name": "python",
   "nbconvert_exporter": "python",
   "pygments_lexer": "ipython3",
   "version": "3.5.2"
  }
 },
 "nbformat": 4,
 "nbformat_minor": 2
}
