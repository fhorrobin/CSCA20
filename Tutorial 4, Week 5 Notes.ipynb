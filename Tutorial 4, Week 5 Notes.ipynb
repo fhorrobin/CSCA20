{
 "cells": [
  {
   "cell_type": "markdown",
   "metadata": {},
   "source": [
    "# CSCA20: Lab 4 Week 5\n",
    "## More Strings, Lists, Loops, Conversion Specifiers"
   ]
  },
  {
   "cell_type": "markdown",
   "metadata": {},
   "source": [
    "## 1. Review of Strings"
   ]
  },
  {
   "cell_type": "markdown",
   "metadata": {},
   "source": [
    "Last week we worked with strings. This was our first data type that is stored as an assortment of items. As we saw, a string is just an assortment of characters. Because of this we could do many interesting things with these characters."
   ]
  },
  {
   "cell_type": "markdown",
   "metadata": {},
   "source": [
    "Recall some of the important operations we tried:"
   ]
  },
  {
   "cell_type": "code",
   "execution_count": 101,
   "metadata": {},
   "outputs": [
    {
     "data": {
      "text/plain": [
       "'e'"
      ]
     },
     "execution_count": 101,
     "metadata": {},
     "output_type": "execute_result"
    }
   ],
   "source": [
    "my_str = \"Hello, World!\"\n",
    "\n",
    "# Indexing a string\n",
    "my_str[1]"
   ]
  },
  {
   "cell_type": "code",
   "execution_count": 102,
   "metadata": {},
   "outputs": [
    {
     "data": {
      "text/plain": [
       "'ell'"
      ]
     },
     "execution_count": 102,
     "metadata": {},
     "output_type": "execute_result"
    }
   ],
   "source": [
    "# Splicing a string\n",
    "my_str[1:4]"
   ]
  },
  {
   "cell_type": "code",
   "execution_count": 103,
   "metadata": {},
   "outputs": [
    {
     "data": {
      "text/plain": [
       "('He', 'ello, World!')"
      ]
     },
     "execution_count": 103,
     "metadata": {},
     "output_type": "execute_result"
    }
   ],
   "source": [
    "# Slicing from start or end\n",
    "my_str[:2], my_str[1:]"
   ]
  },
  {
   "cell_type": "code",
   "execution_count": 104,
   "metadata": {},
   "outputs": [
    {
     "data": {
      "text/plain": [
       "'Hello, World!'"
      ]
     },
     "execution_count": 104,
     "metadata": {},
     "output_type": "execute_result"
    }
   ],
   "source": [
    "# Slicing an entire string (We will see where this is useful today)\n",
    "my_str[:]"
   ]
  },
  {
   "cell_type": "markdown",
   "metadata": {},
   "source": [
    "We also saw that we can perform other operations on strings. For example, some of the operators have been **overloaded** to work with strings:"
   ]
  },
  {
   "cell_type": "code",
   "execution_count": 105,
   "metadata": {},
   "outputs": [
    {
     "data": {
      "text/plain": [
       "'Hello, World! CSCA20'"
      ]
     },
     "execution_count": 105,
     "metadata": {},
     "output_type": "execute_result"
    }
   ],
   "source": [
    "str2 = \"CSCA20\"\n",
    "\n",
    "# Try the overloaded + operator\n",
    "my_str + \" \" + str2"
   ]
  },
  {
   "cell_type": "code",
   "execution_count": 106,
   "metadata": {},
   "outputs": [
    {
     "data": {
      "text/plain": [
       "'CSCA20CSCA20CSCA20CSCA20CSCA20'"
      ]
     },
     "execution_count": 106,
     "metadata": {},
     "output_type": "execute_result"
    }
   ],
   "source": [
    "# Overlaoded *\n",
    "str2 * 5"
   ]
  },
  {
   "cell_type": "markdown",
   "metadata": {},
   "source": [
    "There are also many string methods we can use. We saw some of them last week such as:\n",
    "    - isalpha()\n",
    "    - replace()\n",
    "    - find()\n",
    "    - index()\n",
    "    - upper()\n",
    "    \n",
    "We also saw some builtin functions we can use with strings:\n",
    "    - len()\n",
    "    - str()\n",
    "    \n",
    "**Question:** What is the difference between a method and a function?\n",
    "\n",
    "If we want to list all the builtin methods, we can use the following:"
   ]
  },
  {
   "cell_type": "code",
   "execution_count": 107,
   "metadata": {},
   "outputs": [
    {
     "data": {
      "text/plain": [
       "['__add__',\n",
       " '__class__',\n",
       " '__contains__',\n",
       " '__delattr__',\n",
       " '__dir__',\n",
       " '__doc__',\n",
       " '__eq__',\n",
       " '__format__',\n",
       " '__ge__',\n",
       " '__getattribute__',\n",
       " '__getitem__',\n",
       " '__getnewargs__',\n",
       " '__gt__',\n",
       " '__hash__',\n",
       " '__init__',\n",
       " '__iter__',\n",
       " '__le__',\n",
       " '__len__',\n",
       " '__lt__',\n",
       " '__mod__',\n",
       " '__mul__',\n",
       " '__ne__',\n",
       " '__new__',\n",
       " '__reduce__',\n",
       " '__reduce_ex__',\n",
       " '__repr__',\n",
       " '__rmod__',\n",
       " '__rmul__',\n",
       " '__setattr__',\n",
       " '__sizeof__',\n",
       " '__str__',\n",
       " '__subclasshook__',\n",
       " 'capitalize',\n",
       " 'casefold',\n",
       " 'center',\n",
       " 'count',\n",
       " 'encode',\n",
       " 'endswith',\n",
       " 'expandtabs',\n",
       " 'find',\n",
       " 'format',\n",
       " 'format_map',\n",
       " 'index',\n",
       " 'isalnum',\n",
       " 'isalpha',\n",
       " 'isdecimal',\n",
       " 'isdigit',\n",
       " 'isidentifier',\n",
       " 'islower',\n",
       " 'isnumeric',\n",
       " 'isprintable',\n",
       " 'isspace',\n",
       " 'istitle',\n",
       " 'isupper',\n",
       " 'join',\n",
       " 'ljust',\n",
       " 'lower',\n",
       " 'lstrip',\n",
       " 'maketrans',\n",
       " 'partition',\n",
       " 'replace',\n",
       " 'rfind',\n",
       " 'rindex',\n",
       " 'rjust',\n",
       " 'rpartition',\n",
       " 'rsplit',\n",
       " 'rstrip',\n",
       " 'split',\n",
       " 'splitlines',\n",
       " 'startswith',\n",
       " 'strip',\n",
       " 'swapcase',\n",
       " 'title',\n",
       " 'translate',\n",
       " 'upper',\n",
       " 'zfill']"
      ]
     },
     "execution_count": 107,
     "metadata": {},
     "output_type": "execute_result"
    }
   ],
   "source": [
    "dir(str)"
   ]
  },
  {
   "cell_type": "markdown",
   "metadata": {},
   "source": [
    "Sometimes the task is too complicated to look at the whole string. We may then wish to visit each character individually and perform an operation on it. We do this with loops. Let's review an example of this:"
   ]
  },
  {
   "cell_type": "code",
   "execution_count": 108,
   "metadata": {
    "collapsed": true
   },
   "outputs": [],
   "source": [
    "def remove_punc(str1):\n",
    "    \"\"\"Remove all non alphanumeric, non space characters.\"\"\"\n",
    "    \n",
    "    str2 = \"\"\n",
    "    for char in str1:\n",
    "        if char.isalnum() or char.isspace():\n",
    "            str2 = str2 + char\n",
    "            \n",
    "    return str2"
   ]
  },
  {
   "cell_type": "code",
   "execution_count": 109,
   "metadata": {},
   "outputs": [
    {
     "data": {
      "text/plain": [
       "'CSCA20 Tutorial 4 week 5'"
      ]
     },
     "execution_count": 109,
     "metadata": {},
     "output_type": "execute_result"
    }
   ],
   "source": [
    "my_str = \"CSCA20 Tutorial: 4, week: 5!!!\"\n",
    "remove_punc(my_str)"
   ]
  },
  {
   "cell_type": "markdown",
   "metadata": {},
   "source": [
    "There are different ways to do the above example. Notice that I return a new string with the punctuation stripped rather than editing the contents of the original one.\n",
    "\n",
    "This is because strings are **immutable**. What does it mean to be (im)mutable? We can see it in an example:"
   ]
  },
  {
   "cell_type": "code",
   "execution_count": 110,
   "metadata": {},
   "outputs": [
    {
     "ename": "TypeError",
     "evalue": "'str' object does not support item assignment",
     "output_type": "error",
     "traceback": [
      "\u001b[0;31m---------------------------------------------------------------------------\u001b[0m",
      "\u001b[0;31mTypeError\u001b[0m                                 Traceback (most recent call last)",
      "\u001b[0;32m<ipython-input-110-e8705780a7b9>\u001b[0m in \u001b[0;36m<module>\u001b[0;34m()\u001b[0m\n\u001b[1;32m      1\u001b[0m \u001b[0mmy_str\u001b[0m \u001b[0;34m=\u001b[0m \u001b[0;34m\"Hello!\"\u001b[0m\u001b[0;34m\u001b[0m\u001b[0m\n\u001b[0;32m----> 2\u001b[0;31m \u001b[0mmy_str\u001b[0m\u001b[0;34m[\u001b[0m\u001b[0;36m2\u001b[0m\u001b[0;34m]\u001b[0m \u001b[0;34m=\u001b[0m \u001b[0;34m\"a\"\u001b[0m\u001b[0;34m\u001b[0m\u001b[0m\n\u001b[0m",
      "\u001b[0;31mTypeError\u001b[0m: 'str' object does not support item assignment"
     ]
    }
   ],
   "source": [
    "my_str = \"Hello!\"\n",
    "my_str[2] = \"a\""
   ]
  },
  {
   "cell_type": "markdown",
   "metadata": {},
   "source": [
    "So even though we can access the individual characters in memory, we cannot change them. We can only re-assign the string to a new value: "
   ]
  },
  {
   "cell_type": "code",
   "execution_count": 111,
   "metadata": {},
   "outputs": [
    {
     "name": "stdout",
     "output_type": "stream",
     "text": [
      "str1 now stores: 'Hello!' and my_str: 'New Value'\n"
     ]
    }
   ],
   "source": [
    "my_str = \"Hello!\"\n",
    "str1 = my_str\n",
    "my_str = \"New Value\"\n",
    "\n",
    "print(\"str1 now stores: '%s' and my_str: '%s'\" % (str1, my_str))"
   ]
  },
  {
   "cell_type": "markdown",
   "metadata": {},
   "source": [
    "So we can reassign the value of a string, but this doesn't modify the initial string in memory. This only creates a new memory location with a different value. \n",
    "\n",
    "Most data types in Python exibit this behaviour, but not all do. We will now see that **lists** are an example of a **mutable** data type."
   ]
  },
  {
   "cell_type": "markdown",
   "metadata": {},
   "source": [
    "## 2. Lists"
   ]
  },
  {
   "cell_type": "markdown",
   "metadata": {},
   "source": [
    "Sometimes we wish to store a collection of objects (of any type). Let's say we were recording values of length for an experiment. We could store each measure in variables but we would eventually have many different variables."
   ]
  },
  {
   "cell_type": "code",
   "execution_count": 112,
   "metadata": {
    "collapsed": true
   },
   "outputs": [],
   "source": [
    "len1 = 10.0\n",
    "len2 = 20.2\n",
    "len3 = 25.4\n",
    "len4 = 26.7"
   ]
  },
  {
   "cell_type": "markdown",
   "metadata": {},
   "source": [
    "What if we had 100 or 1000 or 1 Billion values...that is too many variables. Let's try using lists:"
   ]
  },
  {
   "cell_type": "code",
   "execution_count": 113,
   "metadata": {
    "collapsed": true
   },
   "outputs": [],
   "source": [
    "length = [10.0, 20.2, 25.4, 26.7]"
   ]
  },
  {
   "cell_type": "markdown",
   "metadata": {},
   "source": [
    "Now we have stored the same values in a list. We can access these in the same way we access the values in a string. Remember the first index is 0."
   ]
  },
  {
   "cell_type": "code",
   "execution_count": 114,
   "metadata": {},
   "outputs": [
    {
     "data": {
      "text/plain": [
       "20.2"
      ]
     },
     "execution_count": 114,
     "metadata": {},
     "output_type": "execute_result"
    }
   ],
   "source": [
    "length[1]"
   ]
  },
  {
   "cell_type": "markdown",
   "metadata": {},
   "source": [
    "In Python lists can contain any type of data. They can even contain mixed types of data:"
   ]
  },
  {
   "cell_type": "code",
   "execution_count": 115,
   "metadata": {
    "collapsed": true
   },
   "outputs": [],
   "source": [
    "student = [\"Bob\", 1000000000, 18, \"UTSC\"]"
   ]
  },
  {
   "cell_type": "code",
   "execution_count": 116,
   "metadata": {},
   "outputs": [
    {
     "data": {
      "text/plain": [
       "(str, int)"
      ]
     },
     "execution_count": 116,
     "metadata": {},
     "output_type": "execute_result"
    }
   ],
   "source": [
    "type(student[0]), type(student[1])"
   ]
  },
  {
   "cell_type": "markdown",
   "metadata": {},
   "source": [
    "You can see that each value in the list is stored just as a varible would be. It is just a more convenient notation for large sets of data."
   ]
  },
  {
   "cell_type": "markdown",
   "metadata": {},
   "source": [
    "### Mutability"
   ]
  },
  {
   "cell_type": "markdown",
   "metadata": {},
   "source": [
    "We earlier discussed how strings are immutable. Now let's see an example of what I meant when I said lists are mutable. We will use the student list I created above as an example:"
   ]
  },
  {
   "cell_type": "code",
   "execution_count": 117,
   "metadata": {},
   "outputs": [
    {
     "name": "stdout",
     "output_type": "stream",
     "text": [
      "Bob\n",
      "Joe\n",
      "['Joe', 1000000000, 18, 'UTSC', 4.0]\n"
     ]
    }
   ],
   "source": [
    "# First print the first value (the name in this case)\n",
    "print(student[0])\n",
    "\n",
    "# Now change the name to \"Joe\"\n",
    "student[0] = \"Joe\"\n",
    "\n",
    "# Print the name again\n",
    "print(student[0])\n",
    "\n",
    "# Now append the student's GPA (4.0)\n",
    "student.append(4.0)\n",
    "\n",
    "# Print all the values of student\n",
    "print(student)"
   ]
  },
  {
   "cell_type": "markdown",
   "metadata": {},
   "source": [
    "As you can see here, we can modify the value of part of the list. We can also append new values to the end of the list. This is different than strings. Let's see an important conseqence of this and why it is important to remember that lists are mutable:"
   ]
  },
  {
   "cell_type": "code",
   "execution_count": 118,
   "metadata": {},
   "outputs": [
    {
     "name": "stdout",
     "output_type": "stream",
     "text": [
      "['Joe', 1000000000, 18, 'UTSC', 4.0] ['Joe', 1000000000, 18, 'UTSC', 4.0]\n"
     ]
    }
   ],
   "source": [
    "# Make a new variable called student 1 and set equal to student\n",
    "student1 = student\n",
    "\n",
    "# Print the 2 variables\n",
    "print(student, student1)"
   ]
  },
  {
   "cell_type": "code",
   "execution_count": 119,
   "metadata": {},
   "outputs": [
    {
     "name": "stdout",
     "output_type": "stream",
     "text": [
      "['Alice', 1000000001, 19, 'UTSC', 4.0] ['Alice', 1000000001, 19, 'UTSC', 4.0]\n"
     ]
    }
   ],
   "source": [
    "# Change the values of stuent 1\n",
    "student1[0] = \"Alice\"\n",
    "student1[1] = 1000000001\n",
    "student1[2] = 19\n",
    "\n",
    "# Print the 2 variables again\n",
    "print(student, student1)"
   ]
  },
  {
   "cell_type": "markdown",
   "metadata": {},
   "source": [
    "Interestingly, changing the value of student1 changes the value of student as well. Just to remind you, let's try this with a different (immutable) type:"
   ]
  },
  {
   "cell_type": "code",
   "execution_count": 125,
   "metadata": {},
   "outputs": [
    {
     "name": "stdout",
     "output_type": "stream",
     "text": [
      "A = 1 | B = 1\n"
     ]
    }
   ],
   "source": [
    "a = 1\n",
    "b = a\n",
    "\n",
    "print(\"A =\", a, \"| B =\", b)"
   ]
  },
  {
   "cell_type": "code",
   "execution_count": 126,
   "metadata": {},
   "outputs": [
    {
     "name": "stdout",
     "output_type": "stream",
     "text": [
      "A = 1 | B = 2\n"
     ]
    }
   ],
   "source": [
    "b = 2\n",
    "\n",
    "print(\"A =\", a, \"| B =\", b)"
   ]
  },
  {
   "cell_type": "markdown",
   "metadata": {},
   "source": [
    "As you see here, an immutrable type like integer does not have this behaviour. It would seem that b is really a **copy** of a but not referring to a itself. If we looked at how the memory was working we would see this is indeed the case but we will not discuss this much detail in this course. Feel free to ask me if you want to get the general idea though."
   ]
  },
  {
   "cell_type": "markdown",
   "metadata": {},
   "source": [
    "So sometimes we may want to make a copy of a list so we can keep the original and edit the new one. Lets try to do this. Recall that I mentioned the [:] slicing operator for the entire list would become useful? Well, this is what it is useful for. We can use [:] to create a new copy of the entire list."
   ]
  },
  {
   "cell_type": "code",
   "execution_count": 127,
   "metadata": {},
   "outputs": [
    {
     "name": "stdout",
     "output_type": "stream",
     "text": [
      "['Alice', 1000000001, 19, 'UTSC', 4.0] ['Alice', 1000000001, 19, 'UTSC', 4.0]\n"
     ]
    }
   ],
   "source": [
    "student2 = student1[:]\n",
    "\n",
    "print(student1, student2)"
   ]
  },
  {
   "cell_type": "code",
   "execution_count": 128,
   "metadata": {},
   "outputs": [
    {
     "name": "stdout",
     "output_type": "stream",
     "text": [
      "['Alice', 1000000001, 19, 'UTSC', 4.0] ['Bob', 1000000002, 18, 'UTSC', 4.0]\n"
     ]
    }
   ],
   "source": [
    "# Change the values of stuent 1\n",
    "student2[0] = \"Bob\"\n",
    "student2[1] = 1000000002\n",
    "student2[2] = 18\n",
    "\n",
    "# Print the 2 variables again\n",
    "print(student1, student2)"
   ]
  },
  {
   "cell_type": "markdown",
   "metadata": {},
   "source": [
    "Now when we update the values in the list the original lists remains unchanged. This may come in use sometimes. In general making a copy is less effiient though so for large lists in particular, it may be wise to avoid copying them. "
   ]
  },
  {
   "cell_type": "markdown",
   "metadata": {},
   "source": [
    "As with strings there are many useful methods and functions we can use with lists. To list the methods we once again use dir()"
   ]
  },
  {
   "cell_type": "code",
   "execution_count": 129,
   "metadata": {},
   "outputs": [
    {
     "data": {
      "text/plain": [
       "['__add__',\n",
       " '__class__',\n",
       " '__contains__',\n",
       " '__delattr__',\n",
       " '__delitem__',\n",
       " '__dir__',\n",
       " '__doc__',\n",
       " '__eq__',\n",
       " '__format__',\n",
       " '__ge__',\n",
       " '__getattribute__',\n",
       " '__getitem__',\n",
       " '__gt__',\n",
       " '__hash__',\n",
       " '__iadd__',\n",
       " '__imul__',\n",
       " '__init__',\n",
       " '__iter__',\n",
       " '__le__',\n",
       " '__len__',\n",
       " '__lt__',\n",
       " '__mul__',\n",
       " '__ne__',\n",
       " '__new__',\n",
       " '__reduce__',\n",
       " '__reduce_ex__',\n",
       " '__repr__',\n",
       " '__reversed__',\n",
       " '__rmul__',\n",
       " '__setattr__',\n",
       " '__setitem__',\n",
       " '__sizeof__',\n",
       " '__str__',\n",
       " '__subclasshook__',\n",
       " 'append',\n",
       " 'clear',\n",
       " 'copy',\n",
       " 'count',\n",
       " 'extend',\n",
       " 'index',\n",
       " 'insert',\n",
       " 'pop',\n",
       " 'remove',\n",
       " 'reverse',\n",
       " 'sort']"
      ]
     },
     "execution_count": 129,
     "metadata": {},
     "output_type": "execute_result"
    }
   ],
   "source": [
    "dir(list)"
   ]
  },
  {
   "cell_type": "markdown",
   "metadata": {},
   "source": [
    "Let's try some examples of this. We already saw .append(). Lets try others:"
   ]
  },
  {
   "cell_type": "code",
   "execution_count": 130,
   "metadata": {},
   "outputs": [
    {
     "data": {
      "text/plain": [
       "1"
      ]
     },
     "execution_count": 130,
     "metadata": {},
     "output_type": "execute_result"
    }
   ],
   "source": [
    "my_list = [1, 2, 3, 4]\n",
    "my_list.index(2)"
   ]
  },
  {
   "cell_type": "code",
   "execution_count": 131,
   "metadata": {},
   "outputs": [
    {
     "data": {
      "text/plain": [
       "4"
      ]
     },
     "execution_count": 131,
     "metadata": {},
     "output_type": "execute_result"
    }
   ],
   "source": [
    "my_list.pop()"
   ]
  },
  {
   "cell_type": "code",
   "execution_count": 132,
   "metadata": {},
   "outputs": [
    {
     "data": {
      "text/plain": [
       "[1, 2, 3]"
      ]
     },
     "execution_count": 132,
     "metadata": {},
     "output_type": "execute_result"
    }
   ],
   "source": [
    "my_list"
   ]
  },
  {
   "cell_type": "markdown",
   "metadata": {},
   "source": [
    "So index() finds the index of an object and pop() returns the last value and removes it from the list. \n",
    "\n",
    "**Challenge:** Implement some of these methods yourself. This will help you practice with lists."
   ]
  },
  {
   "cell_type": "markdown",
   "metadata": {},
   "source": [
    "Some functions you may find handy: min(), max(), len()\n",
    "\n",
    "Of course there are others as well. You can have a look at the documentation to see a more complete list."
   ]
  },
  {
   "cell_type": "code",
   "execution_count": 133,
   "metadata": {},
   "outputs": [
    {
     "data": {
      "text/plain": [
       "5"
      ]
     },
     "execution_count": 133,
     "metadata": {},
     "output_type": "execute_result"
    }
   ],
   "source": [
    "my_list =  [10, 20, 10, 50, 5]\n",
    "len(my_list)"
   ]
  },
  {
   "cell_type": "code",
   "execution_count": 134,
   "metadata": {},
   "outputs": [
    {
     "data": {
      "text/plain": [
       "50"
      ]
     },
     "execution_count": 134,
     "metadata": {},
     "output_type": "execute_result"
    }
   ],
   "source": [
    "max(my_list)"
   ]
  },
  {
   "cell_type": "markdown",
   "metadata": {},
   "source": [
    "### Slicing"
   ]
  },
  {
   "cell_type": "markdown",
   "metadata": {},
   "source": [
    "As with strings, you can take slices of lists. We saw this with [:] already, let's see some more examples:"
   ]
  },
  {
   "cell_type": "code",
   "execution_count": 135,
   "metadata": {
    "collapsed": true
   },
   "outputs": [],
   "source": [
    "my_list = [1, 2, 3, 4]"
   ]
  },
  {
   "cell_type": "code",
   "execution_count": 136,
   "metadata": {},
   "outputs": [
    {
     "name": "stdout",
     "output_type": "stream",
     "text": [
      "[2]\n",
      "[1, 2]\n",
      "[3, 4]\n"
     ]
    }
   ],
   "source": [
    "print(my_list[1:2])\n",
    "print(my_list[:2])\n",
    "print(my_list[2:])"
   ]
  },
  {
   "cell_type": "markdown",
   "metadata": {},
   "source": [
    "We can also add lists or slices of lists together if we wish:"
   ]
  },
  {
   "cell_type": "code",
   "execution_count": 137,
   "metadata": {},
   "outputs": [
    {
     "data": {
      "text/plain": [
       "[1, 2, 3, 4, 5, 6]"
      ]
     },
     "execution_count": 137,
     "metadata": {},
     "output_type": "execute_result"
    }
   ],
   "source": [
    "lst1 = [1, 2, 3]\n",
    "lst2 = [4, 5, 6]\n",
    "\n",
    "lst1 + lst2"
   ]
  },
  {
   "cell_type": "markdown",
   "metadata": {},
   "source": [
    "Play around with the various operations you can perform on lists. You will find lists are very useful but a bit more complicated than other data types so be sure to practice to get the hang of using them. \n",
    "\n",
    "As usual, help() and dir() as well as online resources and documentation are your friend for getting to know what you can do with lists."
   ]
  },
  {
   "cell_type": "markdown",
   "metadata": {},
   "source": [
    "## 3. Loops"
   ]
  },
  {
   "cell_type": "markdown",
   "metadata": {},
   "source": [
    "Like we did with strings, we will often want to write a loop to go through a list. Let's try this. We will first do it the same way we did with strings and then look at how we can do it with indexes."
   ]
  },
  {
   "cell_type": "code",
   "execution_count": 138,
   "metadata": {},
   "outputs": [
    {
     "name": "stdout",
     "output_type": "stream",
     "text": [
      "1\n",
      "10\n",
      "9\n",
      "8\n",
      "23\n",
      "12\n",
      "3\n"
     ]
    }
   ],
   "source": [
    "my_list = [1, 10, 9, 8, 23, 12, 3]\n",
    "\n",
    "for item in my_list:\n",
    "    print(item)"
   ]
  },
  {
   "cell_type": "markdown",
   "metadata": {},
   "source": [
    "The same simple example we used for strings also works with lists. Let's try something more complicated. I'll write my own version of the max() function using loops."
   ]
  },
  {
   "cell_type": "code",
   "execution_count": 139,
   "metadata": {
    "collapsed": true
   },
   "outputs": [],
   "source": [
    "def lmax(lst):\n",
    "    \"\"\"Return the maximum value in a list of numbers\"\"\"\n",
    "    # Store the max, initialize to the first value of the list\n",
    "    max_num = lst[0]\n",
    "    \n",
    "    # Iterate through the list\n",
    "    for item in lst:\n",
    "        # See if the number is bigger\n",
    "        if item > max_num:\n",
    "            max_num = item\n",
    "        \n",
    "    return max_num"
   ]
  },
  {
   "cell_type": "code",
   "execution_count": 140,
   "metadata": {},
   "outputs": [
    {
     "data": {
      "text/plain": [
       "8"
      ]
     },
     "execution_count": 140,
     "metadata": {},
     "output_type": "execute_result"
    }
   ],
   "source": [
    "# Call the function\n",
    "lmax([1, 2, 3, 5, 8, 2, 4])"
   ]
  },
  {
   "cell_type": "markdown",
   "metadata": {},
   "source": [
    "Take a moment to see how this works and make sure you understand. The mechanics of how I wrote this function follows the same general stucture you will use for many of the problems this week. "
   ]
  },
  {
   "cell_type": "markdown",
   "metadata": {},
   "source": [
    "Since lists are mutable, let's try to modify each value of the list using a loop. We should be able to do this right?"
   ]
  },
  {
   "cell_type": "code",
   "execution_count": 141,
   "metadata": {},
   "outputs": [
    {
     "name": "stdout",
     "output_type": "stream",
     "text": [
      "[1, 2, 3, 4]\n"
     ]
    }
   ],
   "source": [
    "my_list = [1, 2, 3, 4]\n",
    "\n",
    "for item in my_list:\n",
    "    item = item + 1\n",
    "\n",
    "print(my_list)"
   ]
  },
  {
   "cell_type": "markdown",
   "metadata": {},
   "source": [
    "Hmm, this doesn't work...it would seem **item** is storing a copy of each value rather than pointing to the value itself. We will have to use a different way. Let's recall how we modified it before and construct a loop method to do it:"
   ]
  },
  {
   "cell_type": "markdown",
   "metadata": {},
   "source": [
    "We want to call:\n",
    "    - my_list[0] = my_list[0] + 1\n",
    "    - my_list[1] = my_list[1] + 1\n",
    "    - ...\n",
    "    \n",
    "Let's make a loop that does exatly that:"
   ]
  },
  {
   "cell_type": "code",
   "execution_count": 142,
   "metadata": {},
   "outputs": [
    {
     "name": "stdout",
     "output_type": "stream",
     "text": [
      "[2, 3, 4, 5]\n"
     ]
    }
   ],
   "source": [
    "my_list = [1, 2, 3, 4]\n",
    "indexes = [0, 1, 2, 3]\n",
    "\n",
    "for i in indexes:\n",
    "    my_list[i] = my_list[i] + 1\n",
    "    \n",
    "print(my_list)"
   ]
  },
  {
   "cell_type": "markdown",
   "metadata": {},
   "source": [
    "Now we have it working! But making a list of indexes seems so tedious. Especially if we have many items. Let's see a better way. We will use a function called **range()**"
   ]
  },
  {
   "cell_type": "code",
   "execution_count": 143,
   "metadata": {},
   "outputs": [
    {
     "name": "stdout",
     "output_type": "stream",
     "text": [
      "[0, 1, 2, 3, 4, 5, 6, 7, 8, 9]\n"
     ]
    }
   ],
   "source": [
    "print(list(range(10)))"
   ]
  },
  {
   "cell_type": "markdown",
   "metadata": {},
   "source": [
    "The range function just makes a list of consecutive integers up to n-1. We can also give it other parameters. Let's see examples: "
   ]
  },
  {
   "cell_type": "code",
   "execution_count": 144,
   "metadata": {},
   "outputs": [
    {
     "name": "stdout",
     "output_type": "stream",
     "text": [
      "[1, 2, 3, 4, 5, 6, 7, 8, 9]\n"
     ]
    }
   ],
   "source": [
    "print(list(range(1, 10)))"
   ]
  },
  {
   "cell_type": "code",
   "execution_count": 145,
   "metadata": {},
   "outputs": [
    {
     "name": "stdout",
     "output_type": "stream",
     "text": [
      "[1, 3, 5, 7, 9, 11, 13, 15, 17, 19]\n"
     ]
    }
   ],
   "source": [
    "print(list(range(1, 20, 2)))"
   ]
  },
  {
   "cell_type": "code",
   "execution_count": 146,
   "metadata": {},
   "outputs": [
    {
     "name": "stdout",
     "output_type": "stream",
     "text": [
      "[0, 2, 4, 6, 8, 10, 12, 14, 16, 18]\n"
     ]
    }
   ],
   "source": [
    "print(list(range(0, 20, 2)))"
   ]
  },
  {
   "cell_type": "markdown",
   "metadata": {},
   "source": [
    "We can add a first parameter that specifies the starting value and we can also specify the increment to count by a number other than 1. Let's try using this in the loop example now:"
   ]
  },
  {
   "cell_type": "code",
   "execution_count": 147,
   "metadata": {},
   "outputs": [
    {
     "name": "stdout",
     "output_type": "stream",
     "text": [
      "[2, 3, 4, 5]\n"
     ]
    }
   ],
   "source": [
    "my_list = [1, 2, 3, 4]\n",
    "\n",
    "for i in range(len(my_list)):\n",
    "    my_list[i] = my_list[i] + 1\n",
    "    \n",
    "print(my_list)"
   ]
  },
  {
   "cell_type": "markdown",
   "metadata": {},
   "source": [
    "Now it works. And we can generalize this for any length of list now. We don't have to change the index list if we change the length. Much more useful for writing functions. "
   ]
  },
  {
   "cell_type": "markdown",
   "metadata": {},
   "source": [
    "Now we have seen 2 types of loops. Experiment with both of them and see when each one is useful. You will find that some problems suit one more than the other, though you can usually solve a problem with either. "
   ]
  },
  {
   "cell_type": "markdown",
   "metadata": {},
   "source": [
    "### Nested Lists"
   ]
  },
  {
   "cell_type": "markdown",
   "metadata": {},
   "source": [
    "Sometimes we want to have a list within another one. We can do this. "
   ]
  },
  {
   "cell_type": "code",
   "execution_count": 148,
   "metadata": {
    "collapsed": true
   },
   "outputs": [],
   "source": [
    "my_lst = [[1,10], [20, 3], [23, 9]]"
   ]
  },
  {
   "cell_type": "markdown",
   "metadata": {},
   "source": [
    "We can also use multiple loops to go through this. Let's try printing out each value with nested loops:"
   ]
  },
  {
   "cell_type": "code",
   "execution_count": 149,
   "metadata": {},
   "outputs": [
    {
     "name": "stdout",
     "output_type": "stream",
     "text": [
      "1\n",
      "10\n",
      "20\n",
      "3\n",
      "23\n",
      "9\n"
     ]
    }
   ],
   "source": [
    "for lst in my_lst:\n",
    "    for item in lst:\n",
    "        print(item)"
   ]
  },
  {
   "cell_type": "markdown",
   "metadata": {},
   "source": [
    "You will no come accross nested lists as much but you should be familiar with them. Those of you in sciences may see them more. In Physics we use them a lot. \n",
    "\n",
    "**Challenge:** Re-write the above loop using the other type of loop (with rnage())"
   ]
  },
  {
   "cell_type": "markdown",
   "metadata": {},
   "source": [
    "## Conversion Specifiers"
   ]
  },
  {
   "cell_type": "markdown",
   "metadata": {},
   "source": [
    "Sometiems you want to specify how something is printed. You can do that using the format modifiers. The typical ones you will use are:\n",
    "    - %d display as an integer\n",
    "    - %f display as float with 6 decimal places\n",
    "    - %.2f display as float with 2 decimal places\n",
    "    - %s display as string\n",
    "    \n",
    "Let's do a quick example:"
   ]
  },
  {
   "cell_type": "code",
   "execution_count": 150,
   "metadata": {},
   "outputs": [
    {
     "name": "stdout",
     "output_type": "stream",
     "text": [
      "The value of 5/3 is: 1.6666666666666667\n"
     ]
    }
   ],
   "source": [
    "print(\"The value of 5/3 is:\", 5/3)"
   ]
  },
  {
   "cell_type": "markdown",
   "metadata": {},
   "source": [
    "This is a lot of decimals. Let's make it 3 decimals:"
   ]
  },
  {
   "cell_type": "code",
   "execution_count": 151,
   "metadata": {},
   "outputs": [
    {
     "name": "stdout",
     "output_type": "stream",
     "text": [
      "The value of 5/3 is: 1.667\n"
     ]
    }
   ],
   "source": [
    "print(\"The value of 5/3 is: %.3f\" % (5/3))"
   ]
  },
  {
   "cell_type": "markdown",
   "metadata": {},
   "source": [
    "That's a bit nicer. Now let's see how it makes many items in a single print statement a bit nicer:"
   ]
  },
  {
   "cell_type": "code",
   "execution_count": 152,
   "metadata": {},
   "outputs": [
    {
     "name": "stdout",
     "output_type": "stream",
     "text": [
      "The average of: 4 and 10 and 11 is 8.333333333333334\n"
     ]
    }
   ],
   "source": [
    "# Print the average of 3 numbers:\n",
    "A1 = 4\n",
    "A2 = 10\n",
    "A3 = 11\n",
    "\n",
    "print(\"The average of:\", A1, \"and\", A2, \"and\", A3, \"is\", (A1+A2+A3)/3)"
   ]
  },
  {
   "cell_type": "markdown",
   "metadata": {},
   "source": [
    "Let's write this more elegantly using conversion specifiers:"
   ]
  },
  {
   "cell_type": "code",
   "execution_count": 153,
   "metadata": {},
   "outputs": [
    {
     "name": "stdout",
     "output_type": "stream",
     "text": [
      "The average of 4 and 10 and 11 is 8.33\n"
     ]
    }
   ],
   "source": [
    "# Print the average of 3 numbers:\n",
    "A1 = 4\n",
    "A2 = 10\n",
    "A3 = 11\n",
    "\n",
    "print(\"The average of %d and %d and %d is %.2f\" % (A1, A2, A3, (A1+A2+A3)/3))"
   ]
  },
  {
   "cell_type": "markdown",
   "metadata": {},
   "source": [
    "Again this is a much nicer way to write it."
   ]
  },
  {
   "cell_type": "markdown",
   "metadata": {},
   "source": [
    "As usual, you should now work on the lab or the exercise and ask we any questions you may have. Also, feel free to ask me about anything you didn't understand from the past exercises or lectures. "
   ]
  }
 ],
 "metadata": {
  "kernelspec": {
   "display_name": "Python 3",
   "language": "python",
   "name": "python3"
  },
  "language_info": {
   "codemirror_mode": {
    "name": "ipython",
    "version": 3
   },
   "file_extension": ".py",
   "mimetype": "text/x-python",
   "name": "python",
   "nbconvert_exporter": "python",
   "pygments_lexer": "ipython3",
   "version": "3.5.2"
  }
 },
 "nbformat": 4,
 "nbformat_minor": 2
}
