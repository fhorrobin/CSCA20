{
 "cells": [
  {
   "cell_type": "markdown",
   "metadata": {
    "slideshow": {
     "slide_type": "slide"
    }
   },
   "source": [
    "# CSCA20: Lab 1, Week 2\n",
    "## The Python Shell, Variables and Basic Functions"
   ]
  },
  {
   "cell_type": "markdown",
   "metadata": {},
   "source": [
    "The python shell is very useful to use as a basic calculator."
   ]
  },
  {
   "cell_type": "code",
   "execution_count": 1,
   "metadata": {},
   "outputs": [
    {
     "data": {
      "text/plain": [
       "50"
      ]
     },
     "execution_count": 1,
     "metadata": {},
     "output_type": "execute_result"
    }
   ],
   "source": [
    "10 * (2 + 3)"
   ]
  },
  {
   "cell_type": "markdown",
   "metadata": {},
   "source": [
    "The standard operators available in Python are:\n",
    "   * +\n",
    "   * -\n",
    "   * *\n",
    "   * /\n",
    "   * //\n",
    "   * %"
   ]
  },
  {
   "cell_type": "markdown",
   "metadata": {},
   "source": [
    "**Question:** What is the difference between / and // in Python, why is this useful?"
   ]
  },
  {
   "cell_type": "markdown",
   "metadata": {
    "collapsed": true
   },
   "source": [
    "Another useful application of the Python shell is quickly calling useful builtin functions. I will show the **type** function as an example of this:"
   ]
  },
  {
   "cell_type": "code",
   "execution_count": 2,
   "metadata": {
    "scrolled": true
   },
   "outputs": [
    {
     "data": {
      "text/plain": [
       "float"
      ]
     },
     "execution_count": 2,
     "metadata": {},
     "output_type": "execute_result"
    }
   ],
   "source": [
    "type(3.14)"
   ]
  },
  {
   "cell_type": "code",
   "execution_count": 3,
   "metadata": {
    "scrolled": true
   },
   "outputs": [
    {
     "data": {
      "text/plain": [
       "int"
      ]
     },
     "execution_count": 3,
     "metadata": {},
     "output_type": "execute_result"
    }
   ],
   "source": [
    "type(1)"
   ]
  },
  {
   "cell_type": "code",
   "execution_count": 4,
   "metadata": {
    "scrolled": true
   },
   "outputs": [
    {
     "data": {
      "text/plain": [
       "float"
      ]
     },
     "execution_count": 4,
     "metadata": {},
     "output_type": "execute_result"
    }
   ],
   "source": [
    "type(1.)"
   ]
  },
  {
   "cell_type": "markdown",
   "metadata": {},
   "source": [
    "Doing arrithmetic in the shell is nice, but sometimes we would like to store values to use them later. This is where variables are useful. Rememember that Python parses the data on the right and stores it to the variable on the left.\n",
    "\n",
    "**Question:** Which of the following methods is correct?"
   ]
  },
  {
   "cell_type": "code",
   "execution_count": 5,
   "metadata": {
    "scrolled": true
   },
   "outputs": [
    {
     "ename": "SyntaxError",
     "evalue": "can't assign to operator (<ipython-input-5-bf94119f8b42>, line 5)",
     "output_type": "error",
     "traceback": [
      "\u001b[0;36m  File \u001b[0;32m\"<ipython-input-5-bf94119f8b42>\"\u001b[0;36m, line \u001b[0;32m5\u001b[0m\n\u001b[0;31m    x + y = z\u001b[0m\n\u001b[0m             ^\u001b[0m\n\u001b[0;31mSyntaxError\u001b[0m\u001b[0;31m:\u001b[0m can't assign to operator\n"
     ]
    }
   ],
   "source": [
    "# Define variables x and y and then define z as x + y \n",
    "# Method 1\n",
    "x = 10\n",
    "y = 7\n",
    "x + y = z\n",
    "\n",
    "# Show the value of z\n",
    "z"
   ]
  },
  {
   "cell_type": "code",
   "execution_count": 6,
   "metadata": {
    "scrolled": true
   },
   "outputs": [
    {
     "data": {
      "text/plain": [
       "17"
      ]
     },
     "execution_count": 6,
     "metadata": {},
     "output_type": "execute_result"
    }
   ],
   "source": [
    "# Method 2\n",
    "x = 10\n",
    "y = 7\n",
    "z = x + y\n",
    "\n",
    "# Show the value of z\n",
    "z"
   ]
  },
  {
   "cell_type": "markdown",
   "metadata": {},
   "source": [
    "Essentially, it would seem the name of a variable can be whatever we want. This is almost true. Python has some basic rules when it comes to naming variables:\n",
    "1. The variable name must start with an alphabetical character (upper of lower case)\n",
    "2. The variable name cannot contain any non-ascii characters \n",
    "    (Can contain _-()*&^%$#@! and most other characters on standard keyboard characters)\n",
    "3. The name cannot contain a space\n",
    "4. The name cannot interfere with reserved Python terms \n",
    "(ie I cannot create a variable names *type* as this would interfere with the name of the function.)"
   ]
  },
  {
   "cell_type": "markdown",
   "metadata": {},
   "source": [
    "With so much freedom naming variables can sometimes be difficult. But it is usually beneficial to name variables in a way that defines what they represent. \n",
    "\n",
    "**Question:** If I am writing a program to calculate the area of a rectangle and want to have variables to represent the length and width, which set of variable names is better? Why?\n",
    "1. a and b\n",
    "2. length and width"
   ]
  }
 ],
 "metadata": {
  "celltoolbar": "Raw Cell Format",
  "kernelspec": {
   "display_name": "Python 3",
   "language": "python",
   "name": "python3"
  },
  "language_info": {
   "codemirror_mode": {
    "name": "ipython",
    "version": 3
   },
   "file_extension": ".py",
   "mimetype": "text/x-python",
   "name": "python",
   "nbconvert_exporter": "python",
   "pygments_lexer": "ipython3",
   "version": "3.5.2"
  }
 },
 "nbformat": 4,
 "nbformat_minor": 2
}
