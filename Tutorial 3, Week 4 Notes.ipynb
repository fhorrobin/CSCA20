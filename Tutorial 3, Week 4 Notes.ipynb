{
 "cells": [
  {
   "cell_type": "markdown",
   "metadata": {
    "slideshow": {
     "slide_type": "slide"
    }
   },
   "source": [
    "# CSCA20: Lab 3, Week 4\n",
    "## Input, Strings, For Loops, Modules"
   ]
  },
  {
   "cell_type": "markdown",
   "metadata": {},
   "source": [
    "## 0. Review From Last Week"
   ]
  },
  {
   "cell_type": "markdown",
   "metadata": {},
   "source": [
    "### PEP8 and Automarker"
   ]
  },
  {
   "cell_type": "markdown",
   "metadata": {},
   "source": [
    "1. Remember to always check your code for PEP8 compliance before your submit. Any mistakes will cost you the marks for PEP8.\n",
    "2. There have been some questions about how precise things need to be for the automarker. In order to pass:\n",
    "    - File name, function names must match **exactly** as described in the handout\n",
    "    - Output must match the example output **exactly**. \n",
    "    \n",
    "This means the type must be the same and the return must match the desired output character by character. A single typo will cause you to fail that test case."
   ]
  },
  {
   "cell_type": "markdown",
   "metadata": {},
   "source": [
    "### Using Doctest to Test your Functions"
   ]
  },
  {
   "cell_type": "markdown",
   "metadata": {},
   "source": [
    "Using Doctest can increase your testing efficiency by allowing you to run tests over and over. I'll review how to format the test cases and call Doctest:"
   ]
  },
  {
   "cell_type": "code",
   "execution_count": 33,
   "metadata": {},
   "outputs": [
    {
     "name": "stdout",
     "output_type": "stream",
     "text": [
      "Trying:\n",
      "    my_func(10)\n",
      "Expecting:\n",
      "    10\n",
      "ok\n",
      "Trying:\n",
      "    my_func(5)\n",
      "Expecting:\n",
      "    5\n",
      "ok\n",
      "1 items had no tests:\n",
      "    __main__\n",
      "1 items passed all tests:\n",
      "   2 tests in __main__.my_func\n",
      "2 tests in 2 items.\n",
      "2 passed and 0 failed.\n",
      "Test passed.\n"
     ]
    }
   ],
   "source": [
    "import doctest\n",
    "\n",
    "def my_func(number):\n",
    "    \"\"\"() -> Int\n",
    "    Returns the number.\n",
    "    >>> my_func(10)\n",
    "    10\n",
    "    >>> my_func(5)\n",
    "    5\n",
    "    \"\"\"\n",
    "    return number\n",
    "\n",
    "if __name__ == \"__main__\":\n",
    "    doctest.testmod(verbose = True)"
   ]
  },
  {
   "cell_type": "markdown",
   "metadata": {},
   "source": [
    "Obviously a pretty trivial (and silly) function but it demonstrates the key points to using Doctest. The bggest advantange? When I change the code I can test it again without having to re-enter my test cases."
   ]
  },
  {
   "cell_type": "markdown",
   "metadata": {},
   "source": [
    "## 1. Input"
   ]
  },
  {
   "cell_type": "markdown",
   "metadata": {},
   "source": [
    "Sometimes we wish to get keyboard input from a user. How do we do this?"
   ]
  },
  {
   "cell_type": "code",
   "execution_count": 34,
   "metadata": {},
   "outputs": [
    {
     "name": "stdout",
     "output_type": "stream",
     "text": [
      "Hello\n"
     ]
    },
    {
     "data": {
      "text/plain": [
       "'Hello'"
      ]
     },
     "execution_count": 34,
     "metadata": {},
     "output_type": "execute_result"
    }
   ],
   "source": [
    "input()"
   ]
  },
  {
   "cell_type": "markdown",
   "metadata": {},
   "source": [
    "On it's own it doesn't really do anything that interesting though. Let's try making a small program that does something with the input. The general format for an input stement is:\n",
    "\n",
    "```Python\n",
    "input(\"prompt\")\n",
    "```\n",
    "Where ***prompt*** is the text you wish to display to the user."
   ]
  },
  {
   "cell_type": "code",
   "execution_count": 35,
   "metadata": {},
   "outputs": [
    {
     "name": "stdout",
     "output_type": "stream",
     "text": [
      "Please enter your name: Fergus\n",
      "Hello, Fergus! How are you today?\n"
     ]
    }
   ],
   "source": [
    "\"\"\"A basic program to get a user's name and print hello to them\"\"\"\n",
    "\n",
    "name = input(\"Please enter your name: \")\n",
    "print(\"Hello, %s! How are you today?\" % name)"
   ]
  },
  {
   "cell_type": "markdown",
   "metadata": {},
   "source": [
    "Storing the value to a variable is useful. Notice that the value return by ```input()``` is a string. What if we wanted a different type? Then we convert it:"
   ]
  },
  {
   "cell_type": "code",
   "execution_count": 36,
   "metadata": {},
   "outputs": [
    {
     "name": "stdout",
     "output_type": "stream",
     "text": [
      "Enter your age: 19\n"
     ]
    }
   ],
   "source": [
    "age = int(input(\"Enter your age: \"))"
   ]
  },
  {
   "cell_type": "code",
   "execution_count": 37,
   "metadata": {},
   "outputs": [
    {
     "data": {
      "text/plain": [
       "int"
      ]
     },
     "execution_count": 37,
     "metadata": {},
     "output_type": "execute_result"
    }
   ],
   "source": [
    "type(age)"
   ]
  },
  {
   "cell_type": "markdown",
   "metadata": {},
   "source": [
    "As expected we can do all the things we could do before with the input function. You may find this useful in some cases but typically in this course we will have users input directly into the function. This makes testing with the automarker easier."
   ]
  },
  {
   "cell_type": "markdown",
   "metadata": {},
   "source": [
    "## 2. Strings"
   ]
  },
  {
   "cell_type": "markdown",
   "metadata": {},
   "source": [
    "### Let's talk more about what a string is:"
   ]
  },
  {
   "cell_type": "markdown",
   "metadata": {},
   "source": [
    "A string is any sequence of characters. Unlike *float* or *int* there are few restrictions on what a string can contain."
   ]
  },
  {
   "cell_type": "markdown",
   "metadata": {},
   "source": [
    "In python there are different ways to denote strings:\n",
    "    - We can have single quotes ''\n",
    "    - Or double quotes \"\"\n",
    "    - Or we can combine three of either: ''' ''' or \"\"\" \"\"\"\n",
    "\n",
    "**Question:** Why are there different types of quotes used if they all represent strings? Are they equivalent?\n",
    "     \n",
    "     \n",
    "       Let's consider an example to see why"
   ]
  },
  {
   "cell_type": "code",
   "execution_count": 38,
   "metadata": {},
   "outputs": [
    {
     "ename": "SyntaxError",
     "evalue": "invalid syntax (<ipython-input-38-9fd9952690f3>, line 1)",
     "output_type": "error",
     "traceback": [
      "\u001b[0;36m  File \u001b[0;32m\"<ipython-input-38-9fd9952690f3>\"\u001b[0;36m, line \u001b[0;32m1\u001b[0m\n\u001b[0;31m    print(\"The student printed: \"Hello, World!\" to the screen.\")\u001b[0m\n\u001b[0m                                     ^\u001b[0m\n\u001b[0;31mSyntaxError\u001b[0m\u001b[0;31m:\u001b[0m invalid syntax\n"
     ]
    }
   ],
   "source": [
    "print(\"The student printed: \"Hello, World!\" to the screen.\")"
   ]
  },
  {
   "cell_type": "markdown",
   "metadata": {},
   "source": [
    "Here is an example where we may need multiple types of quotes. In the above code Python thinks the string finishes before hello and then a new string starts after !"
   ]
  },
  {
   "cell_type": "code",
   "execution_count": 39,
   "metadata": {},
   "outputs": [
    {
     "name": "stdout",
     "output_type": "stream",
     "text": [
      "The student printed: \"Hello World!\" to the screen.\n"
     ]
    }
   ],
   "source": [
    "print('The student printed: \"Hello World!\" to the screen.')"
   ]
  },
  {
   "cell_type": "markdown",
   "metadata": {},
   "source": [
    "If we change to a different type of quotes it works!\n",
    "\n",
    "    Note: In general, we use ''' and \"\"\" to denote special strings, such as the Docstring and use ' and \" for text."
   ]
  },
  {
   "cell_type": "markdown",
   "metadata": {},
   "source": [
    "### Indexing Strings"
   ]
  },
  {
   "cell_type": "markdown",
   "metadata": {},
   "source": [
    "We can get a particular item from a string by selecting the **index**. In Python (and many, but not all, other languages) the first character has index **0**."
   ]
  },
  {
   "cell_type": "code",
   "execution_count": 40,
   "metadata": {},
   "outputs": [
    {
     "data": {
      "text/plain": [
       "'e'"
      ]
     },
     "execution_count": 40,
     "metadata": {},
     "output_type": "execute_result"
    }
   ],
   "source": [
    "\"Hello World\"[1]"
   ]
  },
  {
   "cell_type": "markdown",
   "metadata": {},
   "source": [
    "We can also specify a range of values to select. Note that:\n",
    "    - The syntax is [n:m]\n",
    "    - n is inclusive\n",
    "    - m is exclusive\n",
    "Example:"
   ]
  },
  {
   "cell_type": "code",
   "execution_count": 44,
   "metadata": {},
   "outputs": [
    {
     "name": "stdout",
     "output_type": "stream",
     "text": [
      "ell\n",
      "0 | 1 | 2 | 3 | 4 | 5 | 6 | 7 | 8 | 9 | 10 | 11\n",
      "H | e | l | l | o |   | W | o | r | l |  d |  !\n"
     ]
    }
   ],
   "source": [
    "print(\"Hello World!\"[1:4])\n",
    "print(\"0 | 1 | 2 | 3 | 4 | 5 | 6 | 7 | 8 | 9 | 10 | 11\")\n",
    "print(\"H | e | l | l | o |   | W | o | r | l |  d |  !\")"
   ]
  },
  {
   "cell_type": "markdown",
   "metadata": {},
   "source": [
    "If we want to start from start or end of list, we need not include index. We can also count backwards from the end using index < 0. Of course, we can also operate on string variables:"
   ]
  },
  {
   "cell_type": "code",
   "execution_count": 45,
   "metadata": {},
   "outputs": [],
   "source": [
    "my_str = \"CSCA20\""
   ]
  },
  {
   "cell_type": "code",
   "execution_count": 46,
   "metadata": {},
   "outputs": [
    {
     "data": {
      "text/plain": [
       "'CS'"
      ]
     },
     "execution_count": 46,
     "metadata": {},
     "output_type": "execute_result"
    }
   ],
   "source": [
    "my_str[:2]"
   ]
  },
  {
   "cell_type": "code",
   "execution_count": 47,
   "metadata": {},
   "outputs": [
    {
     "data": {
      "text/plain": [
       "'A20'"
      ]
     },
     "execution_count": 47,
     "metadata": {},
     "output_type": "execute_result"
    }
   ],
   "source": [
    "my_str[3:]"
   ]
  },
  {
   "cell_type": "code",
   "execution_count": 48,
   "metadata": {},
   "outputs": [
    {
     "data": {
      "text/plain": [
       "'CSC'"
      ]
     },
     "execution_count": 48,
     "metadata": {},
     "output_type": "execute_result"
    }
   ],
   "source": [
    "my_str[:-3]"
   ]
  },
  {
   "cell_type": "markdown",
   "metadata": {},
   "source": [
    "And what would this do? ```[:]```"
   ]
  },
  {
   "cell_type": "code",
   "execution_count": 49,
   "metadata": {},
   "outputs": [
    {
     "data": {
      "text/plain": [
       "'CSCA20'"
      ]
     },
     "execution_count": 49,
     "metadata": {},
     "output_type": "execute_result"
    }
   ],
   "source": [
    "my_str[:]"
   ]
  },
  {
   "cell_type": "markdown",
   "metadata": {},
   "source": [
    "As expected, it returns the whole string. We'll talk more about the usefulness of this feature in a later lecture."
   ]
  },
  {
   "cell_type": "markdown",
   "metadata": {},
   "source": [
    "### String Methods"
   ]
  },
  {
   "cell_type": "markdown",
   "metadata": {},
   "source": [
    "We can also do many other useful operations on strings. To see a full list of the available methods we can use ```dir()```"
   ]
  },
  {
   "cell_type": "code",
   "execution_count": 50,
   "metadata": {},
   "outputs": [
    {
     "data": {
      "text/plain": [
       "['__add__',\n",
       " '__class__',\n",
       " '__contains__',\n",
       " '__delattr__',\n",
       " '__dir__',\n",
       " '__doc__',\n",
       " '__eq__',\n",
       " '__format__',\n",
       " '__ge__',\n",
       " '__getattribute__',\n",
       " '__getitem__',\n",
       " '__getnewargs__',\n",
       " '__gt__',\n",
       " '__hash__',\n",
       " '__init__',\n",
       " '__iter__',\n",
       " '__le__',\n",
       " '__len__',\n",
       " '__lt__',\n",
       " '__mod__',\n",
       " '__mul__',\n",
       " '__ne__',\n",
       " '__new__',\n",
       " '__reduce__',\n",
       " '__reduce_ex__',\n",
       " '__repr__',\n",
       " '__rmod__',\n",
       " '__rmul__',\n",
       " '__setattr__',\n",
       " '__sizeof__',\n",
       " '__str__',\n",
       " '__subclasshook__',\n",
       " 'capitalize',\n",
       " 'casefold',\n",
       " 'center',\n",
       " 'count',\n",
       " 'encode',\n",
       " 'endswith',\n",
       " 'expandtabs',\n",
       " 'find',\n",
       " 'format',\n",
       " 'format_map',\n",
       " 'index',\n",
       " 'isalnum',\n",
       " 'isalpha',\n",
       " 'isdecimal',\n",
       " 'isdigit',\n",
       " 'isidentifier',\n",
       " 'islower',\n",
       " 'isnumeric',\n",
       " 'isprintable',\n",
       " 'isspace',\n",
       " 'istitle',\n",
       " 'isupper',\n",
       " 'join',\n",
       " 'ljust',\n",
       " 'lower',\n",
       " 'lstrip',\n",
       " 'maketrans',\n",
       " 'partition',\n",
       " 'replace',\n",
       " 'rfind',\n",
       " 'rindex',\n",
       " 'rjust',\n",
       " 'rpartition',\n",
       " 'rsplit',\n",
       " 'rstrip',\n",
       " 'split',\n",
       " 'splitlines',\n",
       " 'startswith',\n",
       " 'strip',\n",
       " 'swapcase',\n",
       " 'title',\n",
       " 'translate',\n",
       " 'upper',\n",
       " 'zfill']"
      ]
     },
     "execution_count": 50,
     "metadata": {},
     "output_type": "execute_result"
    }
   ],
   "source": [
    "dir(str)"
   ]
  },
  {
   "cell_type": "markdown",
   "metadata": {},
   "source": [
    "Let's try a couple:"
   ]
  },
  {
   "cell_type": "code",
   "execution_count": 51,
   "metadata": {
    "collapsed": true
   },
   "outputs": [],
   "source": [
    "my_str = \"hello\""
   ]
  },
  {
   "cell_type": "code",
   "execution_count": 52,
   "metadata": {},
   "outputs": [
    {
     "data": {
      "text/plain": [
       "'HELLO'"
      ]
     },
     "execution_count": 52,
     "metadata": {},
     "output_type": "execute_result"
    }
   ],
   "source": [
    "my_str.upper()"
   ]
  },
  {
   "cell_type": "code",
   "execution_count": 53,
   "metadata": {},
   "outputs": [
    {
     "data": {
      "text/plain": [
       "True"
      ]
     },
     "execution_count": 53,
     "metadata": {},
     "output_type": "execute_result"
    }
   ],
   "source": [
    "my_str.isalpha()"
   ]
  },
  {
   "cell_type": "code",
   "execution_count": 54,
   "metadata": {},
   "outputs": [
    {
     "data": {
      "text/plain": [
       "5"
      ]
     },
     "execution_count": 54,
     "metadata": {},
     "output_type": "execute_result"
    }
   ],
   "source": [
    "len(my_str)"
   ]
  },
  {
   "cell_type": "code",
   "execution_count": 55,
   "metadata": {
    "collapsed": true
   },
   "outputs": [],
   "source": [
    "my_str = \"CSCA20 is Fun! So is programming!\""
   ]
  },
  {
   "cell_type": "code",
   "execution_count": 56,
   "metadata": {},
   "outputs": [
    {
     "data": {
      "text/plain": [
       "'CSCA08 is Fun! So is programming!'"
      ]
     },
     "execution_count": 56,
     "metadata": {},
     "output_type": "execute_result"
    }
   ],
   "source": [
    "my_str.replace(\"CSCA20\", \"CSCA08\")"
   ]
  },
  {
   "cell_type": "markdown",
   "metadata": {},
   "source": [
    "Obviously there are many more methods. Play around with them in the shell or use ```help()``` to find out what they do.\n",
    "\n",
    "Lastly let's try adding strings:"
   ]
  },
  {
   "cell_type": "code",
   "execution_count": 57,
   "metadata": {},
   "outputs": [
    {
     "data": {
      "text/plain": [
       "'CSCA20'"
      ]
     },
     "execution_count": 57,
     "metadata": {},
     "output_type": "execute_result"
    }
   ],
   "source": [
    "\"CSC\" + \"A20\""
   ]
  },
  {
   "cell_type": "markdown",
   "metadata": {},
   "source": [
    "This is called concatenation. The **+** operator is **overloaded** for strings, meaning that it has a different meaning than addition.\n",
    "\n",
    "One more interesting example:"
   ]
  },
  {
   "cell_type": "code",
   "execution_count": 58,
   "metadata": {
    "collapsed": true
   },
   "outputs": [],
   "source": [
    "my_str = \"CSCA20\""
   ]
  },
  {
   "cell_type": "code",
   "execution_count": 59,
   "metadata": {},
   "outputs": [
    {
     "data": {
      "text/plain": [
       "'CSCA20'"
      ]
     },
     "execution_count": 59,
     "metadata": {},
     "output_type": "execute_result"
    }
   ],
   "source": [
    "my_str[:3] + my_str[3:]"
   ]
  },
  {
   "cell_type": "markdown",
   "metadata": {},
   "source": [
    "We now see why they chose one index to be inclusive and one to be exclusive. The third character is not repeated."
   ]
  },
  {
   "cell_type": "markdown",
   "metadata": {},
   "source": [
    "## 3. For Loops"
   ]
  },
  {
   "cell_type": "markdown",
   "metadata": {},
   "source": [
    "Sometimes we want to go through a string character by character. Let's explore how we would do this in english, then convert it to Python. We will use the example of printing them to the sreen."
   ]
  },
  {
   "cell_type": "markdown",
   "metadata": {},
   "source": [
    "In English:\n",
    "    \n",
    "    for each character in the string\n",
    "        print the value\n",
    "        \n",
    "In Python:\n",
    "```Python\n",
    "for char in S:\n",
    "    print(char)\n",
    "```\n",
    "        \n",
    "Here *char* is a variable and *S* is the name of the string. A real working example of this:"
   ]
  },
  {
   "cell_type": "code",
   "execution_count": 60,
   "metadata": {},
   "outputs": [
    {
     "name": "stdout",
     "output_type": "stream",
     "text": [
      "C\n",
      "S\n",
      "C\n",
      "A\n",
      "2\n",
      "0\n",
      " \n",
      "R\n",
      "o\n",
      "c\n",
      "k\n",
      "s\n",
      "!\n"
     ]
    }
   ],
   "source": [
    "my_str = \"CSCA20 Rocks!\"\n",
    "\n",
    "for char in my_str:\n",
    "    print(char)"
   ]
  },
  {
   "cell_type": "markdown",
   "metadata": {},
   "source": [
    "Let's develop this a little further to see how we could use this. Let's count all the punctuation characters. "
   ]
  },
  {
   "cell_type": "code",
   "execution_count": 62,
   "metadata": {},
   "outputs": [
    {
     "name": "stdout",
     "output_type": "stream",
     "text": [
      "Trying:\n",
      "    count_punc(\"This is fun.\")\n",
      "Expecting:\n",
      "    1\n",
      "ok\n",
      "Trying:\n",
      "    count_punc(\"World\")\n",
      "Expecting:\n",
      "    0\n",
      "ok\n",
      "Trying:\n",
      "    count_punc(\"!!!!....?\")\n",
      "Expecting:\n",
      "    9\n",
      "ok\n",
      "Trying:\n",
      "    my_func(10)\n",
      "Expecting:\n",
      "    10\n",
      "ok\n",
      "Trying:\n",
      "    my_func(5)\n",
      "Expecting:\n",
      "    5\n",
      "ok\n",
      "1 items had no tests:\n",
      "    __main__\n",
      "2 items passed all tests:\n",
      "   3 tests in __main__.count_punc\n",
      "   2 tests in __main__.my_func\n",
      "5 tests in 3 items.\n",
      "5 passed and 0 failed.\n",
      "Test passed.\n"
     ]
    }
   ],
   "source": [
    "import doctest\n",
    "\n",
    "def count_punc(my_str):\n",
    "    \"\"\"(str) -> Int\n",
    "    Given a sring, this function counts the number of punctuation\n",
    "    characters. We will consider punctuation characters to be: , . ? !\n",
    "    >>> count_punc(\"This is fun.\")\n",
    "    1\n",
    "    >>> count_punc(\"World\")\n",
    "    0\n",
    "    >>> count_punc(\"!!!!....?\")\n",
    "    9\n",
    "    \"\"\"\n",
    "    # We will first define a counter to store the number. 0 initially\n",
    "    count = 0\n",
    "    \n",
    "    # Now make a string containing the punctuation characters\n",
    "    punc = \",.?!\"\n",
    "    \n",
    "    # Loop through the string\n",
    "    for char in my_str:\n",
    "        \n",
    "        # Check if it is punctuation\n",
    "        if char in punc:\n",
    "            \n",
    "            # If it is increase the counter\n",
    "            count += 1  # --> This is the same as count = count + 1\n",
    "            \n",
    "    # Return the final value of counter\n",
    "    return count\n",
    "\n",
    "if __name__ == \"__main__\":\n",
    "     doctest.testmod(verbose = True)"
   ]
  },
  {
   "cell_type": "markdown",
   "metadata": {},
   "source": [
    "Loops will be very important and useful and you will learn more types as the course progresses. Get familiar with how they work now by practicing. \n",
    "\n",
    "The idea is that the *char* variable (I can name it anything) stores the value of the 0th character on 1st iteration, then 1st, then 2nd...\n",
    "\n",
    "This way eventually you have gone through each character and performed the code within the loop on it. If you don't understand then try to go through it on a piece of paper. I can help you with this during the second part of tutorial."
   ]
  },
  {
   "cell_type": "markdown",
   "metadata": {},
   "source": [
    "## 4. Modules"
   ]
  },
  {
   "cell_type": "markdown",
   "metadata": {},
   "source": [
    "Sometimes we may wish to reuse a code file from an old file or split our programs into multiple files. This can be good for organizing large code projects as well. We call the files with functions in them we wish to use **modules**."
   ]
  },
  {
   "cell_type": "markdown",
   "metadata": {},
   "source": [
    "I have written a file (stored in the same directory as the file I'm working on right now) called **triangle.py**. I'll use a special Linux command to list (ls) the contents of my directory so you can see this.\n",
    "\n",
    "(If you don't understand the next line don't worry, it's not part of Python, I just want to show you the files in this folder without opening Finder)"
   ]
  },
  {
   "cell_type": "code",
   "execution_count": 63,
   "metadata": {},
   "outputs": [
    {
     "name": "stdout",
     "output_type": "stream",
     "text": [
      "README.md                      Tutorial 3, Week 4 Notes.ipynb\r\n",
      "Tutorial 1, Week 2 Notes.ipynb \u001b[34m__pycache__\u001b[m\u001b[m\r\n",
      "Tutorial 2, Week 3 Notes.ipynb triangle.py\r\n"
     ]
    }
   ],
   "source": [
    "!ls"
   ]
  },
  {
   "cell_type": "markdown",
   "metadata": {},
   "source": [
    "Let's **import** this file and use it."
   ]
  },
  {
   "cell_type": "code",
   "execution_count": 64,
   "metadata": {
    "collapsed": true
   },
   "outputs": [],
   "source": [
    "import triangle"
   ]
  },
  {
   "cell_type": "code",
   "execution_count": 65,
   "metadata": {},
   "outputs": [
    {
     "data": {
      "text/plain": [
       "['__builtins__',\n",
       " '__cached__',\n",
       " '__doc__',\n",
       " '__file__',\n",
       " '__loader__',\n",
       " '__name__',\n",
       " '__package__',\n",
       " '__spec__',\n",
       " 'triangle_area']"
      ]
     },
     "execution_count": 65,
     "metadata": {},
     "output_type": "execute_result"
    }
   ],
   "source": [
    "dir(triangle)"
   ]
  },
  {
   "cell_type": "markdown",
   "metadata": {},
   "source": [
    "We see, using the ```dir()``` command that it includes one function called **triangle_area**. Let's use ```help()``` to figure out how to use it and then try it. Since it is in a module called **triangle**, we must refer to it as ***triangle.triangle_area*** (We will see a way to avoid this shortly)"
   ]
  },
  {
   "cell_type": "code",
   "execution_count": 66,
   "metadata": {},
   "outputs": [
    {
     "name": "stdout",
     "output_type": "stream",
     "text": [
      "Help on function triangle_area in module triangle:\n",
      "\n",
      "triangle_area(base, height)\n",
      "    (number, number) -> float\n",
      "    This function takes in two numbers for the base and height of a\n",
      "    triangle and returns the area.\n",
      "    \n",
      "    REQ: base, height >= 0\n",
      "    \n",
      "    >>> triangle_area(10, 2)\n",
      "    10.0\n",
      "\n"
     ]
    }
   ],
   "source": [
    "help(triangle.triangle_area)"
   ]
  },
  {
   "cell_type": "markdown",
   "metadata": {},
   "source": [
    "Alright, now we should see how it works. Notice that we do not see the code (nor do we need to), all we know is what is does. Let's try it:"
   ]
  },
  {
   "cell_type": "code",
   "execution_count": 67,
   "metadata": {},
   "outputs": [
    {
     "data": {
      "text/plain": [
       "10.0"
      ]
     },
     "execution_count": 67,
     "metadata": {},
     "output_type": "execute_result"
    }
   ],
   "source": [
    "triangle.triangle_area(10, 2)"
   ]
  },
  {
   "cell_type": "markdown",
   "metadata": {},
   "source": [
    "Seems to be working well. Let's see a different way to import it so we don't have to type the ***triangle.*** part each time."
   ]
  },
  {
   "cell_type": "code",
   "execution_count": 68,
   "metadata": {
    "collapsed": true
   },
   "outputs": [],
   "source": [
    "from triangle import triangle_area"
   ]
  },
  {
   "cell_type": "code",
   "execution_count": 69,
   "metadata": {},
   "outputs": [
    {
     "data": {
      "text/plain": [
       "10.0"
      ]
     },
     "execution_count": 69,
     "metadata": {},
     "output_type": "execute_result"
    }
   ],
   "source": [
    "triangle_area(10, 2)"
   ]
  },
  {
   "cell_type": "markdown",
   "metadata": {},
   "source": [
    "Now we can use it without having to type the prefix each time. We can also import all the functions in a file using *, just be careful there are not conflicts with other fucntion names."
   ]
  },
  {
   "cell_type": "code",
   "execution_count": 70,
   "metadata": {
    "collapsed": true
   },
   "outputs": [],
   "source": [
    "from triangle import *"
   ]
  },
  {
   "cell_type": "code",
   "execution_count": 71,
   "metadata": {},
   "outputs": [
    {
     "data": {
      "text/plain": [
       "10.0"
      ]
     },
     "execution_count": 71,
     "metadata": {},
     "output_type": "execute_result"
    }
   ],
   "source": [
    "triangle_area(10, 2)"
   ]
  },
  {
   "cell_type": "markdown",
   "metadata": {},
   "source": [
    "Let's do an example of importing a couple built in modules:"
   ]
  },
  {
   "cell_type": "code",
   "execution_count": 72,
   "metadata": {
    "collapsed": true
   },
   "outputs": [],
   "source": [
    "# Import pow and sqrt from math. Safer than just saying import * because we can control conflicts\n",
    "from math import pow, sqrt"
   ]
  },
  {
   "cell_type": "code",
   "execution_count": 73,
   "metadata": {},
   "outputs": [
    {
     "data": {
      "text/plain": [
       "8.0"
      ]
     },
     "execution_count": 73,
     "metadata": {},
     "output_type": "execute_result"
    }
   ],
   "source": [
    "# Use pow to calculate 2^3\n",
    "pow(2, 3)"
   ]
  },
  {
   "cell_type": "code",
   "execution_count": 74,
   "metadata": {},
   "outputs": [
    {
     "data": {
      "text/plain": [
       "10.0"
      ]
     },
     "execution_count": 74,
     "metadata": {},
     "output_type": "execute_result"
    }
   ],
   "source": [
    "#Use sqrt to calculate sqrt(100)\n",
    "sqrt(100)"
   ]
  },
  {
   "cell_type": "markdown",
   "metadata": {},
   "source": [
    "As you see, we can import any number of functions we wish by separating them with commas. There are many more built in modules and you will see some more of them throughout the course.  "
   ]
  },
  {
   "cell_type": "markdown",
   "metadata": {},
   "source": [
    "### Key points:"
   ]
  },
  {
   "cell_type": "markdown",
   "metadata": {},
   "source": [
    "- We can use ```dir()``` in order to see the available functions in a module and ```help()``` to learn about a function.\n",
    "- We can create our own modules (place a file in the same folder and import using the file name.\n",
    "- Multiple ways to import:\n",
    "    - Simplest: **import module** --> Means we must type module.function()\n",
    "    - Preferred: **from module import func1, func2...** --> Means we can call funcions by name but have control over conflicts.\n",
    "    - Easy but careful about conflicts: **from module import ***\n",
    "    "
   ]
  }
 ],
 "metadata": {
  "kernelspec": {
   "display_name": "Python 3",
   "language": "python",
   "name": "python3"
  },
  "language_info": {
   "codemirror_mode": {
    "name": "ipython",
    "version": 3
   },
   "file_extension": ".py",
   "mimetype": "text/x-python",
   "name": "python",
   "nbconvert_exporter": "python",
   "pygments_lexer": "ipython3",
   "version": "3.5.2"
  }
 },
 "nbformat": 4,
 "nbformat_minor": 2
}
