{
 "cells": [
  {
   "cell_type": "markdown",
   "metadata": {
    "slideshow": {
     "slide_type": "slide"
    }
   },
   "source": [
    "# CSCA20: Lab 2, Week 3\n",
    "## Program Structure, Function Design, Documentation and Flow Control, Style"
   ]
  },
  {
   "cell_type": "markdown",
   "metadata": {
    "slideshow": {
     "slide_type": "slide"
    }
   },
   "source": [
    "## 0. Some Administrative Notes:"
   ]
  },
  {
   "cell_type": "markdown",
   "metadata": {
    "slideshow": {
     "slide_type": "fragment"
    }
   },
   "source": [
    "1. I will post these notes online each week. Go to: **fergus.horrobin.com/teaching.html** to view them (there is a link there to my GitHub where I post them).\n",
    "\n",
    "2. Lots of new material coming very quick at this point in course. Don't let yourself fall behind. Practice and ask questions. Practicing is the only way to get better at coding!\n",
    "\n",
    "3. If you feel like you need more help after the lecture and tutorial go to office hours. You can email me at: **fergus.horrobin@mail.utoronto.ca** if you want to arrange an appointment. "
   ]
  },
  {
   "cell_type": "markdown",
   "metadata": {
    "slideshow": {
     "slide_type": "slide"
    }
   },
   "source": [
    "## 1. Review of functions"
   ]
  },
  {
   "cell_type": "markdown",
   "metadata": {
    "slideshow": {
     "slide_type": "subslide"
    }
   },
   "source": [
    "Let's review the stucture of a function and how a function works in python:\n",
    "    - Name\n",
    "    - Parameters\n",
    "    - Return Value\n",
    "    - Calling the function"
   ]
  },
  {
   "cell_type": "markdown",
   "metadata": {
    "slideshow": {
     "slide_type": "subslide"
    }
   },
   "source": [
    "```Python\n",
    "def function_name(parameters):\n",
    "    body\n",
    "    return return_value\n",
    "```"
   ]
  },
  {
   "cell_type": "markdown",
   "metadata": {
    "slideshow": {
     "slide_type": "subslide"
    }
   },
   "source": [
    "Think of a function as a black box: You give it a value **(the parameters)** and it gives back a different value **(the return value)**. You do no neccessarily even need to know what the **body** section does...a well designed function should work as long as valid data is given to it."
   ]
  },
  {
   "cell_type": "markdown",
   "metadata": {
    "slideshow": {
     "slide_type": "slide"
    }
   },
   "source": [
    "Many of you have probably seen functions in math. These work the same way. We give the function a value and then computer the output value at that point:"
   ]
  },
  {
   "cell_type": "markdown",
   "metadata": {
    "slideshow": {
     "slide_type": "subslide"
    }
   },
   "source": [
    "$$f(x) = x^2$$\n",
    "$$f(2) = 2^2 = 4$$"
   ]
  },
  {
   "cell_type": "markdown",
   "metadata": {
    "slideshow": {
     "slide_type": "subslide"
    }
   },
   "source": [
    "In the above example we can give the function any value in the real numbers and it **returns** the square of the number. \n",
    "\n",
    "Let's convert the function above to Python as directly as possible:"
   ]
  },
  {
   "cell_type": "code",
   "execution_count": 26,
   "metadata": {
    "collapsed": true,
    "slideshow": {
     "slide_type": "slide"
    }
   },
   "outputs": [],
   "source": [
    "def f(x):\n",
    "    \"\"\"Given a real number, x, this function calculates the value of the square\"\"\"\n",
    "    return x*x"
   ]
  },
  {
   "cell_type": "code",
   "execution_count": 27,
   "metadata": {
    "slideshow": {
     "slide_type": "subslide"
    }
   },
   "outputs": [
    {
     "data": {
      "text/plain": [
       "4"
      ]
     },
     "execution_count": 27,
     "metadata": {},
     "output_type": "execute_result"
    }
   ],
   "source": [
    "f(2)"
   ]
  },
  {
   "cell_type": "markdown",
   "metadata": {
    "slideshow": {
     "slide_type": "slide"
    }
   },
   "source": [
    "This can also be written exactly following the outline I made above, separating the body and return. This is how more complicated functions will usually look:"
   ]
  },
  {
   "cell_type": "code",
   "execution_count": 43,
   "metadata": {
    "collapsed": true,
    "slideshow": {
     "slide_type": "subslide"
    }
   },
   "outputs": [],
   "source": [
    "def f(x):\n",
    "    \"\"\"Given a real number, x, this function calculates the value of the square\"\"\"\n",
    "    square = x*x\n",
    "    return square"
   ]
  },
  {
   "cell_type": "code",
   "execution_count": 44,
   "metadata": {
    "slideshow": {
     "slide_type": "subslide"
    }
   },
   "outputs": [
    {
     "data": {
      "text/plain": [
       "9"
      ]
     },
     "execution_count": 44,
     "metadata": {},
     "output_type": "execute_result"
    }
   ],
   "source": [
    "f(3)"
   ]
  },
  {
   "cell_type": "markdown",
   "metadata": {
    "slideshow": {
     "slide_type": "slide"
    }
   },
   "source": [
    "Hopefully this gives some clarity to how functions work. This will be very important as you progress in the course so please be sure to ask questions and practice now if you are not completely sure how functions work."
   ]
  },
  {
   "cell_type": "markdown",
   "metadata": {
    "slideshow": {
     "slide_type": "slide"
    }
   },
   "source": [
    "## 2. Function Design"
   ]
  },
  {
   "cell_type": "markdown",
   "metadata": {
    "slideshow": {
     "slide_type": "subslide"
    }
   },
   "source": [
    "### Motivation: \n",
    "    - Functions help to divide code into sections\n",
    "    - Functions allow you to reuse code more easily\n",
    "    - In larger programs debugging is easier with good use of functions"
   ]
  },
  {
   "cell_type": "markdown",
   "metadata": {
    "slideshow": {
     "slide_type": "slide"
    }
   },
   "source": [
    "In the last excercise, we were given all the function headers and told what to name the parameters. Now you need to learn to do this on your own. Let's review the steps of what you need to think about when designing a function:"
   ]
  },
  {
   "cell_type": "markdown",
   "metadata": {
    "slideshow": {
     "slide_type": "subslide"
    }
   },
   "source": [
    "    - What are the parameters?\n",
    "    - What does the function return?\n",
    "    - What would a call to the function look like?"
   ]
  },
  {
   "cell_type": "markdown",
   "metadata": {
    "collapsed": true,
    "slideshow": {
     "slide_type": "slide"
    }
   },
   "source": [
    "### A function to calculate the surface area of a triangle"
   ]
  },
  {
   "cell_type": "markdown",
   "metadata": {
    "slideshow": {
     "slide_type": "subslide"
    }
   },
   "source": [
    "    1. What should the parameters be? What are their types?\n",
    "    2. What type of data should the function return. What does it represent?\n",
    "    3. What does a function call look like and what does it return?\n",
    "    \n",
    "Take a moment to note down what you think these could be."
   ]
  },
  {
   "cell_type": "markdown",
   "metadata": {
    "collapsed": true,
    "slideshow": {
     "slide_type": "slide"
    }
   },
   "source": [
    "### Here is what I came up with:\n",
    "    1. Parameters: base (number), height (number)\n",
    "    2. Should return a float representing area of triangle\n",
    "    3. area_triangle(5, 4)\n",
    "       return 10\n",
    "        "
   ]
  },
  {
   "cell_type": "markdown",
   "metadata": {
    "slideshow": {
     "slide_type": "slide"
    }
   },
   "source": [
    "## 3. Documentation"
   ]
  },
  {
   "cell_type": "markdown",
   "metadata": {
    "slideshow": {
     "slide_type": "subslide"
    }
   },
   "source": [
    "Documentation is important so that others can understand what your function does and how to use it. It will also help you if you come back to a piece of code after some time of not using it."
   ]
  },
  {
   "cell_type": "markdown",
   "metadata": {
    "slideshow": {
     "slide_type": "subslide"
    }
   },
   "source": [
    "We put this information in the Documentation String (Docstring) Let's design the header and Docstring for this function. Again, take a couple minutes and see what you come up with. Try and construct the header and docstring for the triangle_area function"
   ]
  },
  {
   "cell_type": "code",
   "execution_count": 28,
   "metadata": {
    "collapsed": true,
    "slideshow": {
     "slide_type": "slide"
    }
   },
   "outputs": [],
   "source": [
    "def area_triangle(base, height):\n",
    "    \"\"\"(number, number) -> float\n",
    "        Given a value for the base and height of a triangle, return\n",
    "        a float representing the area.\n",
    "        REQ: base >= 0, height >= 0\n",
    "        \n",
    "        >>> area_triangle(5, 4)\n",
    "        10.0\n",
    "        >>> area_triangle(10, 3)\n",
    "        15.0\n",
    "    \"\"\""
   ]
  },
  {
   "cell_type": "markdown",
   "metadata": {
    "slideshow": {
     "slide_type": "subslide"
    }
   },
   "source": [
    "The above represents the header of the function. It tells the user what the function does and how to use it. It is good practice to design the Docstring before writing the code. We can see what the function does by calling help(function_name)"
   ]
  },
  {
   "cell_type": "code",
   "execution_count": 29,
   "metadata": {
    "slideshow": {
     "slide_type": "slide"
    }
   },
   "outputs": [
    {
     "name": "stdout",
     "output_type": "stream",
     "text": [
      "Help on function area_triangle in module __main__:\n",
      "\n",
      "area_triangle(base, height)\n",
      "    (number, number) -> float\n",
      "    Given a value for the base and height of a triangle, return\n",
      "    a float representing the area.\n",
      "    REQ: base >= 0, height >= 0\n",
      "    \n",
      "    >>> area_triangle(5, 4)\n",
      "    10.0\n",
      "    >>> area_triangle(10, 3)\n",
      "    15.0\n",
      "\n"
     ]
    }
   ],
   "source": [
    "help(area_triangle)"
   ]
  },
  {
   "cell_type": "code",
   "execution_count": 30,
   "metadata": {
    "collapsed": true,
    "slideshow": {
     "slide_type": "slide"
    }
   },
   "outputs": [],
   "source": [
    "def area_triangle(base, height):\n",
    "    \"\"\"(number, number) -> float\n",
    "        Given a value for the base and height of a triangle, return\n",
    "        a float representing the area.\n",
    "        REQ: base >= 0, height >= 0\n",
    "        \n",
    "        >>> area_triangle(5, 4)\n",
    "        10.0\n",
    "        >>> area_triangle(10, 3)\n",
    "        15.0\n",
    "    \"\"\"\n",
    "    return float(base * height * 0.5)"
   ]
  },
  {
   "cell_type": "markdown",
   "metadata": {
    "slideshow": {
     "slide_type": "subslide"
    }
   },
   "source": [
    "I've finished the function so that we can see how we can use the examples we wrote in the Docstring to test the function."
   ]
  },
  {
   "cell_type": "code",
   "execution_count": 31,
   "metadata": {
    "slideshow": {
     "slide_type": "slide"
    }
   },
   "outputs": [
    {
     "name": "stdout",
     "output_type": "stream",
     "text": [
      "Trying:\n",
      "    area_triangle(5, 4)\n",
      "Expecting:\n",
      "    10.0\n",
      "ok\n",
      "Trying:\n",
      "    area_triangle(10, 3)\n",
      "Expecting:\n",
      "    15.0\n",
      "ok\n",
      "Trying:\n",
      "    passed_course(50, 40)\n",
      "Expecting:\n",
      "    True\n",
      "ok\n",
      "Trying:\n",
      "    passed_course(48, 60)\n",
      "Expecting:\n",
      "    False\n",
      "ok\n",
      "Trying:\n",
      "    passed_course(80, 30)\n",
      "Expecting:\n",
      "    False\n",
      "ok\n",
      "Trying:\n",
      "    passed_course(20, 15)\n",
      "Expecting:\n",
      "    False\n",
      "ok\n",
      "2 items had no tests:\n",
      "    __main__\n",
      "    __main__.f\n",
      "2 items passed all tests:\n",
      "   2 tests in __main__.area_triangle\n",
      "   4 tests in __main__.passed_course\n",
      "6 tests in 4 items.\n",
      "6 passed and 0 failed.\n",
      "Test passed.\n"
     ]
    }
   ],
   "source": [
    "import doctest\n",
    "if __name__ == \"__main__\":\n",
    "    doctest.testmod(verbose=True)"
   ]
  },
  {
   "cell_type": "markdown",
   "metadata": {
    "slideshow": {
     "slide_type": "slide"
    }
   },
   "source": [
    "The ```__name__ == \"__main__\"``` condition makes sure the code only executes if you are running the file rather than importing it. For example, it would not cause problems with the auto-marker. "
   ]
  },
  {
   "cell_type": "markdown",
   "metadata": {
    "slideshow": {
     "slide_type": "subslide"
    }
   },
   "source": [
    "We can call the function ourselves from there too, just like we would in the terminal:"
   ]
  },
  {
   "cell_type": "code",
   "execution_count": 32,
   "metadata": {
    "collapsed": true,
    "slideshow": {
     "slide_type": "subslide"
    }
   },
   "outputs": [],
   "source": [
    "if __name__ == \"__main__\":\n",
    "    area = area_triangle(5,5)"
   ]
  },
  {
   "cell_type": "markdown",
   "metadata": {
    "slideshow": {
     "slide_type": "slide"
    }
   },
   "source": [
    "If we want to see the output, we must print it:"
   ]
  },
  {
   "cell_type": "code",
   "execution_count": 33,
   "metadata": {
    "slideshow": {
     "slide_type": "subslide"
    }
   },
   "outputs": [
    {
     "name": "stdout",
     "output_type": "stream",
     "text": [
      "12.5\n"
     ]
    }
   ],
   "source": [
    "if __name__ == \"__main__\":\n",
    "    area = area_triangle(5,5)\n",
    "    print(area)"
   ]
  },
  {
   "cell_type": "markdown",
   "metadata": {
    "slideshow": {
     "slide_type": "slide"
    }
   },
   "source": [
    "Let's combine it all in a single file to see how it works:"
   ]
  },
  {
   "cell_type": "code",
   "execution_count": 34,
   "metadata": {
    "slideshow": {
     "slide_type": "subslide"
    }
   },
   "outputs": [
    {
     "name": "stdout",
     "output_type": "stream",
     "text": [
      "Trying:\n",
      "    area_triangle(5, 4)\n",
      "Expecting:\n",
      "    10.0\n",
      "ok\n",
      "Trying:\n",
      "    area_triangle(10, 3)\n",
      "Expecting:\n",
      "    15.0\n",
      "ok\n",
      "Trying:\n",
      "    passed_course(50, 40)\n",
      "Expecting:\n",
      "    True\n",
      "ok\n",
      "Trying:\n",
      "    passed_course(48, 60)\n",
      "Expecting:\n",
      "    False\n",
      "ok\n",
      "Trying:\n",
      "    passed_course(80, 30)\n",
      "Expecting:\n",
      "    False\n",
      "ok\n",
      "Trying:\n",
      "    passed_course(20, 15)\n",
      "Expecting:\n",
      "    False\n",
      "ok\n",
      "2 items had no tests:\n",
      "    __main__\n",
      "    __main__.f\n",
      "2 items passed all tests:\n",
      "   2 tests in __main__.area_triangle\n",
      "   4 tests in __main__.passed_course\n",
      "6 tests in 4 items.\n",
      "6 passed and 0 failed.\n",
      "Test passed.\n",
      "The area of the triangle is: 12.5\n"
     ]
    }
   ],
   "source": [
    "import doctest\n",
    "\n",
    "def area_triangle(base, height):\n",
    "    \"\"\"(number, number) -> float\n",
    "        Given a value for the base and height of a triangle, return\n",
    "        a float representing the area.\n",
    "        REQ: base >= 0, height >= 0\n",
    "        \n",
    "        >>> area_triangle(5, 4)\n",
    "        10.0\n",
    "        >>> area_triangle(10, 3)\n",
    "        15.0\n",
    "    \"\"\"\n",
    "    return float(base * height * 0.5)\n",
    "\n",
    "if __name__ == \"__main__\":\n",
    "    # Perform the tests\n",
    "    doctest.testmod(verbose=True)\n",
    "    \n",
    "    # Calculate and print the area for triangle with base and height equal 5\n",
    "    area = area_triangle(5,5)\n",
    "    print(\"The area of the triangle is:\", area)\n"
   ]
  },
  {
   "cell_type": "markdown",
   "metadata": {
    "slideshow": {
     "slide_type": "slide"
    }
   },
   "source": [
    "I know that is a lot of info on functions, but it really is an important concept to understand. Being able to write your own functions well will make your code much easier to use. And documenting functions well is very important as well. Try to practice and do it properly every time you work on a lab or exercise, even if not for marks."
   ]
  },
  {
   "cell_type": "markdown",
   "metadata": {
    "slideshow": {
     "slide_type": "slide"
    }
   },
   "source": [
    "## 4. Flow Control"
   ]
  },
  {
   "cell_type": "markdown",
   "metadata": {
    "slideshow": {
     "slide_type": "subslide"
    }
   },
   "source": [
    "So far we have only written programs to do simple things. But real programs sometimes do different things depending on the data. \n",
    "\n",
    "For example, when you login to Portal the system will either accept your username and password and take you to your account or return you to the login page to tell you one of the pieces of information you entered was incorrect.\n",
    "\n",
    "We call expressions that evaluate to ```True``` or ```False``` boolean expressions. They use the boolean data type (bool)"
   ]
  },
  {
   "cell_type": "code",
   "execution_count": 35,
   "metadata": {
    "slideshow": {
     "slide_type": "slide"
    }
   },
   "outputs": [
    {
     "data": {
      "text/plain": [
       "False"
      ]
     },
     "execution_count": 35,
     "metadata": {},
     "output_type": "execute_result"
    }
   ],
   "source": [
    "# Standard Operators >, <, <=, >=\n",
    "3 > 5"
   ]
  },
  {
   "cell_type": "code",
   "execution_count": 36,
   "metadata": {
    "scrolled": true,
    "slideshow": {
     "slide_type": "subslide"
    }
   },
   "outputs": [
    {
     "data": {
      "text/plain": [
       "True"
      ]
     },
     "execution_count": 36,
     "metadata": {},
     "output_type": "execute_result"
    }
   ],
   "source": [
    "# Order of operation\n",
    "10 - 6 < 5\n",
    "# (10 - 6) < 5"
   ]
  },
  {
   "cell_type": "code",
   "execution_count": 37,
   "metadata": {
    "slideshow": {
     "slide_type": "subslide"
    }
   },
   "outputs": [
    {
     "data": {
      "text/plain": [
       "False"
      ]
     },
     "execution_count": 37,
     "metadata": {},
     "output_type": "execute_result"
    }
   ],
   "source": [
    "# Negation\n",
    "# Not(True) \n",
    "not(5 > 2)"
   ]
  },
  {
   "cell_type": "code",
   "execution_count": 38,
   "metadata": {
    "slideshow": {
     "slide_type": "subslide"
    }
   },
   "outputs": [
    {
     "data": {
      "text/plain": [
       "True"
      ]
     },
     "execution_count": 38,
     "metadata": {},
     "output_type": "execute_result"
    }
   ],
   "source": [
    "# Equality\n",
    "3 == 3"
   ]
  },
  {
   "cell_type": "markdown",
   "metadata": {
    "slideshow": {
     "slide_type": "slide"
    }
   },
   "source": [
    "We can also combine them:"
   ]
  },
  {
   "cell_type": "code",
   "execution_count": 39,
   "metadata": {
    "slideshow": {
     "slide_type": "subslide"
    }
   },
   "outputs": [
    {
     "data": {
      "text/plain": [
       "True"
      ]
     },
     "execution_count": 39,
     "metadata": {},
     "output_type": "execute_result"
    }
   ],
   "source": [
    "# True and True\n",
    "3 <= 5 and 9 > 2"
   ]
  },
  {
   "cell_type": "code",
   "execution_count": 40,
   "metadata": {
    "slideshow": {
     "slide_type": "subslide"
    }
   },
   "outputs": [
    {
     "data": {
      "text/plain": [
       "True"
      ]
     },
     "execution_count": 40,
     "metadata": {},
     "output_type": "execute_result"
    }
   ],
   "source": [
    "# False or True\n",
    "3 >= 5 or 6 > 5"
   ]
  },
  {
   "cell_type": "markdown",
   "metadata": {
    "slideshow": {
     "slide_type": "slide"
    }
   },
   "source": [
    "Note that ```True``` and ```False``` are of type **bool** NOT **string**"
   ]
  },
  {
   "cell_type": "code",
   "execution_count": 41,
   "metadata": {
    "slideshow": {
     "slide_type": "subslide"
    }
   },
   "outputs": [
    {
     "data": {
      "text/plain": [
       "bool"
      ]
     },
     "execution_count": 41,
     "metadata": {},
     "output_type": "execute_result"
    }
   ],
   "source": [
    "type(3 < 10)"
   ]
  },
  {
   "cell_type": "markdown",
   "metadata": {
    "slideshow": {
     "slide_type": "slide"
    }
   },
   "source": [
    "Let's look at an example of using boolean expression to check conditions with the ```if``` statement. "
   ]
  },
  {
   "cell_type": "markdown",
   "metadata": {
    "slideshow": {
     "slide_type": "subslide"
    }
   },
   "source": [
    "#### In English:\n",
    "    If condition 1 is true then\n",
    "        do this\n",
    "    Otherwise if condition 2 is true then\n",
    "        do this\n",
    "    Otherwise\n",
    "        do this\n",
    "        \n",
    "#### In Python\n",
    "```Python\n",
    "if condition:\n",
    "    code\n",
    "elif condition2:\n",
    "    code\n",
    "else:\n",
    "    code   \n",
    "```"
   ]
  },
  {
   "cell_type": "markdown",
   "metadata": {
    "slideshow": {
     "slide_type": "subslide"
    }
   },
   "source": [
    "Note that you must have the first line (the ```if``` condition) but the other two are optional. \n",
    "\n",
    "##### Let's look at examples."
   ]
  },
  {
   "cell_type": "code",
   "execution_count": 42,
   "metadata": {
    "slideshow": {
     "slide_type": "slide"
    }
   },
   "outputs": [
    {
     "name": "stdout",
     "output_type": "stream",
     "text": [
      "Trying:\n",
      "    area_triangle(5, 4)\n",
      "Expecting:\n",
      "    10.0\n",
      "ok\n",
      "Trying:\n",
      "    area_triangle(10, 3)\n",
      "Expecting:\n",
      "    15.0\n",
      "ok\n",
      "Trying:\n",
      "    passed_course(50, 40)\n",
      "Expecting:\n",
      "    True\n",
      "ok\n",
      "Trying:\n",
      "    passed_course(48, 60)\n",
      "Expecting:\n",
      "    False\n",
      "ok\n",
      "Trying:\n",
      "    passed_course(80, 30)\n",
      "Expecting:\n",
      "    False\n",
      "ok\n",
      "Trying:\n",
      "    passed_course(20, 15)\n",
      "Expecting:\n",
      "    False\n",
      "ok\n",
      "2 items had no tests:\n",
      "    __main__\n",
      "    __main__.f\n",
      "2 items passed all tests:\n",
      "   2 tests in __main__.area_triangle\n",
      "   4 tests in __main__.passed_course\n",
      "6 tests in 4 items.\n",
      "6 passed and 0 failed.\n",
      "Test passed.\n"
     ]
    }
   ],
   "source": [
    "def passed_course(total_mark, final_exam_mark):\n",
    "    \"\"\"(number, number) -> bool\n",
    "    This function takes in the total mark the student received in the course as well\n",
    "    as the final exam mark as numbers. It returns a boolean that is True if and only if\n",
    "    the student passed th course. To pass the course the student must get over 50% overall\n",
    "    and have achieved a score of at least 40% on the final exam.\n",
    "    \n",
    "    REQ: total_mark >= 0, final_exam_mark >= 0\n",
    "    \n",
    "    >>> passed_course(50, 40)\n",
    "    True\n",
    "    >>> passed_course(48, 60)\n",
    "    False\n",
    "    >>> passed_course(80, 30)\n",
    "    False\n",
    "    >>> passed_course(20, 15)\n",
    "    False\n",
    "    \"\"\"\n",
    "    # Check if the total mark >= 50\n",
    "    if total_mark >= 50:\n",
    "        # Check if the final_exam_mark >= 40\n",
    "        if final_exam_mark >= 40:\n",
    "            return True\n",
    "        # Otherwise final exam mark too low\n",
    "        else:\n",
    "            return False\n",
    "    # Otherwise course mark too low\n",
    "    else:\n",
    "        return False\n",
    "\n",
    "if __name__ == \"__main__\":\n",
    "    import doctest\n",
    "    doctest.testmod(verbose=True)"
   ]
  },
  {
   "cell_type": "markdown",
   "metadata": {
    "slideshow": {
     "slide_type": "slide"
    }
   },
   "source": [
    "Note that there are more elegant ways to write the above, I purposely used multiple if/else statements for clarity and to emphasize the purpose of this section."
   ]
  },
  {
   "cell_type": "markdown",
   "metadata": {
    "slideshow": {
     "slide_type": "slide"
    }
   },
   "source": [
    "## 5. Style"
   ]
  },
  {
   "cell_type": "markdown",
   "metadata": {
    "slideshow": {
     "slide_type": "subslide"
    }
   },
   "source": [
    "Starting this week we will be marking your compliance to the basic PEP8 style standard for Python. PEP8 outlines many important rules for writing well styled programs. And exhaustive list can be found online but I will outline a couple here:\n",
    "    - Must not have lines > 79 characters (red line in Wing)\n",
    "    - Must have space after # for comments (# This rather than #This)\n",
    "    - Must have spaces around operators (1 + 1 rather than 1+1)\n",
    "    - Must not have whitespaces at the end of lines\n",
    "    \n",
    "Please check your code online before submitting at http://pep8online.com/. This is an easy way to avoid losing a mark or two. "
   ]
  },
  {
   "cell_type": "markdown",
   "metadata": {
    "slideshow": {
     "slide_type": "slide"
    }
   },
   "source": [
    "Beyond the PEP8 standards there are other stylistic things your should keep in mind when programming. You want to write code you can read and that others can understand easily. More on this in the coming weeks as assignments will be marked on this. Bu try to keep this in mind when writing code. \n",
    "\n",
    "Things I have mentioned so far for good style:\n",
    "    - Use good variable names that make sense\n",
    "    - Split things into smaller steps/shorter lines\n",
    "    - Add comments\n",
    "    - Wrtie a good Docstring"
   ]
  }
 ],
 "metadata": {
  "kernelspec": {
   "display_name": "Python 3",
   "language": "python",
   "name": "python3"
  },
  "language_info": {
   "codemirror_mode": {
    "name": "ipython",
    "version": 3
   },
   "file_extension": ".py",
   "mimetype": "text/x-python",
   "name": "python",
   "nbconvert_exporter": "python",
   "pygments_lexer": "ipython3",
   "version": "3.5.2"
  }
 },
 "nbformat": 4,
 "nbformat_minor": 2
}
