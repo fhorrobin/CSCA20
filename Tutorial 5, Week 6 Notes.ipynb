{
 "cells": [
  {
   "cell_type": "markdown",
   "metadata": {},
   "source": [
    "# CSCA20: Lab 5, Week 6\n",
    "## More examples of Lists and For loops, While loops, Writing Programs, Debugging"
   ]
  },
  {
   "cell_type": "markdown",
   "metadata": {},
   "source": [
    "## 1. More Examples of Using Lists with for Loops"
   ]
  },
  {
   "cell_type": "markdown",
   "metadata": {},
   "source": [
    "### Mutating Lists"
   ]
  },
  {
   "cell_type": "markdown",
   "metadata": {},
   "source": [
    "As you saw in Ex 4, sometimes it is desireable to mutate a list instead of creating a copy and returning it. Before we see an example of a function that does this, let's look at what mutating a list does and how it works."
   ]
  },
  {
   "cell_type": "code",
   "execution_count": 1,
   "metadata": {
    "collapsed": true
   },
   "outputs": [],
   "source": [
    "L = [\"A\", \"B\", \"C\"]"
   ]
  },
  {
   "cell_type": "markdown",
   "metadata": {},
   "source": [
    "In memory, we can think of how L is stored as something like this:\n",
    "\n",
    "\n",
    "| Id | Value   ||||||| | Variable | --> | Id |\n",
    "|------|------|-|-|-|-|-|-|-|-----------|----|----|\n",
    "| 1 | \"A\" | ||||||| L |--> | 4\n",
    "| 2 | \"B\" |\n",
    "| 3 | \"C\" |\n",
    "| 4 | [id1, id2, id3] |\n"
   ]
  },
  {
   "cell_type": "markdown",
   "metadata": {},
   "source": [
    "Let's try changing L and look at what happens in our memory model."
   ]
  },
  {
   "cell_type": "code",
   "execution_count": 2,
   "metadata": {
    "collapsed": true
   },
   "outputs": [],
   "source": [
    "L = [\"D\", \"E\", \"F\"]"
   ]
  },
  {
   "cell_type": "markdown",
   "metadata": {},
   "source": [
    "| Id | Value   ||||||| | Variable | --> | Id |\n",
    "|------|------|-|-|-|-|-|-|-|-----------|----|----|\n",
    "| 1 | \"A\" | ||||||| L |-X-> | 4\n",
    "| 2 | \"B\" | ||||||| L | --> | 8\n",
    "| 3 | \"C\" |\n",
    "| 4 | [id1, id2, id3] |\n",
    "| 5 | \"D\" |\n",
    "| 6 | \"E\" |\n",
    "| 7 | \"F\" |\n",
    "| 8 | [id5, id6, id7] |\n",
    "\n",
    "We see that this makes a copy. So we can't just assign a new list to update it. We will now see we have to look at it component wise to do this."
   ]
  },
  {
   "cell_type": "code",
   "execution_count": 3,
   "metadata": {
    "collapsed": true
   },
   "outputs": [],
   "source": [
    "L[0] = \"G\"\n",
    "L[1] = \"H\""
   ]
  },
  {
   "cell_type": "markdown",
   "metadata": {},
   "source": [
    "| Id | Value   ||||||| | Variable | --> | Id |\n",
    "|------|------|-|-|-|-|-|-|-|-----------|----|----|\n",
    "| 1 | \"A\" | ||||||| L |-X-> | 4\n",
    "| 2 | \"B\" | ||||||| L | --> | 8\n",
    "| 3 | \"C\" |\n",
    "| 4 | [id1, id2, id3] |\n",
    "| 5 | \"D\" |\n",
    "| 6 | \"E\" |\n",
    "| 7 | \"F\" |\n",
    "| 8 | [~~id5~~ id9, ~~id6~~ id10, id7] |\n",
    "| 9 | \"G\" |\n",
    "| 10 | \"H\" |"
   ]
  },
  {
   "cell_type": "markdown",
   "metadata": {},
   "source": [
    "Now L still refers to the same object but the values contained within it have changed. I hope that this helps to provide a bit more clarity as to how changing the values of a list works. Let's look at examples of how to change the elements of a list using loops.\n",
    "\n",
    "As you may have encounteres during Ex 4, you have to loop through a certain way to change the original list. We will try 2 ways and see what works:"
   ]
  },
  {
   "cell_type": "code",
   "execution_count": 4,
   "metadata": {},
   "outputs": [
    {
     "name": "stdout",
     "output_type": "stream",
     "text": [
      "['G', 'H', 'F']\n",
      "['New2', 'New2', 'New2']\n"
     ]
    }
   ],
   "source": [
    "# Method 1\n",
    "for item in L:\n",
    "    item = \"New1\"\n",
    "    \n",
    "print(L)\n",
    "\n",
    "# Method 2\n",
    "for i in range(len(L)):\n",
    "    L[i] = \"New2\"\n",
    "    \n",
    "print(L)"
   ]
  },
  {
   "cell_type": "markdown",
   "metadata": {},
   "source": [
    "As you can see, only the second way updates the original list. This is because we have to explicitly reference the index to update the list. \n",
    "\n",
    "Now we will make a function that does not return anything and instead updates the list."
   ]
  },
  {
   "cell_type": "code",
   "execution_count": 5,
   "metadata": {
    "collapsed": true
   },
   "outputs": [],
   "source": [
    "def list_avg(L):\n",
    "    \"\"\"List of list of str -> None\n",
    "    Given a list containing lists of numbers as strings, replace the element of the\n",
    "    list with the average of the elements of the sublist.\n",
    "    \"\"\"\n",
    "    # Loop through the outer list\n",
    "    for i in range(len(L)):\n",
    "        # keep track of the sum\n",
    "        tot = 0\n",
    "        \n",
    "        # Go through the inner list\n",
    "        for item in L[i]:\n",
    "            tot += float(item)\n",
    "        \n",
    "        # Replace the component of L with the average\n",
    "        L[i] = tot/len(L[i])"
   ]
  },
  {
   "cell_type": "code",
   "execution_count": 6,
   "metadata": {},
   "outputs": [
    {
     "data": {
      "text/plain": [
       "[3.0, 5.0]"
      ]
     },
     "execution_count": 6,
     "metadata": {},
     "output_type": "execute_result"
    }
   ],
   "source": [
    "# Now test it\n",
    "L = [[\"1\", \"3\", \"5\"], [\"3\", \"7\"]]\n",
    "list_avg(L)\n",
    "L"
   ]
  },
  {
   "cell_type": "markdown",
   "metadata": {},
   "source": [
    "As we wanted to do, we have created a funtion that creates a list of averages without ever creating a new copy of the list. \n",
    "\n",
    "You'll notice I used both types of for loops here. I could easily have used either type for the inner loop but I did it how I thought it was most convenient. What's important here is that you must use the indexing loop for the outer loop so that you can replace the item in the list."
   ]
  },
  {
   "cell_type": "markdown",
   "metadata": {},
   "source": [
    "Now let's look at an example of how we can combine multiple functions to accomplish a task. \n",
    "\n",
    "I will write a new function that takes a list of students, a list of lists of grades for each student and a student to look for and then returns the average that student achieved."
   ]
  },
  {
   "cell_type": "code",
   "execution_count": 7,
   "metadata": {
    "collapsed": true
   },
   "outputs": [],
   "source": [
    "def student_avg(s_list, m_list, student):\n",
    "    \"\"\"\n",
    "    (lst of str, lst of lst of number, str) -> (str, float)\n",
    "    Given a list of names of students, the list containing the lists of\n",
    "    their marks and the name of a student to look for, return the\n",
    "    name of the student with their average mark.\n",
    "    \"\"\"\n",
    "    # First use the function I wrote above to convert the list\n",
    "    # Of marks to a list of average marks\n",
    "    list_avg(m_list)\n",
    "    \n",
    "    # Now find the student\n",
    "    index = s_list.index(student)\n",
    "    \n",
    "    return (student, m_list[index])"
   ]
  },
  {
   "cell_type": "code",
   "execution_count": 8,
   "metadata": {},
   "outputs": [
    {
     "data": {
      "text/plain": [
       "('Anna', 12.0)"
      ]
     },
     "execution_count": 8,
     "metadata": {},
     "output_type": "execute_result"
    }
   ],
   "source": [
    "# Now test the function\n",
    "student_avg([\"Bob\", \"Joe\", \"Anna\"], [[10, 12, 8], [11, 2, 4], [13, 14, 9]], \"Anna\")"
   ]
  },
  {
   "cell_type": "markdown",
   "metadata": {},
   "source": [
    "The main idea here is that by using the function I had already written I can write this function in very little code. You generally want to avaoid repeating code that accomplishes the same task. This is one of the main things functions are for."
   ]
  },
  {
   "cell_type": "markdown",
   "metadata": {},
   "source": [
    "## 2. While Loops"
   ]
  },
  {
   "cell_type": "markdown",
   "metadata": {},
   "source": [
    "We will now look at another type of loop we can use in Python. Before we use it, let's see the syntax and think about what it might be used for.\n",
    "\n",
    "```Python\n",
    "while (condition):\n",
    "    # Code here\n",
    "```\n",
    "\n",
    "The condition is a boolean condition like the ones we use with if statements. The use of the while loop is generally for iteration when we don't know how many iterations we need to do but we know when we want to stop. \n",
    "\n",
    "One thing to think about while you do questions is that you can always use a for loop or a while loop to accomplish the same task but one is usually better suited to it. Try and notice when you should use one rather than the other.\n",
    "\n",
    "Now let's look at some simple examples."
   ]
  },
  {
   "cell_type": "markdown",
   "metadata": {},
   "source": [
    "Be careful not to do something like this:\n",
    "\n",
    "```Python\n",
    "while (True):\n",
    "    # Code\n",
    "```\n",
    "\n",
    "If your condition is always True, you get stuck in an infinite loop. When this happens you have to restart your python shell or else the program will never stop running!"
   ]
  },
  {
   "cell_type": "code",
   "execution_count": 9,
   "metadata": {},
   "outputs": [
    {
     "name": "stdout",
     "output_type": "stream",
     "text": [
      "10\n",
      "9\n",
      "8\n",
      "7\n",
      "6\n",
      "5\n",
      "4\n",
      "3\n",
      "2\n",
      "1\n"
     ]
    }
   ],
   "source": [
    "# Countdown\n",
    "\n",
    "# Set starting number\n",
    "init = 10\n",
    "\n",
    "while init > 0:\n",
    "    print(init)\n",
    "    init -= 1"
   ]
  },
  {
   "cell_type": "markdown",
   "metadata": {},
   "source": [
    "Notice that if I had forgotten the line **init -= 1** this would be an infinite loop. This is the type of thing you must be careful about.\n",
    "\n",
    "Let's see an example of using while to get user input. This also combines many things we have learned into a more complicated function so try to follow along with what it is doing. You can go see the code later if you want to review it or have questions."
   ]
  },
  {
   "cell_type": "code",
   "execution_count": 10,
   "metadata": {},
   "outputs": [],
   "source": [
    "def number_avg():\n",
    "    \"\"\"\n",
    "    Takes input as numbers from the user. Divide lists of lists with /,\n",
    "    Stops getting input when 0 is entered. Then returns the average.\n",
    "    \"\"\"\n",
    "    inputs = []    \n",
    "    sub = []\n",
    "    \n",
    "    # Store whether input was 0\n",
    "    input0 = False\n",
    "    \n",
    "    # Iterate while input0 is false\n",
    "    while not input0:\n",
    "        # Get the input - Convert to float\n",
    "        get = input(\"Enter number: \")\n",
    "        \n",
    "        # Check if we are ending sublist\n",
    "        if get == \"/\":\n",
    "            inputs.append(sub)\n",
    "            sub = []\n",
    "        else:\n",
    "            # Convert input to float\n",
    "            get = float(get)\n",
    "        \n",
    "            # Check if finished getting input\n",
    "            if get == 0:\n",
    "                input0 = True\n",
    "                inputs.append(sub)\n",
    "            else:\n",
    "                sub.append(get)\n",
    "      \n",
    "    # Use function we wrote earlier to take avg then return list\n",
    "    list_avg(inputs)\n",
    "    return inputs\n",
    "        "
   ]
  },
  {
   "cell_type": "code",
   "execution_count": 11,
   "metadata": {},
   "outputs": [
    {
     "name": "stdout",
     "output_type": "stream",
     "text": [
      "Enter number: 10\n",
      "Enter number: 20\n",
      "Enter number: 0\n"
     ]
    },
    {
     "data": {
      "text/plain": [
       "[15.0]"
      ]
     },
     "execution_count": 11,
     "metadata": {},
     "output_type": "execute_result"
    }
   ],
   "source": [
    "# Test the function\n",
    "number_avg()"
   ]
  },
  {
   "cell_type": "markdown",
   "metadata": {},
   "source": [
    "As you see, using the while loop allows us to perform an arbitrary number of iterations. Practice deciding which type of loop is best for a given task.\n",
    "\n",
    "I said before you could do anything with either loop. Let's try going through a list with a while loop."
   ]
  },
  {
   "cell_type": "code",
   "execution_count": 12,
   "metadata": {},
   "outputs": [
    {
     "name": "stdout",
     "output_type": "stream",
     "text": [
      "[100, 400, 900, 1600]\n"
     ]
    }
   ],
   "source": [
    "L = [10, 20, 30, 40]\n",
    "\n",
    "# Set the item to start at\n",
    "counter = 0\n",
    "while counter < len(L):\n",
    "    L[counter] = L[counter]**2\n",
    "    \n",
    "    # Remember to increment counter or else you get infinite loop!\n",
    "    counter += 1\n",
    "    \n",
    "print(L)"
   ]
  },
  {
   "cell_type": "markdown",
   "metadata": {},
   "source": [
    "So even though you can do it, it's not quite as nice as the for loop is. They both mean the same thing really to Python though so the code works equally well.\n",
    "\n",
    "Note that you can have multiple conditions for a while loop using the boolean operators. For example:"
   ]
  },
  {
   "cell_type": "code",
   "execution_count": 13,
   "metadata": {},
   "outputs": [
    {
     "name": "stdout",
     "output_type": "stream",
     "text": [
      "Enter the code: 1\n",
      "Enter the code: 2\n",
      "Enter the code: /\n",
      "Number of incorrect entries exceeded\n"
     ]
    }
   ],
   "source": [
    "MAX_TRIES = 3\n",
    "code = \"ABC\"\n",
    "tries = 0\n",
    "\n",
    "entry = \"\"\n",
    "\n",
    "while entry != code and tries < MAX_TRIES:\n",
    "    # Get the entry and increment the number of entries\n",
    "    entry = input(\"Enter the code: \")\n",
    "    tries += 1\n",
    "    \n",
    "if entry == code:\n",
    "    print(\"You entered the code correctly\")\n",
    "else:\n",
    "    print(\"Number of incorrect entries exceeded\")"
   ]
  },
  {
   "cell_type": "markdown",
   "metadata": {},
   "source": [
    "### Quick Review"
   ]
  },
  {
   "cell_type": "markdown",
   "metadata": {},
   "source": [
    "**3 ways we use loops:**\n",
    "\n",
    "*for* loop by item\n",
    " - Good when you just want to visit each item in a list but don't need to change it or know it's index\n",
    "```Python\n",
    "for item in L:\n",
    "    # Code here\n",
    "```\n",
    "\n",
    "*for* loop by index\n",
    " - Good when you want to go through items in list but want to change them or know their index\n",
    "```Python\n",
    "for i in range(len(L)):\n",
    "    # Code here\n",
    "```\n",
    "\n",
    "*while* loop\n",
    " - Good for when you don't know how many times you need to iterate\n",
    "```Python\n",
    "while condition:\n",
    "    # Code here\n",
    "````\n"
   ]
  },
  {
   "cell_type": "markdown",
   "metadata": {},
   "source": [
    "## 3/4 Writing Programs and Debugging"
   ]
  },
  {
   "cell_type": "markdown",
   "metadata": {},
   "source": [
    "I'll show you some quick examples of what we mean by writing a program. I'll do this in a code file in wing so that you can see how your complete programs would look. \n",
    "\n",
    "Afterwards I'll review how to use the debugger so that you can try it out in the lab today. The debugger is useful for narrowing down where your error is while you are testing your functions. "
   ]
  },
  {
   "cell_type": "markdown",
   "metadata": {},
   "source": [
    "My program will use the function from Ex 4. I'll post my program code so that you can download and run it with your Ex 4 code if you wish. "
   ]
  },
  {
   "cell_type": "code",
   "execution_count": null,
   "metadata": {
    "collapsed": true
   },
   "outputs": [],
   "source": []
  }
 ],
 "metadata": {
  "kernelspec": {
   "display_name": "Python 3",
   "language": "python",
   "name": "python3"
  },
  "language_info": {
   "codemirror_mode": {
    "name": "ipython",
    "version": 3
   },
   "file_extension": ".py",
   "mimetype": "text/x-python",
   "name": "python",
   "nbconvert_exporter": "python",
   "pygments_lexer": "ipython3",
   "version": "3.5.2"
  }
 },
 "nbformat": 4,
 "nbformat_minor": 2
}
